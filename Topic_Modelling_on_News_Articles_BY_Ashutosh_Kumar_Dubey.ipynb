{
  "nbformat": 4,
  "nbformat_minor": 0,
  "metadata": {
    "colab": {
      "provenance": [],
      "authorship_tag": "ABX9TyPsfpdBsFcTQMOGX3XVUcOK",
      "include_colab_link": true
    },
    "kernelspec": {
      "name": "python3",
      "display_name": "Python 3"
    },
    "language_info": {
      "name": "python"
    }
  },
  "cells": [
    {
      "cell_type": "markdown",
      "metadata": {
        "id": "view-in-github",
        "colab_type": "text"
      },
      "source": [
        "<a href=\"https://colab.research.google.com/github/AshutoshKumarDubey/Topic_modeling_on_news_Articles/blob/main/Topic_Modelling_on_News_Articles_BY_Ashutosh_Kumar_Dubey.ipynb\" target=\"_parent\"><img src=\"https://colab.research.google.com/assets/colab-badge.svg\" alt=\"Open In Colab\"/></a>"
      ]
    },
    {
      "cell_type": "markdown",
      "source": [
        "# **Let's Begin!**"
      ],
      "metadata": {
        "id": "q7ofLHc-li5O"
      }
    },
    {
      "cell_type": "markdown",
      "source": [
        "## **Importing Neccessary Modules**\n",
        "\n",
        "Now in this section we'll import all the neccessary libraries and packages we'll require to develop the required model."
      ],
      "metadata": {
        "id": "Py-tIwCdcdB6"
      }
    },
    {
      "cell_type": "code",
      "source": [
        "# importing os module\n",
        "import os\n",
        "\n",
        "# importing CountVectorizer for feature extraction\n",
        "from sklearn.feature_extraction.text import CountVectorizer\n",
        "\n",
        "# Importing data manipulation libraries\n",
        "import numpy as np\n",
        "import pandas as pd\n",
        "\n",
        "# importing tqdm and display modules for progress meters/bars\n",
        "from IPython.display import display\n",
        "from tqdm import tqdm\n",
        "\n",
        "# importing wordcloud to represent topics wordcloud\n",
        "from wordcloud import WordCloud\n",
        "\n",
        "# Model selection modules\n",
        "from sklearn.model_selection import GridSearchCV\n",
        "\n",
        "# Importing Counter\n",
        "from collections import Counter\n",
        "\n",
        "# import ast(abstract syntax tree)\n",
        "import ast\n",
        "\n",
        "# importing data visualization modules\n",
        "import matplotlib.pyplot as plt\n",
        "import seaborn as sns\n",
        "\n",
        "# importing mlab for implementing MATLAB functions\n",
        "import matplotlib.mlab as mlab\n",
        "\n",
        "# importing statistics module\n",
        "import scipy.stats as stats\n",
        "\n",
        "# importing TSNE for data exploration and visualizing high-dimensional data\n",
        "from sklearn.manifold import TSNE\n",
        "\n",
        "# importing decomposition modules\n",
        "from sklearn.decomposition import TruncatedSVD\n",
        "from sklearn.decomposition import LatentDirichletAllocation\n",
        "\n",
        "# importing Natural Language Toolkit and other NLP modules\n",
        "import nltk\n",
        "from nltk.stem import WordNetLemmatizer\n",
        "from textblob import TextBlob, Word\n",
        "\n",
        "# importing countVectorizer for text vectorization\n",
        "from sklearn.feature_extraction.text import CountVectorizer\n",
        "\n",
        "# Importing warnings library. The warnings module handles warnings in Python.\n",
        "import warnings\n",
        "warnings.filterwarnings('ignore')"
      ],
      "metadata": {
        "id": "S3xTSw1Y7kQl"
      },
      "execution_count": null,
      "outputs": []
    },
    {
      "cell_type": "code",
      "source": [
        "# Mounting the Google Drive to access data.\n",
        "from google.colab import drive\n",
        "drive.mount('/content/drive')"
      ],
      "metadata": {
        "colab": {
          "base_uri": "https://localhost:8080/"
        },
        "id": "tKGurf9N8bA-",
        "outputId": "fbb75e5e-63fa-4259-af2a-8ef6b1157e73"
      },
      "execution_count": null,
      "outputs": [
        {
          "output_type": "stream",
          "name": "stdout",
          "text": [
            "Mounted at /content/drive\n"
          ]
        }
      ]
    },
    {
      "cell_type": "markdown",
      "source": [
        "**Note:-** The dataset in this case isn't collective, its been stored in form of numerous text files sub-categorized in 5 different domains. Hence, for loading the data we'll visit all text files individually and copy all articles to a dataframe along with their category."
      ],
      "metadata": {
        "id": "ZANJ_1_Nimg0"
      }
    },
    {
      "cell_type": "code",
      "execution_count": null,
      "metadata": {
        "id": "m-hCbznIbGFH"
      },
      "outputs": [],
      "source": [
        "# The variable \"directory\" holds the address of text files stored in drive\n",
        "directory = '/content/drive/MyDrive/bbc'\n",
        "\n",
        "# All 5 sub-categories provided\n",
        "subdirs = ['business', 'entertainment', 'politics', 'sport', 'tech']\n",
        "\n",
        "# Create dataframe for gathering the articles\n",
        "bbc = pd.DataFrame()\n",
        " \n",
        "# Iterate over sub-directories to access the text files\n",
        "for subdir in subdirs:\n",
        "\n",
        "  # address to the subdirectory\n",
        "  dir = directory + '/' + subdir\n",
        "\n",
        "  # Iterate over all the text files present in a sub-directory\n",
        "  for filename in os.listdir(dir):\n",
        "    \n",
        "    # Get file address\n",
        "    filepath = os.path.join(dir, filename)\n",
        "\n",
        "    # Traversing over text files and storing the articles into the dataframe\n",
        "    try:\n",
        "      data = open(filepath,'r').read()\n",
        "\n",
        "      # escape characters to be ignored in the text\n",
        "      escape = ['\\n']\n",
        "      \n",
        "      # removing escape characters from text\n",
        "      for elem in escape:\n",
        "        data = data.replace(elem, ' ')\n",
        "      \n",
        "      # Storing article to the dataframe\n",
        "      dict1 = {'Filename': filename.split('.')[0], 'Contents': data.lower(), 'Category':subdir}\n",
        "      bbc = bbc.append(dict1, ignore_index=True, verify_integrity = True)\n",
        "\n",
        "    # Ignore exception, if any\n",
        "    except:\n",
        "      pass    "
      ]
    },
    {
      "cell_type": "markdown",
      "source": [
        "## **Understanding the Data**\n",
        "\n",
        "Now we'll gather the data files and perform some basic operations to understand the data and how we can process it to improve the model performance. We will also apply some basic EDA to better understand the data."
      ],
      "metadata": {
        "id": "Y-KkExF3hhUw"
      }
    },
    {
      "cell_type": "markdown",
      "source": [
        "**The dataset contains a set of news articles for each major segment consisting of business, entertainment, politics, sports and technology.**\n",
        "There are over 2000 news article available in these categories.\n",
        "\n",
        "Note:- There was a particular file in this dataset which was formatted differently from the rest of the files, hence while reading the data, the text formatting was throwing an exception. For such case we have neglected the file altogether, since the case was relevant to only a single file. "
      ],
      "metadata": {
        "id": "Zo68-whLyer2"
      }
    },
    {
      "cell_type": "code",
      "source": [
        "# Display dataframe\n",
        "bbc"
      ],
      "metadata": {
        "id": "sU3w_jL3zL9g",
        "colab": {
          "base_uri": "https://localhost:8080/",
          "height": 424
        },
        "outputId": "db1909c0-09be-4222-9a57-29a6c212f1bc"
      },
      "execution_count": null,
      "outputs": [
        {
          "output_type": "execute_result",
          "data": {
            "text/plain": [
              "     Filename                                           Contents  Category\n",
              "0         472  china suspends 26 power projects  china has or...  business\n",
              "1         510  lacroix label bought by us firm  luxury goods ...  business\n",
              "2         509  euro firms miss out on optimism  more than 90%...  business\n",
              "3         486  india's reliance family feud heats up  the ong...  business\n",
              "4         506  trial begins of spain's top banker  the trial ...  business\n",
              "...       ...                                                ...       ...\n",
              "2219      002  china net cafe culture crackdown  chinese auth...      tech\n",
              "2220      016  global blogger action day called  the global w...      tech\n",
              "2221      036  microsoft seeking spyware trojan  microsoft is...      tech\n",
              "2222      017  finding new homes for old phones  re-using old...      tech\n",
              "2223      029  open source leaders slam patents  the war of w...      tech\n",
              "\n",
              "[2224 rows x 3 columns]"
            ],
            "text/html": [
              "\n",
              "  <div id=\"df-17bacb74-1298-4f8e-80e5-8b029bae7aa7\">\n",
              "    <div class=\"colab-df-container\">\n",
              "      <div>\n",
              "<style scoped>\n",
              "    .dataframe tbody tr th:only-of-type {\n",
              "        vertical-align: middle;\n",
              "    }\n",
              "\n",
              "    .dataframe tbody tr th {\n",
              "        vertical-align: top;\n",
              "    }\n",
              "\n",
              "    .dataframe thead th {\n",
              "        text-align: right;\n",
              "    }\n",
              "</style>\n",
              "<table border=\"1\" class=\"dataframe\">\n",
              "  <thead>\n",
              "    <tr style=\"text-align: right;\">\n",
              "      <th></th>\n",
              "      <th>Filename</th>\n",
              "      <th>Contents</th>\n",
              "      <th>Category</th>\n",
              "    </tr>\n",
              "  </thead>\n",
              "  <tbody>\n",
              "    <tr>\n",
              "      <th>0</th>\n",
              "      <td>472</td>\n",
              "      <td>china suspends 26 power projects  china has or...</td>\n",
              "      <td>business</td>\n",
              "    </tr>\n",
              "    <tr>\n",
              "      <th>1</th>\n",
              "      <td>510</td>\n",
              "      <td>lacroix label bought by us firm  luxury goods ...</td>\n",
              "      <td>business</td>\n",
              "    </tr>\n",
              "    <tr>\n",
              "      <th>2</th>\n",
              "      <td>509</td>\n",
              "      <td>euro firms miss out on optimism  more than 90%...</td>\n",
              "      <td>business</td>\n",
              "    </tr>\n",
              "    <tr>\n",
              "      <th>3</th>\n",
              "      <td>486</td>\n",
              "      <td>india's reliance family feud heats up  the ong...</td>\n",
              "      <td>business</td>\n",
              "    </tr>\n",
              "    <tr>\n",
              "      <th>4</th>\n",
              "      <td>506</td>\n",
              "      <td>trial begins of spain's top banker  the trial ...</td>\n",
              "      <td>business</td>\n",
              "    </tr>\n",
              "    <tr>\n",
              "      <th>...</th>\n",
              "      <td>...</td>\n",
              "      <td>...</td>\n",
              "      <td>...</td>\n",
              "    </tr>\n",
              "    <tr>\n",
              "      <th>2219</th>\n",
              "      <td>002</td>\n",
              "      <td>china net cafe culture crackdown  chinese auth...</td>\n",
              "      <td>tech</td>\n",
              "    </tr>\n",
              "    <tr>\n",
              "      <th>2220</th>\n",
              "      <td>016</td>\n",
              "      <td>global blogger action day called  the global w...</td>\n",
              "      <td>tech</td>\n",
              "    </tr>\n",
              "    <tr>\n",
              "      <th>2221</th>\n",
              "      <td>036</td>\n",
              "      <td>microsoft seeking spyware trojan  microsoft is...</td>\n",
              "      <td>tech</td>\n",
              "    </tr>\n",
              "    <tr>\n",
              "      <th>2222</th>\n",
              "      <td>017</td>\n",
              "      <td>finding new homes for old phones  re-using old...</td>\n",
              "      <td>tech</td>\n",
              "    </tr>\n",
              "    <tr>\n",
              "      <th>2223</th>\n",
              "      <td>029</td>\n",
              "      <td>open source leaders slam patents  the war of w...</td>\n",
              "      <td>tech</td>\n",
              "    </tr>\n",
              "  </tbody>\n",
              "</table>\n",
              "<p>2224 rows × 3 columns</p>\n",
              "</div>\n",
              "      <button class=\"colab-df-convert\" onclick=\"convertToInteractive('df-17bacb74-1298-4f8e-80e5-8b029bae7aa7')\"\n",
              "              title=\"Convert this dataframe to an interactive table.\"\n",
              "              style=\"display:none;\">\n",
              "        \n",
              "  <svg xmlns=\"http://www.w3.org/2000/svg\" height=\"24px\"viewBox=\"0 0 24 24\"\n",
              "       width=\"24px\">\n",
              "    <path d=\"M0 0h24v24H0V0z\" fill=\"none\"/>\n",
              "    <path d=\"M18.56 5.44l.94 2.06.94-2.06 2.06-.94-2.06-.94-.94-2.06-.94 2.06-2.06.94zm-11 1L8.5 8.5l.94-2.06 2.06-.94-2.06-.94L8.5 2.5l-.94 2.06-2.06.94zm10 10l.94 2.06.94-2.06 2.06-.94-2.06-.94-.94-2.06-.94 2.06-2.06.94z\"/><path d=\"M17.41 7.96l-1.37-1.37c-.4-.4-.92-.59-1.43-.59-.52 0-1.04.2-1.43.59L10.3 9.45l-7.72 7.72c-.78.78-.78 2.05 0 2.83L4 21.41c.39.39.9.59 1.41.59.51 0 1.02-.2 1.41-.59l7.78-7.78 2.81-2.81c.8-.78.8-2.07 0-2.86zM5.41 20L4 18.59l7.72-7.72 1.47 1.35L5.41 20z\"/>\n",
              "  </svg>\n",
              "      </button>\n",
              "      \n",
              "  <style>\n",
              "    .colab-df-container {\n",
              "      display:flex;\n",
              "      flex-wrap:wrap;\n",
              "      gap: 12px;\n",
              "    }\n",
              "\n",
              "    .colab-df-convert {\n",
              "      background-color: #E8F0FE;\n",
              "      border: none;\n",
              "      border-radius: 50%;\n",
              "      cursor: pointer;\n",
              "      display: none;\n",
              "      fill: #1967D2;\n",
              "      height: 32px;\n",
              "      padding: 0 0 0 0;\n",
              "      width: 32px;\n",
              "    }\n",
              "\n",
              "    .colab-df-convert:hover {\n",
              "      background-color: #E2EBFA;\n",
              "      box-shadow: 0px 1px 2px rgba(60, 64, 67, 0.3), 0px 1px 3px 1px rgba(60, 64, 67, 0.15);\n",
              "      fill: #174EA6;\n",
              "    }\n",
              "\n",
              "    [theme=dark] .colab-df-convert {\n",
              "      background-color: #3B4455;\n",
              "      fill: #D2E3FC;\n",
              "    }\n",
              "\n",
              "    [theme=dark] .colab-df-convert:hover {\n",
              "      background-color: #434B5C;\n",
              "      box-shadow: 0px 1px 3px 1px rgba(0, 0, 0, 0.15);\n",
              "      filter: drop-shadow(0px 1px 2px rgba(0, 0, 0, 0.3));\n",
              "      fill: #FFFFFF;\n",
              "    }\n",
              "  </style>\n",
              "\n",
              "      <script>\n",
              "        const buttonEl =\n",
              "          document.querySelector('#df-17bacb74-1298-4f8e-80e5-8b029bae7aa7 button.colab-df-convert');\n",
              "        buttonEl.style.display =\n",
              "          google.colab.kernel.accessAllowed ? 'block' : 'none';\n",
              "\n",
              "        async function convertToInteractive(key) {\n",
              "          const element = document.querySelector('#df-17bacb74-1298-4f8e-80e5-8b029bae7aa7');\n",
              "          const dataTable =\n",
              "            await google.colab.kernel.invokeFunction('convertToInteractive',\n",
              "                                                     [key], {});\n",
              "          if (!dataTable) return;\n",
              "\n",
              "          const docLinkHtml = 'Like what you see? Visit the ' +\n",
              "            '<a target=\"_blank\" href=https://colab.research.google.com/notebooks/data_table.ipynb>data table notebook</a>'\n",
              "            + ' to learn more about interactive tables.';\n",
              "          element.innerHTML = '';\n",
              "          dataTable['output_type'] = 'display_data';\n",
              "          await google.colab.output.renderOutput(dataTable, element);\n",
              "          const docLink = document.createElement('div');\n",
              "          docLink.innerHTML = docLinkHtml;\n",
              "          element.appendChild(docLink);\n",
              "        }\n",
              "      </script>\n",
              "    </div>\n",
              "  </div>\n",
              "  "
            ]
          },
          "metadata": {},
          "execution_count": 4
        }
      ]
    },
    {
      "cell_type": "markdown",
      "source": [
        "**The dataset consists of the following attributes:**\n",
        "\n",
        "●\tIndex: Entry index.\n",
        "\n",
        "●\tFileName: Destination File name/number.\n",
        "\n",
        "●\tContents: Complete transcript of a article, this contains all the textual data present in the destination file for a particular entry.\n",
        "\n",
        "●\tCategory: Theme/domain of a article.\n"
      ],
      "metadata": {
        "id": "fyM2T7ia27ic"
      }
    },
    {
      "cell_type": "code",
      "source": [
        "# Size of dataset\n",
        "bbc.shape"
      ],
      "metadata": {
        "colab": {
          "base_uri": "https://localhost:8080/"
        },
        "id": "AU9w5DELF3Ib",
        "outputId": "824f351d-4b95-4ed7-cddc-cf1b988442f8"
      },
      "execution_count": null,
      "outputs": [
        {
          "output_type": "execute_result",
          "data": {
            "text/plain": [
              "(2224, 3)"
            ]
          },
          "metadata": {},
          "execution_count": 5
        }
      ]
    },
    {
      "cell_type": "markdown",
      "source": [
        "Now, lets check if a particular article is being stored more than once into the dataframe. Having duplicates in our data would cause inconsistencies in results."
      ],
      "metadata": {
        "id": "_3L0oXPV97db"
      }
    },
    {
      "cell_type": "code",
      "source": [
        "# Checking for duplicate rows\n",
        "bbc[bbc.duplicated(subset = \"Contents\")]"
      ],
      "metadata": {
        "colab": {
          "base_uri": "https://localhost:8080/",
          "height": 424
        },
        "id": "P1SVVdA28vIa",
        "outputId": "10c7b6f8-12ff-40e0-9ac2-e1f74ae97745"
      },
      "execution_count": null,
      "outputs": [
        {
          "output_type": "execute_result",
          "data": {
            "text/plain": [
              "     Filename                                           Contents  Category\n",
              "127       215  sec to rethink post-enron rules  the us stock ...  business\n",
              "157       240  economy 'strong' in election year  uk business...  business\n",
              "370       333  troubled marsh under sec scrutiny  the us stoc...  business\n",
              "450       292  steady job growth continues in us  the us crea...  business\n",
              "464       258  s korea spending boost to economy  south korea...  business\n",
              "...       ...                                                ...       ...\n",
              "2205      004  digital guru floats sub-$100 pc  nicholas negr...      tech\n",
              "2208      040  apple ipod family expands market  apple has ex...      tech\n",
              "2209      012  ibm puts cash behind linux push  ibm is spendi...      tech\n",
              "2213      027  warning over tsunami aid website  net users ar...      tech\n",
              "2221      036  microsoft seeking spyware trojan  microsoft is...      tech\n",
              "\n",
              "[99 rows x 3 columns]"
            ],
            "text/html": [
              "\n",
              "  <div id=\"df-6b3574dd-13de-4729-82d8-640b0423a7a5\">\n",
              "    <div class=\"colab-df-container\">\n",
              "      <div>\n",
              "<style scoped>\n",
              "    .dataframe tbody tr th:only-of-type {\n",
              "        vertical-align: middle;\n",
              "    }\n",
              "\n",
              "    .dataframe tbody tr th {\n",
              "        vertical-align: top;\n",
              "    }\n",
              "\n",
              "    .dataframe thead th {\n",
              "        text-align: right;\n",
              "    }\n",
              "</style>\n",
              "<table border=\"1\" class=\"dataframe\">\n",
              "  <thead>\n",
              "    <tr style=\"text-align: right;\">\n",
              "      <th></th>\n",
              "      <th>Filename</th>\n",
              "      <th>Contents</th>\n",
              "      <th>Category</th>\n",
              "    </tr>\n",
              "  </thead>\n",
              "  <tbody>\n",
              "    <tr>\n",
              "      <th>127</th>\n",
              "      <td>215</td>\n",
              "      <td>sec to rethink post-enron rules  the us stock ...</td>\n",
              "      <td>business</td>\n",
              "    </tr>\n",
              "    <tr>\n",
              "      <th>157</th>\n",
              "      <td>240</td>\n",
              "      <td>economy 'strong' in election year  uk business...</td>\n",
              "      <td>business</td>\n",
              "    </tr>\n",
              "    <tr>\n",
              "      <th>370</th>\n",
              "      <td>333</td>\n",
              "      <td>troubled marsh under sec scrutiny  the us stoc...</td>\n",
              "      <td>business</td>\n",
              "    </tr>\n",
              "    <tr>\n",
              "      <th>450</th>\n",
              "      <td>292</td>\n",
              "      <td>steady job growth continues in us  the us crea...</td>\n",
              "      <td>business</td>\n",
              "    </tr>\n",
              "    <tr>\n",
              "      <th>464</th>\n",
              "      <td>258</td>\n",
              "      <td>s korea spending boost to economy  south korea...</td>\n",
              "      <td>business</td>\n",
              "    </tr>\n",
              "    <tr>\n",
              "      <th>...</th>\n",
              "      <td>...</td>\n",
              "      <td>...</td>\n",
              "      <td>...</td>\n",
              "    </tr>\n",
              "    <tr>\n",
              "      <th>2205</th>\n",
              "      <td>004</td>\n",
              "      <td>digital guru floats sub-$100 pc  nicholas negr...</td>\n",
              "      <td>tech</td>\n",
              "    </tr>\n",
              "    <tr>\n",
              "      <th>2208</th>\n",
              "      <td>040</td>\n",
              "      <td>apple ipod family expands market  apple has ex...</td>\n",
              "      <td>tech</td>\n",
              "    </tr>\n",
              "    <tr>\n",
              "      <th>2209</th>\n",
              "      <td>012</td>\n",
              "      <td>ibm puts cash behind linux push  ibm is spendi...</td>\n",
              "      <td>tech</td>\n",
              "    </tr>\n",
              "    <tr>\n",
              "      <th>2213</th>\n",
              "      <td>027</td>\n",
              "      <td>warning over tsunami aid website  net users ar...</td>\n",
              "      <td>tech</td>\n",
              "    </tr>\n",
              "    <tr>\n",
              "      <th>2221</th>\n",
              "      <td>036</td>\n",
              "      <td>microsoft seeking spyware trojan  microsoft is...</td>\n",
              "      <td>tech</td>\n",
              "    </tr>\n",
              "  </tbody>\n",
              "</table>\n",
              "<p>99 rows × 3 columns</p>\n",
              "</div>\n",
              "      <button class=\"colab-df-convert\" onclick=\"convertToInteractive('df-6b3574dd-13de-4729-82d8-640b0423a7a5')\"\n",
              "              title=\"Convert this dataframe to an interactive table.\"\n",
              "              style=\"display:none;\">\n",
              "        \n",
              "  <svg xmlns=\"http://www.w3.org/2000/svg\" height=\"24px\"viewBox=\"0 0 24 24\"\n",
              "       width=\"24px\">\n",
              "    <path d=\"M0 0h24v24H0V0z\" fill=\"none\"/>\n",
              "    <path d=\"M18.56 5.44l.94 2.06.94-2.06 2.06-.94-2.06-.94-.94-2.06-.94 2.06-2.06.94zm-11 1L8.5 8.5l.94-2.06 2.06-.94-2.06-.94L8.5 2.5l-.94 2.06-2.06.94zm10 10l.94 2.06.94-2.06 2.06-.94-2.06-.94-.94-2.06-.94 2.06-2.06.94z\"/><path d=\"M17.41 7.96l-1.37-1.37c-.4-.4-.92-.59-1.43-.59-.52 0-1.04.2-1.43.59L10.3 9.45l-7.72 7.72c-.78.78-.78 2.05 0 2.83L4 21.41c.39.39.9.59 1.41.59.51 0 1.02-.2 1.41-.59l7.78-7.78 2.81-2.81c.8-.78.8-2.07 0-2.86zM5.41 20L4 18.59l7.72-7.72 1.47 1.35L5.41 20z\"/>\n",
              "  </svg>\n",
              "      </button>\n",
              "      \n",
              "  <style>\n",
              "    .colab-df-container {\n",
              "      display:flex;\n",
              "      flex-wrap:wrap;\n",
              "      gap: 12px;\n",
              "    }\n",
              "\n",
              "    .colab-df-convert {\n",
              "      background-color: #E8F0FE;\n",
              "      border: none;\n",
              "      border-radius: 50%;\n",
              "      cursor: pointer;\n",
              "      display: none;\n",
              "      fill: #1967D2;\n",
              "      height: 32px;\n",
              "      padding: 0 0 0 0;\n",
              "      width: 32px;\n",
              "    }\n",
              "\n",
              "    .colab-df-convert:hover {\n",
              "      background-color: #E2EBFA;\n",
              "      box-shadow: 0px 1px 2px rgba(60, 64, 67, 0.3), 0px 1px 3px 1px rgba(60, 64, 67, 0.15);\n",
              "      fill: #174EA6;\n",
              "    }\n",
              "\n",
              "    [theme=dark] .colab-df-convert {\n",
              "      background-color: #3B4455;\n",
              "      fill: #D2E3FC;\n",
              "    }\n",
              "\n",
              "    [theme=dark] .colab-df-convert:hover {\n",
              "      background-color: #434B5C;\n",
              "      box-shadow: 0px 1px 3px 1px rgba(0, 0, 0, 0.15);\n",
              "      filter: drop-shadow(0px 1px 2px rgba(0, 0, 0, 0.3));\n",
              "      fill: #FFFFFF;\n",
              "    }\n",
              "  </style>\n",
              "\n",
              "      <script>\n",
              "        const buttonEl =\n",
              "          document.querySelector('#df-6b3574dd-13de-4729-82d8-640b0423a7a5 button.colab-df-convert');\n",
              "        buttonEl.style.display =\n",
              "          google.colab.kernel.accessAllowed ? 'block' : 'none';\n",
              "\n",
              "        async function convertToInteractive(key) {\n",
              "          const element = document.querySelector('#df-6b3574dd-13de-4729-82d8-640b0423a7a5');\n",
              "          const dataTable =\n",
              "            await google.colab.kernel.invokeFunction('convertToInteractive',\n",
              "                                                     [key], {});\n",
              "          if (!dataTable) return;\n",
              "\n",
              "          const docLinkHtml = 'Like what you see? Visit the ' +\n",
              "            '<a target=\"_blank\" href=https://colab.research.google.com/notebooks/data_table.ipynb>data table notebook</a>'\n",
              "            + ' to learn more about interactive tables.';\n",
              "          element.innerHTML = '';\n",
              "          dataTable['output_type'] = 'display_data';\n",
              "          await google.colab.output.renderOutput(dataTable, element);\n",
              "          const docLink = document.createElement('div');\n",
              "          docLink.innerHTML = docLinkHtml;\n",
              "          element.appendChild(docLink);\n",
              "        }\n",
              "      </script>\n",
              "    </div>\n",
              "  </div>\n",
              "  "
            ]
          },
          "metadata": {},
          "execution_count": 6
        }
      ]
    },
    {
      "cell_type": "markdown",
      "source": [
        "We can see there are 99 duplicate rows, it resembles that these articles are present more than once, we need to drop such rows before we proceed further with the model development.\n"
      ],
      "metadata": {
        "id": "SctuMWsx-hzH"
      }
    },
    {
      "cell_type": "code",
      "source": [
        "# Dropping duplicate entries\n",
        "bbc = bbc.drop_duplicates(subset=['Contents'], keep='first')\n",
        "bbc"
      ],
      "metadata": {
        "id": "NdIgy92EmIhs",
        "colab": {
          "base_uri": "https://localhost:8080/",
          "height": 424
        },
        "outputId": "51abbbdf-c8a7-4580-d1d0-9f6582781528"
      },
      "execution_count": null,
      "outputs": [
        {
          "output_type": "execute_result",
          "data": {
            "text/plain": [
              "     Filename                                           Contents  Category\n",
              "0         472  china suspends 26 power projects  china has or...  business\n",
              "1         510  lacroix label bought by us firm  luxury goods ...  business\n",
              "2         509  euro firms miss out on optimism  more than 90%...  business\n",
              "3         486  india's reliance family feud heats up  the ong...  business\n",
              "4         506  trial begins of spain's top banker  the trial ...  business\n",
              "...       ...                                                ...       ...\n",
              "2218      028  piero gives rugby perspective  bbc sport unvei...      tech\n",
              "2219      002  china net cafe culture crackdown  chinese auth...      tech\n",
              "2220      016  global blogger action day called  the global w...      tech\n",
              "2222      017  finding new homes for old phones  re-using old...      tech\n",
              "2223      029  open source leaders slam patents  the war of w...      tech\n",
              "\n",
              "[2125 rows x 3 columns]"
            ],
            "text/html": [
              "\n",
              "  <div id=\"df-b628e187-6b4f-4fc4-8126-8dd5ecf0c484\">\n",
              "    <div class=\"colab-df-container\">\n",
              "      <div>\n",
              "<style scoped>\n",
              "    .dataframe tbody tr th:only-of-type {\n",
              "        vertical-align: middle;\n",
              "    }\n",
              "\n",
              "    .dataframe tbody tr th {\n",
              "        vertical-align: top;\n",
              "    }\n",
              "\n",
              "    .dataframe thead th {\n",
              "        text-align: right;\n",
              "    }\n",
              "</style>\n",
              "<table border=\"1\" class=\"dataframe\">\n",
              "  <thead>\n",
              "    <tr style=\"text-align: right;\">\n",
              "      <th></th>\n",
              "      <th>Filename</th>\n",
              "      <th>Contents</th>\n",
              "      <th>Category</th>\n",
              "    </tr>\n",
              "  </thead>\n",
              "  <tbody>\n",
              "    <tr>\n",
              "      <th>0</th>\n",
              "      <td>472</td>\n",
              "      <td>china suspends 26 power projects  china has or...</td>\n",
              "      <td>business</td>\n",
              "    </tr>\n",
              "    <tr>\n",
              "      <th>1</th>\n",
              "      <td>510</td>\n",
              "      <td>lacroix label bought by us firm  luxury goods ...</td>\n",
              "      <td>business</td>\n",
              "    </tr>\n",
              "    <tr>\n",
              "      <th>2</th>\n",
              "      <td>509</td>\n",
              "      <td>euro firms miss out on optimism  more than 90%...</td>\n",
              "      <td>business</td>\n",
              "    </tr>\n",
              "    <tr>\n",
              "      <th>3</th>\n",
              "      <td>486</td>\n",
              "      <td>india's reliance family feud heats up  the ong...</td>\n",
              "      <td>business</td>\n",
              "    </tr>\n",
              "    <tr>\n",
              "      <th>4</th>\n",
              "      <td>506</td>\n",
              "      <td>trial begins of spain's top banker  the trial ...</td>\n",
              "      <td>business</td>\n",
              "    </tr>\n",
              "    <tr>\n",
              "      <th>...</th>\n",
              "      <td>...</td>\n",
              "      <td>...</td>\n",
              "      <td>...</td>\n",
              "    </tr>\n",
              "    <tr>\n",
              "      <th>2218</th>\n",
              "      <td>028</td>\n",
              "      <td>piero gives rugby perspective  bbc sport unvei...</td>\n",
              "      <td>tech</td>\n",
              "    </tr>\n",
              "    <tr>\n",
              "      <th>2219</th>\n",
              "      <td>002</td>\n",
              "      <td>china net cafe culture crackdown  chinese auth...</td>\n",
              "      <td>tech</td>\n",
              "    </tr>\n",
              "    <tr>\n",
              "      <th>2220</th>\n",
              "      <td>016</td>\n",
              "      <td>global blogger action day called  the global w...</td>\n",
              "      <td>tech</td>\n",
              "    </tr>\n",
              "    <tr>\n",
              "      <th>2222</th>\n",
              "      <td>017</td>\n",
              "      <td>finding new homes for old phones  re-using old...</td>\n",
              "      <td>tech</td>\n",
              "    </tr>\n",
              "    <tr>\n",
              "      <th>2223</th>\n",
              "      <td>029</td>\n",
              "      <td>open source leaders slam patents  the war of w...</td>\n",
              "      <td>tech</td>\n",
              "    </tr>\n",
              "  </tbody>\n",
              "</table>\n",
              "<p>2125 rows × 3 columns</p>\n",
              "</div>\n",
              "      <button class=\"colab-df-convert\" onclick=\"convertToInteractive('df-b628e187-6b4f-4fc4-8126-8dd5ecf0c484')\"\n",
              "              title=\"Convert this dataframe to an interactive table.\"\n",
              "              style=\"display:none;\">\n",
              "        \n",
              "  <svg xmlns=\"http://www.w3.org/2000/svg\" height=\"24px\"viewBox=\"0 0 24 24\"\n",
              "       width=\"24px\">\n",
              "    <path d=\"M0 0h24v24H0V0z\" fill=\"none\"/>\n",
              "    <path d=\"M18.56 5.44l.94 2.06.94-2.06 2.06-.94-2.06-.94-.94-2.06-.94 2.06-2.06.94zm-11 1L8.5 8.5l.94-2.06 2.06-.94-2.06-.94L8.5 2.5l-.94 2.06-2.06.94zm10 10l.94 2.06.94-2.06 2.06-.94-2.06-.94-.94-2.06-.94 2.06-2.06.94z\"/><path d=\"M17.41 7.96l-1.37-1.37c-.4-.4-.92-.59-1.43-.59-.52 0-1.04.2-1.43.59L10.3 9.45l-7.72 7.72c-.78.78-.78 2.05 0 2.83L4 21.41c.39.39.9.59 1.41.59.51 0 1.02-.2 1.41-.59l7.78-7.78 2.81-2.81c.8-.78.8-2.07 0-2.86zM5.41 20L4 18.59l7.72-7.72 1.47 1.35L5.41 20z\"/>\n",
              "  </svg>\n",
              "      </button>\n",
              "      \n",
              "  <style>\n",
              "    .colab-df-container {\n",
              "      display:flex;\n",
              "      flex-wrap:wrap;\n",
              "      gap: 12px;\n",
              "    }\n",
              "\n",
              "    .colab-df-convert {\n",
              "      background-color: #E8F0FE;\n",
              "      border: none;\n",
              "      border-radius: 50%;\n",
              "      cursor: pointer;\n",
              "      display: none;\n",
              "      fill: #1967D2;\n",
              "      height: 32px;\n",
              "      padding: 0 0 0 0;\n",
              "      width: 32px;\n",
              "    }\n",
              "\n",
              "    .colab-df-convert:hover {\n",
              "      background-color: #E2EBFA;\n",
              "      box-shadow: 0px 1px 2px rgba(60, 64, 67, 0.3), 0px 1px 3px 1px rgba(60, 64, 67, 0.15);\n",
              "      fill: #174EA6;\n",
              "    }\n",
              "\n",
              "    [theme=dark] .colab-df-convert {\n",
              "      background-color: #3B4455;\n",
              "      fill: #D2E3FC;\n",
              "    }\n",
              "\n",
              "    [theme=dark] .colab-df-convert:hover {\n",
              "      background-color: #434B5C;\n",
              "      box-shadow: 0px 1px 3px 1px rgba(0, 0, 0, 0.15);\n",
              "      filter: drop-shadow(0px 1px 2px rgba(0, 0, 0, 0.3));\n",
              "      fill: #FFFFFF;\n",
              "    }\n",
              "  </style>\n",
              "\n",
              "      <script>\n",
              "        const buttonEl =\n",
              "          document.querySelector('#df-b628e187-6b4f-4fc4-8126-8dd5ecf0c484 button.colab-df-convert');\n",
              "        buttonEl.style.display =\n",
              "          google.colab.kernel.accessAllowed ? 'block' : 'none';\n",
              "\n",
              "        async function convertToInteractive(key) {\n",
              "          const element = document.querySelector('#df-b628e187-6b4f-4fc4-8126-8dd5ecf0c484');\n",
              "          const dataTable =\n",
              "            await google.colab.kernel.invokeFunction('convertToInteractive',\n",
              "                                                     [key], {});\n",
              "          if (!dataTable) return;\n",
              "\n",
              "          const docLinkHtml = 'Like what you see? Visit the ' +\n",
              "            '<a target=\"_blank\" href=https://colab.research.google.com/notebooks/data_table.ipynb>data table notebook</a>'\n",
              "            + ' to learn more about interactive tables.';\n",
              "          element.innerHTML = '';\n",
              "          dataTable['output_type'] = 'display_data';\n",
              "          await google.colab.output.renderOutput(dataTable, element);\n",
              "          const docLink = document.createElement('div');\n",
              "          docLink.innerHTML = docLinkHtml;\n",
              "          element.appendChild(docLink);\n",
              "        }\n",
              "      </script>\n",
              "    </div>\n",
              "  </div>\n",
              "  "
            ]
          },
          "metadata": {},
          "execution_count": 7
        }
      ]
    },
    {
      "cell_type": "code",
      "source": [
        "# Size of dataset after removing duplicates\n",
        "bbc.shape"
      ],
      "metadata": {
        "colab": {
          "base_uri": "https://localhost:8080/"
        },
        "id": "zdEhdYBQ_Hn6",
        "outputId": "2059df93-8909-443b-c288-b822ae1fea68"
      },
      "execution_count": null,
      "outputs": [
        {
          "output_type": "execute_result",
          "data": {
            "text/plain": [
              "(2125, 3)"
            ]
          },
          "metadata": {},
          "execution_count": 8
        }
      ]
    },
    {
      "cell_type": "code",
      "source": [
        "#Checking null values in columns \n",
        "bbc.isnull().sum()"
      ],
      "metadata": {
        "colab": {
          "base_uri": "https://localhost:8080/"
        },
        "id": "vrhrWTh_5oJt",
        "outputId": "9bc9019f-6e57-43be-9721-c1ebc20e88c3"
      },
      "execution_count": null,
      "outputs": [
        {
          "output_type": "execute_result",
          "data": {
            "text/plain": [
              "Filename    0\n",
              "Contents    0\n",
              "Category    0\n",
              "dtype: int64"
            ]
          },
          "metadata": {},
          "execution_count": 9
        }
      ]
    },
    {
      "cell_type": "code",
      "source": [
        "#PLottinh the heatmap for null values\n",
        "plt.figure(figsize=(14, 5))\n",
        "sns.heatmap(bbc.isnull(), cbar=True, yticklabels=False)\n",
        "plt.xlabel(\"Attributes\", size=14, weight=\"bold\")\n",
        "plt.title(\"Percentage of Missing values\")\n",
        "plt.show()"
      ],
      "metadata": {
        "colab": {
          "base_uri": "https://localhost:8080/",
          "height": 354
        },
        "id": "G4xisOi45-Dl",
        "outputId": "a128d14b-3dd9-46d6-e8a6-ca3275381def"
      },
      "execution_count": null,
      "outputs": [
        {
          "output_type": "display_data",
          "data": {
            "text/plain": [
              "<Figure size 1008x360 with 2 Axes>"
            ],
            "image/png": "[encoded data removed]"
          },
          "metadata": {
            "needs_background": "light"
          }
        }
      ]
    },
    {
      "cell_type": "markdown",
      "source": [
        "<u/>**Why this plot?**</u>\n",
        "\n",
        "A heat map helps you visualize density. It is a graphical representation of data where values are depicted by color.\n",
        "\n",
        "**Inference**\n",
        "\n",
        "There are no missing values.\n",
        "\n"
      ],
      "metadata": {
        "id": "78n5pWIuV3CL"
      }
    },
    {
      "cell_type": "markdown",
      "source": [
        "# **Exploratory Data Analysis**"
      ],
      "metadata": {
        "id": "VLh1u-16Rr2T"
      }
    },
    {
      "cell_type": "markdown",
      "source": [
        "### **Categories**\n",
        "\n",
        "Now, lets see how many articles are there across all 5 categories."
      ],
      "metadata": {
        "id": "WqTKXkgsvKx1"
      }
    },
    {
      "cell_type": "code",
      "source": [
        "# Grouping rows based on categories and counting number of entries\n",
        "df = bbc.groupby(['Category'])['Category'].count()\n",
        "df"
      ],
      "metadata": {
        "colab": {
          "base_uri": "https://localhost:8080/"
        },
        "id": "u_brrxabwHjP",
        "outputId": "19238634-7d40-47e9-8c93-46bc1889e0ed"
      },
      "execution_count": null,
      "outputs": [
        {
          "output_type": "execute_result",
          "data": {
            "text/plain": [
              "Category\n",
              "business         503\n",
              "entertainment    369\n",
              "politics         403\n",
              "sport            503\n",
              "tech             347\n",
              "Name: Category, dtype: int64"
            ]
          },
          "metadata": {},
          "execution_count": 11
        }
      ]
    },
    {
      "cell_type": "code",
      "source": [
        "# Plotting a bar graph to represent all categories and number of articles in them \n",
        "df.plot(x = \"Category\", kind = \"bar\", \n",
        "        figsize=(8,5), grid = True,\n",
        "        xlabel = \"Categories\",\n",
        "        ylabel = \"Number of Articles\",\n",
        "        colormap= \"cividis\", width = 0.6, \n",
        "        rot = 45).patch.set_facecolor('#f0ffff')"
      ],
      "metadata": {
        "id": "OVy0AWxW_28I",
        "colab": {
          "base_uri": "https://localhost:8080/",
          "height": 382
        },
        "outputId": "363d14fa-d6c8-4798-803d-332b1f966965"
      },
      "execution_count": null,
      "outputs": [
        {
          "output_type": "display_data",
          "data": {
            "text/plain": [
              "<Figure size 576x360 with 1 Axes>"
            ],
            "image/png": "[encoded data removed]"
          },
          "metadata": {
            "needs_background": "light"
          }
        }
      ]
    },
    {
      "cell_type": "markdown",
      "source": [
        "<u/>**Why this plot?**</u>\n",
        "\n",
        "A bar diagram makes it easy to compare sets of data between different groups at a glance. They are preferred over other plots because they allow the reader to recognize patterns or trends far more easily than looking at a table of numerical data.\n",
        "\n",
        "<u/>**Inference**</u>\n",
        "\n",
        "We can see that **Business** and **Sports** category have the highest number of articles, while for **Tech** category the number is quite low. Number of articles will play a major role in determining the topics in them. Larger the number of articles for a category, higher will be the result satisfaction for the model.  \n",
        "\n",
        "<u/>**Business Implication**</u>\n",
        "\n",
        "Readers with business and sport preference can be targeted by using different marketing tactics.."
      ],
      "metadata": {
        "id": "jHBztpTKwlG6"
      }
    },
    {
      "cell_type": "markdown",
      "source": [
        "### **Contents**\n",
        "\n",
        "Reindexing the data and extracting just the contents of the article i.e, the complete transcript of the article."
      ],
      "metadata": {
        "id": "9L3KTMeC0F9a"
      }
    },
    {
      "cell_type": "code",
      "source": [
        "# Reindexing the data\n",
        "reindexed_data = bbc.reset_index()\n",
        "\n",
        "# Extracting contents of all articles\n",
        "reindexed_data = reindexed_data[\"Contents\"]\n",
        "\n",
        "# Display \n",
        "reindexed_data"
      ],
      "metadata": {
        "id": "wP3NltHm7wtA",
        "colab": {
          "base_uri": "https://localhost:8080/"
        },
        "outputId": "bb802acc-396a-424c-bf8e-f76881c41b77"
      },
      "execution_count": null,
      "outputs": [
        {
          "output_type": "execute_result",
          "data": {
            "text/plain": [
              "0       china suspends 26 power projects  china has or...\n",
              "1       lacroix label bought by us firm  luxury goods ...\n",
              "2       euro firms miss out on optimism  more than 90%...\n",
              "3       india's reliance family feud heats up  the ong...\n",
              "4       trial begins of spain's top banker  the trial ...\n",
              "                              ...                        \n",
              "2120    piero gives rugby perspective  bbc sport unvei...\n",
              "2121    china net cafe culture crackdown  chinese auth...\n",
              "2122    global blogger action day called  the global w...\n",
              "2123    finding new homes for old phones  re-using old...\n",
              "2124    open source leaders slam patents  the war of w...\n",
              "Name: Contents, Length: 2125, dtype: object"
            ]
          },
          "metadata": {},
          "execution_count": 13
        }
      ]
    },
    {
      "cell_type": "markdown",
      "source": [
        "As we can see the above dataset has got the complete set of articles, now we can use this dataset to count the top words with highest frequencies using **CountVectorizer**."
      ],
      "metadata": {
        "id": "tCi1gn49y_2i"
      }
    },
    {
      "cell_type": "code",
      "source": [
        "bbc_copy=bbc.copy()"
      ],
      "metadata": {
        "id": "6enjPZh8RZNl"
      },
      "execution_count": null,
      "outputs": []
    },
    {
      "cell_type": "code",
      "source": [
        "# Converting column into astring\n",
        "bbc_copy['Contents'] = bbc_copy['Contents'].astype('str')"
      ],
      "metadata": {
        "id": "qEjdxDZd67Av"
      },
      "execution_count": null,
      "outputs": []
    },
    {
      "cell_type": "code",
      "source": [
        "import re\n",
        "import spacy\n",
        "import glob\n",
        "import string\n",
        "import nltk\n",
        "nltk.download('omw-1.4')\n",
        "from nltk.corpus import stopwords\n",
        "nltk.download('stopwords')\n",
        "from nltk.stem import WordNetLemmatizer\n",
        "nltk.download('wordnet')\n",
        "nltk.download('punkt')"
      ],
      "metadata": {
        "id": "5dsLQd757WT9",
        "colab": {
          "base_uri": "https://localhost:8080/"
        },
        "outputId": "6497ae4b-502e-4aed-df4a-392034796961"
      },
      "execution_count": null,
      "outputs": [
        {
          "output_type": "stream",
          "name": "stderr",
          "text": [
            "[nltk_data] Downloading package omw-1.4 to /root/nltk_data...\n",
            "[nltk_data] Downloading package stopwords to /root/nltk_data...\n",
            "[nltk_data]   Unzipping corpora/stopwords.zip.\n",
            "[nltk_data] Downloading package wordnet to /root/nltk_data...\n",
            "[nltk_data] Downloading package punkt to /root/nltk_data...\n",
            "[nltk_data]   Unzipping tokenizers/punkt.zip.\n"
          ]
        },
        {
          "output_type": "execute_result",
          "data": {
            "text/plain": [
              "True"
            ]
          },
          "metadata": {},
          "execution_count": 16
        }
      ]
    },
    {
      "cell_type": "code",
      "source": [
        "!pip install spacy\n",
        "!python -m spacy download en_core_web_md"
      ],
      "metadata": {
        "colab": {
          "base_uri": "https://localhost:8080/"
        },
        "id": "QHSb0xGpTuD6",
        "outputId": "57b40d56-cb48-42bb-dfd8-b8152bf36e94"
      },
      "execution_count": null,
      "outputs": [
        {
          "output_type": "stream",
          "name": "stdout",
          "text": [
            "Looking in indexes: https://pypi.org/simple, https://us-python.pkg.dev/colab-wheels/public/simple/\n",
            "Requirement already satisfied: spacy in /usr/local/lib/python3.8/dist-packages (3.4.4)\n",
            "Requirement already satisfied: thinc<8.2.0,>=8.1.0 in /usr/local/lib/python3.8/dist-packages (from spacy) (8.1.6)\n",
            "Requirement already satisfied: typer<0.8.0,>=0.3.0 in /usr/local/lib/python3.8/dist-packages (from spacy) (0.7.0)\n",
            "Requirement already satisfied: setuptools in /usr/local/lib/python3.8/dist-packages (from spacy) (57.4.0)\n",
            "Requirement already satisfied: spacy-loggers<2.0.0,>=1.0.0 in /usr/local/lib/python3.8/dist-packages (from spacy) (1.0.4)\n",
            "Requirement already satisfied: spacy-legacy<3.1.0,>=3.0.10 in /usr/local/lib/python3.8/dist-packages (from spacy) (3.0.11)\n",
            "Requirement already satisfied: pathy>=0.3.5 in /usr/local/lib/python3.8/dist-packages (from spacy) (0.10.1)\n",
            "Requirement already satisfied: srsly<3.0.0,>=2.4.3 in /usr/local/lib/python3.8/dist-packages (from spacy) (2.4.5)\n",
            "Requirement already satisfied: numpy>=1.15.0 in /usr/local/lib/python3.8/dist-packages (from spacy) (1.21.6)\n",
            "Requirement already satisfied: preshed<3.1.0,>=3.0.2 in /usr/local/lib/python3.8/dist-packages (from spacy) (3.0.8)\n",
            "Requirement already satisfied: packaging>=20.0 in /usr/local/lib/python3.8/dist-packages (from spacy) (21.3)\n",
            "Requirement already satisfied: murmurhash<1.1.0,>=0.28.0 in /usr/local/lib/python3.8/dist-packages (from spacy) (1.0.9)\n",
            "Requirement already satisfied: smart-open<7.0.0,>=5.2.1 in /usr/local/lib/python3.8/dist-packages (from spacy) (6.3.0)\n",
            "Requirement already satisfied: wasabi<1.1.0,>=0.9.1 in /usr/local/lib/python3.8/dist-packages (from spacy) (0.10.1)\n",
            "Requirement already satisfied: catalogue<2.1.0,>=2.0.6 in /usr/local/lib/python3.8/dist-packages (from spacy) (2.0.8)\n",
            "Requirement already satisfied: langcodes<4.0.0,>=3.2.0 in /usr/local/lib/python3.8/dist-packages (from spacy) (3.3.0)\n",
            "Requirement already satisfied: cymem<2.1.0,>=2.0.2 in /usr/local/lib/python3.8/dist-packages (from spacy) (2.0.7)\n",
            "Requirement already satisfied: jinja2 in /usr/local/lib/python3.8/dist-packages (from spacy) (2.11.3)\n",
            "Requirement already satisfied: pydantic!=1.8,!=1.8.1,<1.11.0,>=1.7.4 in /usr/local/lib/python3.8/dist-packages (from spacy) (1.10.4)\n",
            "Requirement already satisfied: tqdm<5.0.0,>=4.38.0 in /usr/local/lib/python3.8/dist-packages (from spacy) (4.64.1)\n",
            "Requirement already satisfied: requests<3.0.0,>=2.13.0 in /usr/local/lib/python3.8/dist-packages (from spacy) (2.25.1)\n",
            "Requirement already satisfied: pyparsing!=3.0.5,>=2.0.2 in /usr/local/lib/python3.8/dist-packages (from packaging>=20.0->spacy) (3.0.9)\n",
            "Requirement already satisfied: typing-extensions>=4.2.0 in /usr/local/lib/python3.8/dist-packages (from pydantic!=1.8,!=1.8.1,<1.11.0,>=1.7.4->spacy) (4.4.0)\n",
            "Requirement already satisfied: idna<3,>=2.5 in /usr/local/lib/python3.8/dist-packages (from requests<3.0.0,>=2.13.0->spacy) (2.10)\n",
            "Requirement already satisfied: chardet<5,>=3.0.2 in /usr/local/lib/python3.8/dist-packages (from requests<3.0.0,>=2.13.0->spacy) (4.0.0)\n",
            "Requirement already satisfied: urllib3<1.27,>=1.21.1 in /usr/local/lib/python3.8/dist-packages (from requests<3.0.0,>=2.13.0->spacy) (1.24.3)\n",
            "Requirement already satisfied: certifi>=2017.4.17 in /usr/local/lib/python3.8/dist-packages (from requests<3.0.0,>=2.13.0->spacy) (2022.12.7)\n",
            "Requirement already satisfied: blis<0.8.0,>=0.7.8 in /usr/local/lib/python3.8/dist-packages (from thinc<8.2.0,>=8.1.0->spacy) (0.7.9)\n",
            "Requirement already satisfied: confection<1.0.0,>=0.0.1 in /usr/local/lib/python3.8/dist-packages (from thinc<8.2.0,>=8.1.0->spacy) (0.0.3)\n",
            "Requirement already satisfied: click<9.0.0,>=7.1.1 in /usr/local/lib/python3.8/dist-packages (from typer<0.8.0,>=0.3.0->spacy) (7.1.2)\n",
            "Requirement already satisfied: MarkupSafe>=0.23 in /usr/local/lib/python3.8/dist-packages (from jinja2->spacy) (2.0.1)\n",
            "/usr/local/lib/python3.8/dist-packages/torch/cuda/__init__.py:497: UserWarning: Can't initialize NVML\n",
            "  warnings.warn(\"Can't initialize NVML\")\n",
            "2023-01-23 10:41:58.189615: E tensorflow/stream_executor/cuda/cuda_driver.cc:271] failed call to cuInit: CUDA_ERROR_NO_DEVICE: no CUDA-capable device is detected\n",
            "Looking in indexes: https://pypi.org/simple, https://us-python.pkg.dev/colab-wheels/public/simple/\n",
            "Collecting en-core-web-md==3.4.1\n",
            "  Downloading https://github.com/explosion/spacy-models/releases/download/en_core_web_md-3.4.1/en_core_web_md-3.4.1-py3-none-any.whl (42.8 MB)\n",
            "\u001b[2K     \u001b[90m━━━━━━━━━━━━━━━━━━━━━━━━━━━━━━━━━━━━━━━━\u001b[0m \u001b[32m42.8/42.8 MB\u001b[0m \u001b[31m9.2 MB/s\u001b[0m eta \u001b[36m0:00:00\u001b[0m\n",
            "\u001b[?25hRequirement already satisfied: spacy<3.5.0,>=3.4.0 in /usr/local/lib/python3.8/dist-packages (from en-core-web-md==3.4.1) (3.4.4)\n",
            "Requirement already satisfied: srsly<3.0.0,>=2.4.3 in /usr/local/lib/python3.8/dist-packages (from spacy<3.5.0,>=3.4.0->en-core-web-md==3.4.1) (2.4.5)\n",
            "Requirement already satisfied: typer<0.8.0,>=0.3.0 in /usr/local/lib/python3.8/dist-packages (from spacy<3.5.0,>=3.4.0->en-core-web-md==3.4.1) (0.7.0)\n",
            "Requirement already satisfied: pydantic!=1.8,!=1.8.1,<1.11.0,>=1.7.4 in /usr/local/lib/python3.8/dist-packages (from spacy<3.5.0,>=3.4.0->en-core-web-md==3.4.1) (1.10.4)\n",
            "Requirement already satisfied: jinja2 in /usr/local/lib/python3.8/dist-packages (from spacy<3.5.0,>=3.4.0->en-core-web-md==3.4.1) (2.11.3)\n",
            "Requirement already satisfied: murmurhash<1.1.0,>=0.28.0 in /usr/local/lib/python3.8/dist-packages (from spacy<3.5.0,>=3.4.0->en-core-web-md==3.4.1) (1.0.9)\n",
            "Requirement already satisfied: spacy-loggers<2.0.0,>=1.0.0 in /usr/local/lib/python3.8/dist-packages (from spacy<3.5.0,>=3.4.0->en-core-web-md==3.4.1) (1.0.4)\n",
            "Requirement already satisfied: catalogue<2.1.0,>=2.0.6 in /usr/local/lib/python3.8/dist-packages (from spacy<3.5.0,>=3.4.0->en-core-web-md==3.4.1) (2.0.8)\n",
            "Requirement already satisfied: wasabi<1.1.0,>=0.9.1 in /usr/local/lib/python3.8/dist-packages (from spacy<3.5.0,>=3.4.0->en-core-web-md==3.4.1) (0.10.1)\n",
            "Requirement already satisfied: thinc<8.2.0,>=8.1.0 in /usr/local/lib/python3.8/dist-packages (from spacy<3.5.0,>=3.4.0->en-core-web-md==3.4.1) (8.1.6)\n",
            "Requirement already satisfied: requests<3.0.0,>=2.13.0 in /usr/local/lib/python3.8/dist-packages (from spacy<3.5.0,>=3.4.0->en-core-web-md==3.4.1) (2.25.1)\n",
            "Requirement already satisfied: cymem<2.1.0,>=2.0.2 in /usr/local/lib/python3.8/dist-packages (from spacy<3.5.0,>=3.4.0->en-core-web-md==3.4.1) (2.0.7)\n",
            "Requirement already satisfied: smart-open<7.0.0,>=5.2.1 in /usr/local/lib/python3.8/dist-packages (from spacy<3.5.0,>=3.4.0->en-core-web-md==3.4.1) (6.3.0)\n",
            "Requirement already satisfied: numpy>=1.15.0 in /usr/local/lib/python3.8/dist-packages (from spacy<3.5.0,>=3.4.0->en-core-web-md==3.4.1) (1.21.6)\n",
            "Requirement already satisfied: packaging>=20.0 in /usr/local/lib/python3.8/dist-packages (from spacy<3.5.0,>=3.4.0->en-core-web-md==3.4.1) (21.3)\n",
            "Requirement already satisfied: pathy>=0.3.5 in /usr/local/lib/python3.8/dist-packages (from spacy<3.5.0,>=3.4.0->en-core-web-md==3.4.1) (0.10.1)\n",
            "Requirement already satisfied: tqdm<5.0.0,>=4.38.0 in /usr/local/lib/python3.8/dist-packages (from spacy<3.5.0,>=3.4.0->en-core-web-md==3.4.1) (4.64.1)\n",
            "Requirement already satisfied: spacy-legacy<3.1.0,>=3.0.10 in /usr/local/lib/python3.8/dist-packages (from spacy<3.5.0,>=3.4.0->en-core-web-md==3.4.1) (3.0.11)\n",
            "Requirement already satisfied: preshed<3.1.0,>=3.0.2 in /usr/local/lib/python3.8/dist-packages (from spacy<3.5.0,>=3.4.0->en-core-web-md==3.4.1) (3.0.8)\n",
            "Requirement already satisfied: langcodes<4.0.0,>=3.2.0 in /usr/local/lib/python3.8/dist-packages (from spacy<3.5.0,>=3.4.0->en-core-web-md==3.4.1) (3.3.0)\n",
            "Requirement already satisfied: setuptools in /usr/local/lib/python3.8/dist-packages (from spacy<3.5.0,>=3.4.0->en-core-web-md==3.4.1) (57.4.0)\n",
            "Requirement already satisfied: pyparsing!=3.0.5,>=2.0.2 in /usr/local/lib/python3.8/dist-packages (from packaging>=20.0->spacy<3.5.0,>=3.4.0->en-core-web-md==3.4.1) (3.0.9)\n",
            "Requirement already satisfied: typing-extensions>=4.2.0 in /usr/local/lib/python3.8/dist-packages (from pydantic!=1.8,!=1.8.1,<1.11.0,>=1.7.4->spacy<3.5.0,>=3.4.0->en-core-web-md==3.4.1) (4.4.0)\n",
            "Requirement already satisfied: idna<3,>=2.5 in /usr/local/lib/python3.8/dist-packages (from requests<3.0.0,>=2.13.0->spacy<3.5.0,>=3.4.0->en-core-web-md==3.4.1) (2.10)\n",
            "Requirement already satisfied: chardet<5,>=3.0.2 in /usr/local/lib/python3.8/dist-packages (from requests<3.0.0,>=2.13.0->spacy<3.5.0,>=3.4.0->en-core-web-md==3.4.1) (4.0.0)\n",
            "Requirement already satisfied: certifi>=2017.4.17 in /usr/local/lib/python3.8/dist-packages (from requests<3.0.0,>=2.13.0->spacy<3.5.0,>=3.4.0->en-core-web-md==3.4.1) (2022.12.7)\n",
            "Requirement already satisfied: urllib3<1.27,>=1.21.1 in /usr/local/lib/python3.8/dist-packages (from requests<3.0.0,>=2.13.0->spacy<3.5.0,>=3.4.0->en-core-web-md==3.4.1) (1.24.3)\n",
            "Requirement already satisfied: confection<1.0.0,>=0.0.1 in /usr/local/lib/python3.8/dist-packages (from thinc<8.2.0,>=8.1.0->spacy<3.5.0,>=3.4.0->en-core-web-md==3.4.1) (0.0.3)\n",
            "Requirement already satisfied: blis<0.8.0,>=0.7.8 in /usr/local/lib/python3.8/dist-packages (from thinc<8.2.0,>=8.1.0->spacy<3.5.0,>=3.4.0->en-core-web-md==3.4.1) (0.7.9)\n",
            "Requirement already satisfied: click<9.0.0,>=7.1.1 in /usr/local/lib/python3.8/dist-packages (from typer<0.8.0,>=0.3.0->spacy<3.5.0,>=3.4.0->en-core-web-md==3.4.1) (7.1.2)\n",
            "Requirement already satisfied: MarkupSafe>=0.23 in /usr/local/lib/python3.8/dist-packages (from jinja2->spacy<3.5.0,>=3.4.0->en-core-web-md==3.4.1) (2.0.1)\n",
            "Installing collected packages: en-core-web-md\n",
            "Successfully installed en-core-web-md-3.4.1\n",
            "\u001b[38;5;2m✔ Download and installation successful\u001b[0m\n",
            "You can now load the package via spacy.load('en_core_web_md')\n"
          ]
        }
      ]
    },
    {
      "cell_type": "code",
      "source": [
        "# Remove new line characters\n",
        "bbc_copy['Contents'] = [re.sub('\\s+', ' ', sent) for sent in bbc_copy['Contents']]\n",
        "\n",
        "#convert to lowercase\n",
        "bbc_copy['Contents'] = bbc_copy['Contents'].map(lambda x: x.lower())\n",
        "\n",
        "# Remove distracting single quotes\n",
        "bbc_copy['Contents'] = [re.sub(\"\\'\", \"\", sent) for sent in bbc_copy['Contents']]\n",
        "\n",
        "#Removal of stopwords\n",
        "bbc_copy['Contents'] = bbc_copy['Contents'].map(lambda x: ' '.join([i for i in x.split(' ') if i not in stopwords.words('english')]))\n"
      ],
      "metadata": {
        "id": "oFaqQQSP7Zpc"
      },
      "execution_count": null,
      "outputs": []
    },
    {
      "cell_type": "code",
      "source": [
        "# creating new column lungth for length of news\n",
        "bbc_copy['length']=bbc_copy['Contents'].apply(len)"
      ],
      "metadata": {
        "id": "MZGm4O2v84b7"
      },
      "execution_count": null,
      "outputs": []
    },
    {
      "cell_type": "code",
      "source": [
        "#average word count per topic\n",
        "pd.DataFrame(bbc_copy.groupby([\"Category\"])['length'].agg(np.mean).sort_values(ascending=False)).plot(kind = 'barh',\n",
        "              title = 'Average length of news per news topic', figsize=(10,6))\n",
        "plt.ylabel(\"News Topic\")"
      ],
      "metadata": {
        "colab": {
          "base_uri": "https://localhost:8080/",
          "height": 407
        },
        "id": "J2LBo3ZBf2fM",
        "outputId": "055ecc09-c655-4bb7-d12d-4d22f7a2ff7d"
      },
      "execution_count": null,
      "outputs": [
        {
          "output_type": "execute_result",
          "data": {
            "text/plain": [
              "Text(0, 0.5, 'News Topic')"
            ]
          },
          "metadata": {},
          "execution_count": 20
        },
        {
          "output_type": "display_data",
          "data": {
            "text/plain": [
              "<Figure size 720x432 with 1 Axes>"
            ],
            "image/png": "[encoded data removed]"
          },
          "metadata": {
            "needs_background": "light"
          }
        }
      ]
    },
    {
      "cell_type": "markdown",
      "source": [
        "<u/>**Why this plot?**</u>\n",
        "\n",
        "A bar diagram makes it easy to compare sets of data between different groups at a glance. They are preferred over other plots because they allow the reader to recognize patterns or trends far more easily than looking at a table of numerical data.\n",
        "\n",
        "<u/>**Inference**</u>\n",
        "\n",
        "Technology has the maximum average length of article and Sports has the minimum average length of news article.\n",
        "\n",
        "<u/>**Business Implication**</u>\n",
        "\n",
        "Readers of tech would spend more time reading the articles. So, they can be shown more advertisements."
      ],
      "metadata": {
        "id": "ZEbkET4GXGoN"
      }
    },
    {
      "cell_type": "code",
      "source": [
        "# Creating new column with number of words\n",
        "bbc_copy['word_count'] = bbc_copy['Contents'].apply(lambda x: len(str(x).split(\" \")))"
      ],
      "metadata": {
        "id": "m8USVPws9K6K"
      },
      "execution_count": null,
      "outputs": []
    },
    {
      "cell_type": "code",
      "source": [
        "#average word count per topic\n",
        "pd.DataFrame(bbc_copy.groupby([\"Category\"])['word_count'].agg(np.mean).sort_values(ascending=False)).plot(kind = 'barh',\n",
        "              title = 'Average words per news topic', figsize=(10,6))\n",
        "plt.ylabel(\"News Topic\")"
      ],
      "metadata": {
        "colab": {
          "base_uri": "https://localhost:8080/",
          "height": 407
        },
        "id": "LtuYKuanfhAT",
        "outputId": "4eb91d50-ed9a-49aa-c718-8fe3447da2e6"
      },
      "execution_count": null,
      "outputs": [
        {
          "output_type": "execute_result",
          "data": {
            "text/plain": [
              "Text(0, 0.5, 'News Topic')"
            ]
          },
          "metadata": {},
          "execution_count": 22
        },
        {
          "output_type": "display_data",
          "data": {
            "text/plain": [
              "<Figure size 720x432 with 1 Axes>"
            ],
            "image/png": "[encoded data removed]"
          },
          "metadata": {
            "needs_background": "light"
          }
        }
      ]
    },
    {
      "cell_type": "markdown",
      "source": [
        "<u/>**Why this plot?**</u>\n",
        "\n",
        "A bar diagram makes it easy to compare sets of data between different groups at a glance. They are preferred over other plots because they allow the reader to recognize patterns or trends far more easily than looking at a table of numerical data.\n",
        "\n",
        "<u/>**Inference**</u>\n",
        "\n",
        "This follows the same order as average length of news that is Tech has maximum average word count and Sport has lowest average word count.\n",
        "\n",
        "<u/>**Business Implication**</u>\n",
        "\n",
        "Readers of tech would spend more time reading the articles. So, they can be shown more advertisements."
      ],
      "metadata": {
        "id": "aoyoIy1rXJw7"
      }
    },
    {
      "cell_type": "code",
      "source": [
        "# Creating new dataframes with different news type\n",
        "bbc_business = bbc_copy[bbc_copy['Category'] == 'business']\n",
        "bbc_entertainment = bbc_copy[bbc_copy['Category'] == 'entertainment']\n",
        "bbc_politics = bbc_copy[bbc_copy['Category'] == 'politics']\n",
        "bbc_sport = bbc_copy[bbc_copy['Category'] == 'sport']\n",
        "bbc_tech = bbc_copy[bbc_copy['Category'] == 'tech']"
      ],
      "metadata": {
        "id": "0mJbhl099Xgr"
      },
      "execution_count": null,
      "outputs": []
    },
    {
      "cell_type": "markdown",
      "source": [
        "## **Length of different news types**"
      ],
      "metadata": {
        "id": "w0swTeio_KPT"
      }
    },
    {
      "cell_type": "code",
      "source": [
        "# creating histogram to see the length of words in different types of news\n",
        "import matplotlib\n",
        "matplotlib.rcParams['figure.figsize'] = (12.0, 6.0)\n",
        "bins = 100\n",
        "plt.hist(bbc_business['length'], alpha = 0.6, bins=bins, label='business')\n",
        "plt.hist(bbc_entertainment['length'], alpha = 0.6, bins=bins, label='entertainment')\n",
        "plt.hist(bbc_politics['length'], alpha = 0.6, bins=bins, label='politics')\n",
        "plt.hist(bbc_sport['length'], alpha = 0.6, bins=bins, label='sport')\n",
        "plt.hist(bbc_tech['length'], alpha = 0.6, bins=bins, label='tech')\n",
        "plt.xlabel('length')\n",
        "plt.ylabel('numbers')\n",
        "plt.legend(loc='upper right')\n",
        "plt.xlim(0,3500)\n",
        "plt.grid()\n",
        "plt.show()"
      ],
      "metadata": {
        "colab": {
          "base_uri": "https://localhost:8080/",
          "height": 388
        },
        "id": "4SpcOgfD-T9i",
        "outputId": "a135df09-f55f-4a03-add4-3bc4a891bbe4"
      },
      "execution_count": null,
      "outputs": [
        {
          "output_type": "display_data",
          "data": {
            "text/plain": [
              "<Figure size 864x432 with 1 Axes>"
            ],
            "image/png": "[encoded data removed]"
          },
          "metadata": {
            "needs_background": "light"
          }
        }
      ]
    },
    {
      "cell_type": "markdown",
      "source": [
        "<u/>**Why this plot?**</u>\n",
        "\n",
        "The histogram is a popular graphing tool. It is used to summarize discrete or continuous data that are measured on an interval scale. It is often used to illustrate the major features of the distribution of the data in a convenient form.\n",
        "\n",
        "<u/>**Inference**</u>\n",
        "\n",
        "It shows the distribution of length of different news topics.\n",
        "\n",
        "<u/>**Business Implication**</u>\n",
        "\n",
        "Different marketing strategies and initiatives can be made for readers of various types of news."
      ],
      "metadata": {
        "id": "_nPcod5dXTnZ"
      }
    },
    {
      "cell_type": "markdown",
      "source": [
        "## **Number of words**"
      ],
      "metadata": {
        "id": "KShZn60x_MWy"
      }
    },
    {
      "cell_type": "code",
      "source": [
        "import matplotlib\n",
        "matplotlib.rcParams['figure.figsize'] = (12.0, 6.0)\n",
        "bins = 100\n",
        "plt.hist(bbc_business['word_count'], alpha = 0.6, bins=bins, label='business')\n",
        "plt.hist(bbc_entertainment['word_count'], alpha = 0.6, bins=bins, label='entertainment')\n",
        "plt.hist(bbc_politics['word_count'], alpha = 0.6, bins=bins, label='politics')\n",
        "plt.hist(bbc_sport['word_count'], alpha = 0.6, bins=bins, label='sport')\n",
        "plt.hist(bbc_tech['word_count'], alpha = 0.6, bins=bins, label='tech')\n",
        "plt.xlabel('word_count')\n",
        "plt.ylabel('numbers')\n",
        "plt.legend(loc='upper right')\n",
        "plt.xlim(0,500)\n",
        "plt.grid()\n",
        "plt.show()"
      ],
      "metadata": {
        "colab": {
          "base_uri": "https://localhost:8080/",
          "height": 389
        },
        "id": "StOgVhA4-nWT",
        "outputId": "3a4c5a08-7611-41a6-85f6-67798f95fcdf"
      },
      "execution_count": null,
      "outputs": [
        {
          "output_type": "display_data",
          "data": {
            "text/plain": [
              "<Figure size 864x432 with 1 Axes>"
            ],
            "image/png": "[encoded data removed]"
          },
          "metadata": {
            "needs_background": "light"
          }
        }
      ]
    },
    {
      "cell_type": "markdown",
      "source": [
        "<u/>**Why this plot?**</u>\n",
        "\n",
        "The histogram is a popular graphing tool. It is used to summarize discrete or continuous data that are measured on an interval scale. It is often used to illustrate the major features of the distribution of the data in a convenient form.\n",
        "\n",
        "<u/>**Inference**</u>\n",
        "\n",
        "It shows the distribution of word count of different news topics.\n",
        "\n",
        "<u/>**Business Implication**</u>\n",
        "\n",
        "Using this information alongwith reader feedback we can design promotions, offers etc."
      ],
      "metadata": {
        "id": "agIw6ifnXg3U"
      }
    },
    {
      "cell_type": "markdown",
      "source": [
        "#### **CountVectorizer (Top Words)**\n",
        "\n",
        "In order to use textual data for predictive modeling, the text must be parsed to remove certain words – this process is called **Tokenization**. \n",
        "\n",
        "These words then need to be encoded as integers, or floating-point values, such that they can be used as inputs in machine learning algorithms. This process is called **Feature Extraction (or Vectorization)**.\n",
        "\n",
        "Scikit-learn’s **CountVectorizer** is used to convert a collection of text documents to a vector of term/token counts. It also enables the ​pre-processing of text data prior to generating the vector representation. This functionality makes it a highly flexible feature representation module for text.\n",
        "\n",
        "CountVectorizer creates a matrix in which each unique word is represented by a column of the matrix, and each text sample from the document is a row in the matrix. The value of each cell is nothing but the count of the word in that particular text sample.\n",
        "\n",
        "*Now that we know what CountVectorizer is, its time we implement it to gather the top-most occuring words in out dataset.*"
      ],
      "metadata": {
        "id": "6tSm9F8A1Efa"
      }
    },
    {
      "cell_type": "code",
      "metadata": {
        "_cell_guid": "db6ce2f5-1247-4446-90f2-6aa2ba8af168",
        "_kg_hide-input": true,
        "_uuid": "59f4ae5e8e06786fa3ebdec7ec3011645aad3544",
        "id": "2a9DfK59uYj4"
      },
      "source": [
        "# Function to extract top n words with highest frequency\n",
        "def get_top_n_words(n_top_words, count_vectorizer, text_data):\n",
        "    '''\n",
        "    The function returns a tuple of the top n words in a sample and their \n",
        "    accompanying counts, given a CountVectorizer object and text sample as inputs\n",
        "    '''\n",
        "    # encoding the document using countvectorizer object\n",
        "    vectorized_content = count_vectorizer.fit_transform(text_data.values)\n",
        "    vectorized_total = np.sum(vectorized_content, axis=0)\n",
        "\n",
        "    # extracting specifics for words\n",
        "    word_indices = np.flip(np.argsort(vectorized_total)[0,:], 1)\n",
        "    word_values = np.flip(np.sort(vectorized_total)[0,:],1)\n",
        "\n",
        "    # creating a vector matrix for words\n",
        "    word_vectors = np.zeros((n_top_words, vectorized_content.shape[1]))\n",
        "    for i in range(n_top_words):\n",
        "        word_vectors[i,word_indices[0,i]] = 1\n",
        "\n",
        "    # display Vector matrix\n",
        "    print(word_vectors)\n",
        "\n",
        "    # collect the words\n",
        "    words = [word[0].encode('ascii').decode('utf-8') for \n",
        "             word in count_vectorizer.inverse_transform(word_vectors)]\n",
        "\n",
        "    return (words, word_values[0,:n_top_words].tolist()[0])"
      ],
      "execution_count": null,
      "outputs": []
    },
    {
      "cell_type": "markdown",
      "source": [
        "**Removing Stopwords using NLTK (Natural Language Toolkit)**\n",
        "\n",
        "**Stop Words**: A stop word is a commonly used word (such as “the”, “a”, “an”, “in”). Since these words occur a lot, a search engine has to be programmed to ignore them. We can easily remove them by storing a list of words that we consider to be stop words. \n",
        "\n",
        "**NLTK**(Natural Language Toolkit) in python has a list of stopwords stored in 16 different languages. Hence we'll use it to extract our data without all such words. "
      ],
      "metadata": {
        "id": "heEtQijF6eJk"
      }
    },
    {
      "cell_type": "code",
      "source": [
        "# dowloading nltk stopwords module\n",
        "nltk.download('stopwords')"
      ],
      "metadata": {
        "id": "dAnIxYZ2gFZh",
        "colab": {
          "base_uri": "https://localhost:8080/"
        },
        "outputId": "3a8b7b79-230e-4588-aa42-801e45849e65"
      },
      "execution_count": null,
      "outputs": [
        {
          "output_type": "stream",
          "name": "stderr",
          "text": [
            "[nltk_data] Downloading package stopwords to /root/nltk_data...\n",
            "[nltk_data]   Package stopwords is already up-to-date!\n"
          ]
        },
        {
          "output_type": "execute_result",
          "data": {
            "text/plain": [
              "True"
            ]
          },
          "metadata": {},
          "execution_count": 27
        }
      ]
    },
    {
      "cell_type": "markdown",
      "source": [
        "We know that all of our articles are in english language, hence we'll only require stopwords in english."
      ],
      "metadata": {
        "id": "uRgqJoI18oRV"
      }
    },
    {
      "cell_type": "code",
      "source": [
        "# extracting all stopwords for english language\n",
        "stpwrd = nltk.corpus.stopwords.words('english')\n",
        "\n",
        "# list of stopwords in english language\n",
        "stpwrd"
      ],
      "metadata": {
        "id": "ZCR4I8Xdmj3t",
        "colab": {
          "base_uri": "https://localhost:8080/"
        },
        "outputId": "bc8b2250-3c9e-4077-b34c-da8b86e5e955"
      },
      "execution_count": null,
      "outputs": [
        {
          "output_type": "execute_result",
          "data": {
            "text/plain": [
              "['i',\n",
              " 'me',\n",
              " 'my',\n",
              " 'myself',\n",
              " 'we',\n",
              " 'our',\n",
              " 'ours',\n",
              " 'ourselves',\n",
              " 'you',\n",
              " \"you're\",\n",
              " \"you've\",\n",
              " \"you'll\",\n",
              " \"you'd\",\n",
              " 'your',\n",
              " 'yours',\n",
              " 'yourself',\n",
              " 'yourselves',\n",
              " 'he',\n",
              " 'him',\n",
              " 'his',\n",
              " 'himself',\n",
              " 'she',\n",
              " \"she's\",\n",
              " 'her',\n",
              " 'hers',\n",
              " 'herself',\n",
              " 'it',\n",
              " \"it's\",\n",
              " 'its',\n",
              " 'itself',\n",
              " 'they',\n",
              " 'them',\n",
              " 'their',\n",
              " 'theirs',\n",
              " 'themselves',\n",
              " 'what',\n",
              " 'which',\n",
              " 'who',\n",
              " 'whom',\n",
              " 'this',\n",
              " 'that',\n",
              " \"that'll\",\n",
              " 'these',\n",
              " 'those',\n",
              " 'am',\n",
              " 'is',\n",
              " 'are',\n",
              " 'was',\n",
              " 'were',\n",
              " 'be',\n",
              " 'been',\n",
              " 'being',\n",
              " 'have',\n",
              " 'has',\n",
              " 'had',\n",
              " 'having',\n",
              " 'do',\n",
              " 'does',\n",
              " 'did',\n",
              " 'doing',\n",
              " 'a',\n",
              " 'an',\n",
              " 'the',\n",
              " 'and',\n",
              " 'but',\n",
              " 'if',\n",
              " 'or',\n",
              " 'because',\n",
              " 'as',\n",
              " 'until',\n",
              " 'while',\n",
              " 'of',\n",
              " 'at',\n",
              " 'by',\n",
              " 'for',\n",
              " 'with',\n",
              " 'about',\n",
              " 'against',\n",
              " 'between',\n",
              " 'into',\n",
              " 'through',\n",
              " 'during',\n",
              " 'before',\n",
              " 'after',\n",
              " 'above',\n",
              " 'below',\n",
              " 'to',\n",
              " 'from',\n",
              " 'up',\n",
              " 'down',\n",
              " 'in',\n",
              " 'out',\n",
              " 'on',\n",
              " 'off',\n",
              " 'over',\n",
              " 'under',\n",
              " 'again',\n",
              " 'further',\n",
              " 'then',\n",
              " 'once',\n",
              " 'here',\n",
              " 'there',\n",
              " 'when',\n",
              " 'where',\n",
              " 'why',\n",
              " 'how',\n",
              " 'all',\n",
              " 'any',\n",
              " 'both',\n",
              " 'each',\n",
              " 'few',\n",
              " 'more',\n",
              " 'most',\n",
              " 'other',\n",
              " 'some',\n",
              " 'such',\n",
              " 'no',\n",
              " 'nor',\n",
              " 'not',\n",
              " 'only',\n",
              " 'own',\n",
              " 'same',\n",
              " 'so',\n",
              " 'than',\n",
              " 'too',\n",
              " 'very',\n",
              " 's',\n",
              " 't',\n",
              " 'can',\n",
              " 'will',\n",
              " 'just',\n",
              " 'don',\n",
              " \"don't\",\n",
              " 'should',\n",
              " \"should've\",\n",
              " 'now',\n",
              " 'd',\n",
              " 'll',\n",
              " 'm',\n",
              " 'o',\n",
              " 're',\n",
              " 've',\n",
              " 'y',\n",
              " 'ain',\n",
              " 'aren',\n",
              " \"aren't\",\n",
              " 'couldn',\n",
              " \"couldn't\",\n",
              " 'didn',\n",
              " \"didn't\",\n",
              " 'doesn',\n",
              " \"doesn't\",\n",
              " 'hadn',\n",
              " \"hadn't\",\n",
              " 'hasn',\n",
              " \"hasn't\",\n",
              " 'haven',\n",
              " \"haven't\",\n",
              " 'isn',\n",
              " \"isn't\",\n",
              " 'ma',\n",
              " 'mightn',\n",
              " \"mightn't\",\n",
              " 'mustn',\n",
              " \"mustn't\",\n",
              " 'needn',\n",
              " \"needn't\",\n",
              " 'shan',\n",
              " \"shan't\",\n",
              " 'shouldn',\n",
              " \"shouldn't\",\n",
              " 'wasn',\n",
              " \"wasn't\",\n",
              " 'weren',\n",
              " \"weren't\",\n",
              " 'won',\n",
              " \"won't\",\n",
              " 'wouldn',\n",
              " \"wouldn't\"]"
            ]
          },
          "metadata": {},
          "execution_count": 28
        }
      ]
    },
    {
      "cell_type": "markdown",
      "source": [
        "**Now lets implement our countvectorizer to extract top words with highest frequencies.**"
      ],
      "metadata": {
        "id": "GLWa8w5Z9JVD"
      }
    },
    {
      "cell_type": "code",
      "metadata": {
        "_cell_guid": "a2701525-298e-4943-8d3e-adad5d0d629d",
        "_uuid": "142e18023411d5c61cbe59a3c08c78c58993cdcc",
        "id": "TsPJDzyyuYj5",
        "colab": {
          "base_uri": "https://localhost:8080/",
          "height": 686
        },
        "outputId": "f1773aa1-46e6-44f1-dd08-cb8fb0478ecb"
      },
      "source": [
        "# creating vectorizer object\n",
        "count_vectorizer = CountVectorizer(stop_words=stpwrd)\n",
        "\n",
        "# calling the function to get words and their counts\n",
        "words, word_values = get_top_n_words(n_top_words=25,\n",
        "                                     count_vectorizer=count_vectorizer, \n",
        "                                     text_data=reindexed_data)\n",
        "\n",
        "# display top 25 words using bar plot\n",
        "fig, ax = plt.subplots(figsize=(16,8))\n",
        "ax.bar(range(len(words)), word_values, color=(0.1, 0.1, 0.1, 0.1),  edgecolor='blue')\n",
        "ax.set_xticks(range(len(words)))\n",
        "ax.set_xticklabels(words, rotation='vertical')\n",
        "ax.set_title('Top words in new articles dataset (excluding stop words)')\n",
        "ax.set_xlabel('Words')\n",
        "ax.set_ylabel('Number of occurences')\n",
        "ax.patch.set_facecolor('#f0ffff')\n",
        "plt.show()"
      ],
      "execution_count": null,
      "outputs": [
        {
          "output_type": "stream",
          "name": "stdout",
          "text": [
            "[[0. 0. 0. ... 0. 0. 0.]\n",
            " [0. 0. 0. ... 0. 0. 0.]\n",
            " [0. 0. 0. ... 0. 0. 0.]\n",
            " ...\n",
            " [0. 0. 0. ... 0. 0. 0.]\n",
            " [0. 0. 0. ... 0. 0. 0.]\n",
            " [0. 0. 0. ... 0. 0. 0.]]\n"
          ]
        },
        {
          "output_type": "display_data",
          "data": {
            "text/plain": [
              "<Figure size 1152x576 with 1 Axes>"
            ],
            "image/png": "[encoded data removed]"
          },
          "metadata": {
            "needs_background": "light"
          }
        }
      ]
    },
    {
      "cell_type": "markdown",
      "source": [
        "<u/>**Why this plot?**</u>\n",
        "\n",
        "A bar diagram makes it easy to compare sets of data between different groups at a glance. They are preferred over other plots because they allow the reader to recognize patterns or trends far more easily than looking at a table of numerical data.\n",
        "\n",
        "\n",
        "<u/>**Observations:**</u>\n",
        "\n",
        "We can see some commonly used words like \"said\", \"mr\", \"would\" etc, are on top, which makes sense because no matter what the subject of a article is, these words help build up a sentence and hence the excessive use is inevitable. \n",
        "\n",
        "However, we can also find a few words relevant to the categories of our articles. For example, '**UK**' and '**US**'(since we converted all words to lower case, 'us' represents US too) both are country names which could reflect to any of the categories. Also words like '**government**' could reflect in articles related to Politics, Business, Tech etc.\n",
        "\n",
        "The words like '**film**' and '**game**' sounds relevant to the entertainment category.\n",
        "\n",
        "<u/>**Business Implications**</u>\n",
        "\n",
        "We know what words readers are used to. So, it will help us in creating marketing materials."
      ],
      "metadata": {
        "id": "qsM1UlEN_fm_"
      }
    },
    {
      "cell_type": "markdown",
      "source": [
        "## **Stemming/Lemmatizing the data** (Experimental)\n",
        "\n",
        "**Stemming** is the process of reducing a word to its word stem that affixes to suffixes and prefixes or to the roots of words known as a lemma. Stemming is important in natural language understanding (NLU) and natural language processing (NLP).\n",
        "\n",
        "**Lemmatization:** This algorithm collects all inflected forms of a word in order to break them down to their root dictionary form or lemma. Words are broken down into a part of speech (the categories of word types) by way of the rules of grammar."
      ],
      "metadata": {
        "id": "O2X8JZGG3EsT"
      }
    },
    {
      "cell_type": "code",
      "source": [
        "# contents of articles\n",
        "reindexed_data"
      ],
      "metadata": {
        "colab": {
          "base_uri": "https://localhost:8080/"
        },
        "id": "F7oNFox323-1",
        "outputId": "189718b3-ba5b-4093-d66c-ffd71e890bee"
      },
      "execution_count": null,
      "outputs": [
        {
          "output_type": "execute_result",
          "data": {
            "text/plain": [
              "0       china suspends 26 power projects  china has or...\n",
              "1       lacroix label bought by us firm  luxury goods ...\n",
              "2       euro firms miss out on optimism  more than 90%...\n",
              "3       india's reliance family feud heats up  the ong...\n",
              "4       trial begins of spain's top banker  the trial ...\n",
              "                              ...                        \n",
              "2120    piero gives rugby perspective  bbc sport unvei...\n",
              "2121    china net cafe culture crackdown  chinese auth...\n",
              "2122    global blogger action day called  the global w...\n",
              "2123    finding new homes for old phones  re-using old...\n",
              "2124    open source leaders slam patents  the war of w...\n",
              "Name: Contents, Length: 2125, dtype: object"
            ]
          },
          "metadata": {},
          "execution_count": 30
        }
      ]
    },
    {
      "cell_type": "code",
      "source": [
        "# downloading wordNet lemmatizer\n",
        "nltk.download(['wordnet','omw-1.4'])\n",
        "lemmatizer = WordNetLemmatizer()"
      ],
      "metadata": {
        "id": "lZZBzrG15M6W",
        "colab": {
          "base_uri": "https://localhost:8080/"
        },
        "outputId": "28a081a1-0797-4a4d-fb92-94bb6815c321"
      },
      "execution_count": null,
      "outputs": [
        {
          "output_type": "stream",
          "name": "stderr",
          "text": [
            "[nltk_data] Downloading package wordnet to /root/nltk_data...\n",
            "[nltk_data]   Package wordnet is already up-to-date!\n",
            "[nltk_data] Downloading package omw-1.4 to /root/nltk_data...\n",
            "[nltk_data]   Package omw-1.4 is already up-to-date!\n"
          ]
        }
      ]
    },
    {
      "cell_type": "code",
      "source": [
        "# lemmatizing an article to see what wordnet returns\n",
        "for rows in reindexed_data:\n",
        " print(rows)\n",
        " test = [lemmatizer.lemmatize(words) for words in rows.split(' ')]\n",
        " print(test)\n",
        " break"
      ],
      "metadata": {
        "colab": {
          "base_uri": "https://localhost:8080/"
        },
        "id": "Y4obHZ_m7dtX",
        "outputId": "d20aa2bf-c514-4cf0-ffaa-74a0c1632fc4"
      },
      "execution_count": null,
      "outputs": [
        {
          "output_type": "stream",
          "name": "stdout",
          "text": [
            "china suspends 26 power projects  china has ordered a halt to construction work on 26 big power stations, including two at the three gorges dam, on environmental grounds.  the move is a surprising one because china is struggling to increase energy supplies for its booming economy. last year 24 provinces suffered black outs. the state environmental protection agency said the 26 projects had failed to do proper environmental assessments. topping the list was a controversial dam on the scenic upper yangtze river. \"construction of these projects has started without approval of the assessment of their environmental impact... they are typical illegal projects of construction first, approval next,\" said sepa vice-director pan yue, in a statement on the agency's website.  some of the projects may be allowed to start work again with the proper permits, but others would be cancelled, he said. altogether, the agency ordered 30 projects halted. other projects included a petrochemicals plant and a port in fujian. the bulk of the list was made up of new power plants, with some extensions to existing ones. the stoppages would appear to be another step in the central government's battle to control projects licensed by local officials. however, previous crackdowns have tended to focus on projects for which the government argued there was overcapacity, such as steel and cement. the government has encouraged construction of new electricity generating capacity to solve chronic energy shortages which forced many factories onto part-time working last year. in 2004, china increased its generating capacity by 12.6%, or 440,700 megawatts (mw). the biggest single project to be halted was the xiluodi dam project, designed to produce 12,600 mw of electricity. it is being built on the jinshajiang - or 'river of golden sand' as the upper reaches of the yangtze are known. second and third on the agency's list were two power stations being built at the $22bn three gorges dam project on the central yangtze - an underground 4,200 mw power plant and a 100 mw plant.  the three gorges dam has proved controversial in china - where more than half a million people have been relocated to make way for it - and abroad. it has drawn criticism from environmental groups and overseas human rights activists. the damming of the upper yangtze has also begun to attract criticism from environmentalists in china. in april 2004, central government officials ordered a halt to work on the nearby nu river, which is part of a united nations world heritage site, the three parallel rivers site which covers the yangtze, mekong and nu (also known as the salween), according to the uk-published china review. that move reportedly followed a protest from the thai government about the downstream impact of the dams, and a critical documentary made by chinese journalists. china's energy shortage influenced global prices for oil, coal and shipping last year. \n",
            "['china', 'suspends', '26', 'power', 'project', '', 'china', 'ha', 'ordered', 'a', 'halt', 'to', 'construction', 'work', 'on', '26', 'big', 'power', 'stations,', 'including', 'two', 'at', 'the', 'three', 'gorge', 'dam,', 'on', 'environmental', 'grounds.', '', 'the', 'move', 'is', 'a', 'surprising', 'one', 'because', 'china', 'is', 'struggling', 'to', 'increase', 'energy', 'supply', 'for', 'it', 'booming', 'economy.', 'last', 'year', '24', 'province', 'suffered', 'black', 'outs.', 'the', 'state', 'environmental', 'protection', 'agency', 'said', 'the', '26', 'project', 'had', 'failed', 'to', 'do', 'proper', 'environmental', 'assessments.', 'topping', 'the', 'list', 'wa', 'a', 'controversial', 'dam', 'on', 'the', 'scenic', 'upper', 'yangtze', 'river.', '\"construction', 'of', 'these', 'project', 'ha', 'started', 'without', 'approval', 'of', 'the', 'assessment', 'of', 'their', 'environmental', 'impact...', 'they', 'are', 'typical', 'illegal', 'project', 'of', 'construction', 'first,', 'approval', 'next,\"', 'said', 'sepa', 'vice-director', 'pan', 'yue,', 'in', 'a', 'statement', 'on', 'the', \"agency's\", 'website.', '', 'some', 'of', 'the', 'project', 'may', 'be', 'allowed', 'to', 'start', 'work', 'again', 'with', 'the', 'proper', 'permits,', 'but', 'others', 'would', 'be', 'cancelled,', 'he', 'said.', 'altogether,', 'the', 'agency', 'ordered', '30', 'project', 'halted.', 'other', 'project', 'included', 'a', 'petrochemical', 'plant', 'and', 'a', 'port', 'in', 'fujian.', 'the', 'bulk', 'of', 'the', 'list', 'wa', 'made', 'up', 'of', 'new', 'power', 'plants,', 'with', 'some', 'extension', 'to', 'existing', 'ones.', 'the', 'stoppage', 'would', 'appear', 'to', 'be', 'another', 'step', 'in', 'the', 'central', \"government's\", 'battle', 'to', 'control', 'project', 'licensed', 'by', 'local', 'officials.', 'however,', 'previous', 'crackdown', 'have', 'tended', 'to', 'focus', 'on', 'project', 'for', 'which', 'the', 'government', 'argued', 'there', 'wa', 'overcapacity,', 'such', 'a', 'steel', 'and', 'cement.', 'the', 'government', 'ha', 'encouraged', 'construction', 'of', 'new', 'electricity', 'generating', 'capacity', 'to', 'solve', 'chronic', 'energy', 'shortage', 'which', 'forced', 'many', 'factory', 'onto', 'part-time', 'working', 'last', 'year.', 'in', '2004,', 'china', 'increased', 'it', 'generating', 'capacity', 'by', '12.6%,', 'or', '440,700', 'megawatt', '(mw).', 'the', 'biggest', 'single', 'project', 'to', 'be', 'halted', 'wa', 'the', 'xiluodi', 'dam', 'project,', 'designed', 'to', 'produce', '12,600', 'mw', 'of', 'electricity.', 'it', 'is', 'being', 'built', 'on', 'the', 'jinshajiang', '-', 'or', \"'river\", 'of', 'golden', \"sand'\", 'a', 'the', 'upper', 'reach', 'of', 'the', 'yangtze', 'are', 'known.', 'second', 'and', 'third', 'on', 'the', \"agency's\", 'list', 'were', 'two', 'power', 'station', 'being', 'built', 'at', 'the', '$22bn', 'three', 'gorge', 'dam', 'project', 'on', 'the', 'central', 'yangtze', '-', 'an', 'underground', '4,200', 'mw', 'power', 'plant', 'and', 'a', '100', 'mw', 'plant.', '', 'the', 'three', 'gorge', 'dam', 'ha', 'proved', 'controversial', 'in', 'china', '-', 'where', 'more', 'than', 'half', 'a', 'million', 'people', 'have', 'been', 'relocated', 'to', 'make', 'way', 'for', 'it', '-', 'and', 'abroad.', 'it', 'ha', 'drawn', 'criticism', 'from', 'environmental', 'group', 'and', 'overseas', 'human', 'right', 'activists.', 'the', 'damming', 'of', 'the', 'upper', 'yangtze', 'ha', 'also', 'begun', 'to', 'attract', 'criticism', 'from', 'environmentalist', 'in', 'china.', 'in', 'april', '2004,', 'central', 'government', 'official', 'ordered', 'a', 'halt', 'to', 'work', 'on', 'the', 'nearby', 'nu', 'river,', 'which', 'is', 'part', 'of', 'a', 'united', 'nation', 'world', 'heritage', 'site,', 'the', 'three', 'parallel', 'river', 'site', 'which', 'cover', 'the', 'yangtze,', 'mekong', 'and', 'nu', '(also', 'known', 'a', 'the', 'salween),', 'according', 'to', 'the', 'uk-published', 'china', 'review.', 'that', 'move', 'reportedly', 'followed', 'a', 'protest', 'from', 'the', 'thai', 'government', 'about', 'the', 'downstream', 'impact', 'of', 'the', 'dams,', 'and', 'a', 'critical', 'documentary', 'made', 'by', 'chinese', 'journalists.', \"china's\", 'energy', 'shortage', 'influenced', 'global', 'price', 'for', 'oil,', 'coal', 'and', 'shipping', 'last', 'year.', '']\n"
          ]
        }
      ]
    },
    {
      "cell_type": "markdown",
      "source": [
        "As we can see the lemmatizer seems to be working fine, the words are segregated into a list. But the issue with this is for some words the lemmatizer returned ambiguous results, for example the first line says \"A US government\", here the lemmatizer reduced the text \"US\" to just \"u\". This takes away the whole meaning of that word."
      ],
      "metadata": {
        "id": "R9A8bu-uUsMZ"
      }
    },
    {
      "cell_type": "markdown",
      "source": [
        "**Now, lets try the lemmatization using Snowball Lemmatizer.**"
      ],
      "metadata": {
        "id": "y18E5uo1VrxK"
      }
    },
    {
      "cell_type": "code",
      "source": [
        "# making a lemmatizer object\n",
        "sno = nltk.stem.SnowballStemmer('english')"
      ],
      "metadata": {
        "id": "t8yXWwu87fx5"
      },
      "execution_count": null,
      "outputs": []
    },
    {
      "cell_type": "code",
      "source": [
        "# lemmatizing an article to see what snowball lemmatizer returns\n",
        "for rows in reindexed_data:\n",
        " print(rows)\n",
        " test = [sno.stem(words) for words in rows.split(' ')]\n",
        " print(test)\n",
        " break"
      ],
      "metadata": {
        "colab": {
          "base_uri": "https://localhost:8080/"
        },
        "id": "wCKD3xQv72ob",
        "outputId": "a920d219-2589-4361-e94b-d444a0fd9da1"
      },
      "execution_count": null,
      "outputs": [
        {
          "output_type": "stream",
          "name": "stdout",
          "text": [
            "china suspends 26 power projects  china has ordered a halt to construction work on 26 big power stations, including two at the three gorges dam, on environmental grounds.  the move is a surprising one because china is struggling to increase energy supplies for its booming economy. last year 24 provinces suffered black outs. the state environmental protection agency said the 26 projects had failed to do proper environmental assessments. topping the list was a controversial dam on the scenic upper yangtze river. \"construction of these projects has started without approval of the assessment of their environmental impact... they are typical illegal projects of construction first, approval next,\" said sepa vice-director pan yue, in a statement on the agency's website.  some of the projects may be allowed to start work again with the proper permits, but others would be cancelled, he said. altogether, the agency ordered 30 projects halted. other projects included a petrochemicals plant and a port in fujian. the bulk of the list was made up of new power plants, with some extensions to existing ones. the stoppages would appear to be another step in the central government's battle to control projects licensed by local officials. however, previous crackdowns have tended to focus on projects for which the government argued there was overcapacity, such as steel and cement. the government has encouraged construction of new electricity generating capacity to solve chronic energy shortages which forced many factories onto part-time working last year. in 2004, china increased its generating capacity by 12.6%, or 440,700 megawatts (mw). the biggest single project to be halted was the xiluodi dam project, designed to produce 12,600 mw of electricity. it is being built on the jinshajiang - or 'river of golden sand' as the upper reaches of the yangtze are known. second and third on the agency's list were two power stations being built at the $22bn three gorges dam project on the central yangtze - an underground 4,200 mw power plant and a 100 mw plant.  the three gorges dam has proved controversial in china - where more than half a million people have been relocated to make way for it - and abroad. it has drawn criticism from environmental groups and overseas human rights activists. the damming of the upper yangtze has also begun to attract criticism from environmentalists in china. in april 2004, central government officials ordered a halt to work on the nearby nu river, which is part of a united nations world heritage site, the three parallel rivers site which covers the yangtze, mekong and nu (also known as the salween), according to the uk-published china review. that move reportedly followed a protest from the thai government about the downstream impact of the dams, and a critical documentary made by chinese journalists. china's energy shortage influenced global prices for oil, coal and shipping last year. \n",
            "['china', 'suspend', '26', 'power', 'project', '', 'china', 'has', 'order', 'a', 'halt', 'to', 'construct', 'work', 'on', '26', 'big', 'power', 'stations,', 'includ', 'two', 'at', 'the', 'three', 'gorg', 'dam,', 'on', 'environment', 'grounds.', '', 'the', 'move', 'is', 'a', 'surpris', 'one', 'becaus', 'china', 'is', 'struggl', 'to', 'increas', 'energi', 'suppli', 'for', 'it', 'boom', 'economy.', 'last', 'year', '24', 'provinc', 'suffer', 'black', 'outs.', 'the', 'state', 'environment', 'protect', 'agenc', 'said', 'the', '26', 'project', 'had', 'fail', 'to', 'do', 'proper', 'environment', 'assessments.', 'top', 'the', 'list', 'was', 'a', 'controversi', 'dam', 'on', 'the', 'scenic', 'upper', 'yangtz', 'river.', '\"construct', 'of', 'these', 'project', 'has', 'start', 'without', 'approv', 'of', 'the', 'assess', 'of', 'their', 'environment', 'impact...', 'they', 'are', 'typic', 'illeg', 'project', 'of', 'construct', 'first,', 'approv', 'next,\"', 'said', 'sepa', 'vice-director', 'pan', 'yue,', 'in', 'a', 'statement', 'on', 'the', 'agenc', 'website.', '', 'some', 'of', 'the', 'project', 'may', 'be', 'allow', 'to', 'start', 'work', 'again', 'with', 'the', 'proper', 'permits,', 'but', 'other', 'would', 'be', 'cancelled,', 'he', 'said.', 'altogether,', 'the', 'agenc', 'order', '30', 'project', 'halted.', 'other', 'project', 'includ', 'a', 'petrochem', 'plant', 'and', 'a', 'port', 'in', 'fujian.', 'the', 'bulk', 'of', 'the', 'list', 'was', 'made', 'up', 'of', 'new', 'power', 'plants,', 'with', 'some', 'extens', 'to', 'exist', 'ones.', 'the', 'stoppag', 'would', 'appear', 'to', 'be', 'anoth', 'step', 'in', 'the', 'central', 'govern', 'battl', 'to', 'control', 'project', 'licens', 'by', 'local', 'officials.', 'however,', 'previous', 'crackdown', 'have', 'tend', 'to', 'focus', 'on', 'project', 'for', 'which', 'the', 'govern', 'argu', 'there', 'was', 'overcapacity,', 'such', 'as', 'steel', 'and', 'cement.', 'the', 'govern', 'has', 'encourag', 'construct', 'of', 'new', 'electr', 'generat', 'capac', 'to', 'solv', 'chronic', 'energi', 'shortag', 'which', 'forc', 'mani', 'factori', 'onto', 'part-tim', 'work', 'last', 'year.', 'in', '2004,', 'china', 'increas', 'it', 'generat', 'capac', 'by', '12.6%,', 'or', '440,700', 'megawatt', '(mw).', 'the', 'biggest', 'singl', 'project', 'to', 'be', 'halt', 'was', 'the', 'xiluodi', 'dam', 'project,', 'design', 'to', 'produc', '12,600', 'mw', 'of', 'electricity.', 'it', 'is', 'be', 'built', 'on', 'the', 'jinshajiang', '-', 'or', 'river', 'of', 'golden', 'sand', 'as', 'the', 'upper', 'reach', 'of', 'the', 'yangtz', 'are', 'known.', 'second', 'and', 'third', 'on', 'the', 'agenc', 'list', 'were', 'two', 'power', 'station', 'be', 'built', 'at', 'the', '$22bn', 'three', 'gorg', 'dam', 'project', 'on', 'the', 'central', 'yangtz', '-', 'an', 'underground', '4,200', 'mw', 'power', 'plant', 'and', 'a', '100', 'mw', 'plant.', '', 'the', 'three', 'gorg', 'dam', 'has', 'prove', 'controversi', 'in', 'china', '-', 'where', 'more', 'than', 'half', 'a', 'million', 'peopl', 'have', 'been', 'reloc', 'to', 'make', 'way', 'for', 'it', '-', 'and', 'abroad.', 'it', 'has', 'drawn', 'critic', 'from', 'environment', 'group', 'and', 'oversea', 'human', 'right', 'activists.', 'the', 'dam', 'of', 'the', 'upper', 'yangtz', 'has', 'also', 'begun', 'to', 'attract', 'critic', 'from', 'environmentalist', 'in', 'china.', 'in', 'april', '2004,', 'central', 'govern', 'offici', 'order', 'a', 'halt', 'to', 'work', 'on', 'the', 'nearbi', 'nu', 'river,', 'which', 'is', 'part', 'of', 'a', 'unit', 'nation', 'world', 'heritag', 'site,', 'the', 'three', 'parallel', 'river', 'site', 'which', 'cover', 'the', 'yangtze,', 'mekong', 'and', 'nu', '(also', 'known', 'as', 'the', 'salween),', 'accord', 'to', 'the', 'uk-publish', 'china', 'review.', 'that', 'move', 'report', 'follow', 'a', 'protest', 'from', 'the', 'thai', 'govern', 'about', 'the', 'downstream', 'impact', 'of', 'the', 'dams,', 'and', 'a', 'critic', 'documentari', 'made', 'by', 'chines', 'journalists.', 'china', 'energi', 'shortag', 'influenc', 'global', 'price', 'for', 'oil,', 'coal', 'and', 'ship', 'last', 'year.', '']\n"
          ]
        }
      ]
    },
    {
      "cell_type": "markdown",
      "source": [
        "Again the lemmatizer does its job and we got the list of words but as we can see some words lost their meaning completely. For example, \"government\" is returned as \"govern\", this is acceptable to some extent but we also have words like 'accus' and 'countri' derived from accusing and companies respectively. These words do not make any sense at all. This lemmatizer is much more aggresive and hence we encounter more words that lost their meaning. \n",
        "\n",
        "**Now lets use TextBlob for the same.**"
      ],
      "metadata": {
        "id": "-YRoq4V-ayPp"
      }
    },
    {
      "cell_type": "code",
      "source": [
        "# Lemmatizing using textblob\n",
        "for rows in reindexed_data:\n",
        " print(rows)\n",
        " test = [Word(words).lemmatize() for words in rows.split(' ')]\n",
        " print(test)\n",
        " break"
      ],
      "metadata": {
        "colab": {
          "base_uri": "https://localhost:8080/"
        },
        "id": "yuoVGJcQ3Q_1",
        "outputId": "cf8f7aba-1ab6-4606-ed63-4192d6d40bbc"
      },
      "execution_count": null,
      "outputs": [
        {
          "output_type": "stream",
          "name": "stdout",
          "text": [
            "china suspends 26 power projects  china has ordered a halt to construction work on 26 big power stations, including two at the three gorges dam, on environmental grounds.  the move is a surprising one because china is struggling to increase energy supplies for its booming economy. last year 24 provinces suffered black outs. the state environmental protection agency said the 26 projects had failed to do proper environmental assessments. topping the list was a controversial dam on the scenic upper yangtze river. \"construction of these projects has started without approval of the assessment of their environmental impact... they are typical illegal projects of construction first, approval next,\" said sepa vice-director pan yue, in a statement on the agency's website.  some of the projects may be allowed to start work again with the proper permits, but others would be cancelled, he said. altogether, the agency ordered 30 projects halted. other projects included a petrochemicals plant and a port in fujian. the bulk of the list was made up of new power plants, with some extensions to existing ones. the stoppages would appear to be another step in the central government's battle to control projects licensed by local officials. however, previous crackdowns have tended to focus on projects for which the government argued there was overcapacity, such as steel and cement. the government has encouraged construction of new electricity generating capacity to solve chronic energy shortages which forced many factories onto part-time working last year. in 2004, china increased its generating capacity by 12.6%, or 440,700 megawatts (mw). the biggest single project to be halted was the xiluodi dam project, designed to produce 12,600 mw of electricity. it is being built on the jinshajiang - or 'river of golden sand' as the upper reaches of the yangtze are known. second and third on the agency's list were two power stations being built at the $22bn three gorges dam project on the central yangtze - an underground 4,200 mw power plant and a 100 mw plant.  the three gorges dam has proved controversial in china - where more than half a million people have been relocated to make way for it - and abroad. it has drawn criticism from environmental groups and overseas human rights activists. the damming of the upper yangtze has also begun to attract criticism from environmentalists in china. in april 2004, central government officials ordered a halt to work on the nearby nu river, which is part of a united nations world heritage site, the three parallel rivers site which covers the yangtze, mekong and nu (also known as the salween), according to the uk-published china review. that move reportedly followed a protest from the thai government about the downstream impact of the dams, and a critical documentary made by chinese journalists. china's energy shortage influenced global prices for oil, coal and shipping last year. \n",
            "['china', 'suspends', '26', 'power', 'project', '', 'china', 'ha', 'ordered', 'a', 'halt', 'to', 'construction', 'work', 'on', '26', 'big', 'power', 'stations,', 'including', 'two', 'at', 'the', 'three', 'gorge', 'dam,', 'on', 'environmental', 'grounds.', '', 'the', 'move', 'is', 'a', 'surprising', 'one', 'because', 'china', 'is', 'struggling', 'to', 'increase', 'energy', 'supply', 'for', 'it', 'booming', 'economy.', 'last', 'year', '24', 'province', 'suffered', 'black', 'outs.', 'the', 'state', 'environmental', 'protection', 'agency', 'said', 'the', '26', 'project', 'had', 'failed', 'to', 'do', 'proper', 'environmental', 'assessments.', 'topping', 'the', 'list', 'wa', 'a', 'controversial', 'dam', 'on', 'the', 'scenic', 'upper', 'yangtze', 'river.', '\"construction', 'of', 'these', 'project', 'ha', 'started', 'without', 'approval', 'of', 'the', 'assessment', 'of', 'their', 'environmental', 'impact...', 'they', 'are', 'typical', 'illegal', 'project', 'of', 'construction', 'first,', 'approval', 'next,\"', 'said', 'sepa', 'vice-director', 'pan', 'yue,', 'in', 'a', 'statement', 'on', 'the', \"agency's\", 'website.', '', 'some', 'of', 'the', 'project', 'may', 'be', 'allowed', 'to', 'start', 'work', 'again', 'with', 'the', 'proper', 'permits,', 'but', 'others', 'would', 'be', 'cancelled,', 'he', 'said.', 'altogether,', 'the', 'agency', 'ordered', '30', 'project', 'halted.', 'other', 'project', 'included', 'a', 'petrochemical', 'plant', 'and', 'a', 'port', 'in', 'fujian.', 'the', 'bulk', 'of', 'the', 'list', 'wa', 'made', 'up', 'of', 'new', 'power', 'plants,', 'with', 'some', 'extension', 'to', 'existing', 'ones.', 'the', 'stoppage', 'would', 'appear', 'to', 'be', 'another', 'step', 'in', 'the', 'central', \"government's\", 'battle', 'to', 'control', 'project', 'licensed', 'by', 'local', 'officials.', 'however,', 'previous', 'crackdown', 'have', 'tended', 'to', 'focus', 'on', 'project', 'for', 'which', 'the', 'government', 'argued', 'there', 'wa', 'overcapacity,', 'such', 'a', 'steel', 'and', 'cement.', 'the', 'government', 'ha', 'encouraged', 'construction', 'of', 'new', 'electricity', 'generating', 'capacity', 'to', 'solve', 'chronic', 'energy', 'shortage', 'which', 'forced', 'many', 'factory', 'onto', 'part-time', 'working', 'last', 'year.', 'in', '2004,', 'china', 'increased', 'it', 'generating', 'capacity', 'by', '12.6%,', 'or', '440,700', 'megawatt', '(mw).', 'the', 'biggest', 'single', 'project', 'to', 'be', 'halted', 'wa', 'the', 'xiluodi', 'dam', 'project,', 'designed', 'to', 'produce', '12,600', 'mw', 'of', 'electricity.', 'it', 'is', 'being', 'built', 'on', 'the', 'jinshajiang', '-', 'or', \"'river\", 'of', 'golden', \"sand'\", 'a', 'the', 'upper', 'reach', 'of', 'the', 'yangtze', 'are', 'known.', 'second', 'and', 'third', 'on', 'the', \"agency's\", 'list', 'were', 'two', 'power', 'station', 'being', 'built', 'at', 'the', '$22bn', 'three', 'gorge', 'dam', 'project', 'on', 'the', 'central', 'yangtze', '-', 'an', 'underground', '4,200', 'mw', 'power', 'plant', 'and', 'a', '100', 'mw', 'plant.', '', 'the', 'three', 'gorge', 'dam', 'ha', 'proved', 'controversial', 'in', 'china', '-', 'where', 'more', 'than', 'half', 'a', 'million', 'people', 'have', 'been', 'relocated', 'to', 'make', 'way', 'for', 'it', '-', 'and', 'abroad.', 'it', 'ha', 'drawn', 'criticism', 'from', 'environmental', 'group', 'and', 'overseas', 'human', 'right', 'activists.', 'the', 'damming', 'of', 'the', 'upper', 'yangtze', 'ha', 'also', 'begun', 'to', 'attract', 'criticism', 'from', 'environmentalist', 'in', 'china.', 'in', 'april', '2004,', 'central', 'government', 'official', 'ordered', 'a', 'halt', 'to', 'work', 'on', 'the', 'nearby', 'nu', 'river,', 'which', 'is', 'part', 'of', 'a', 'united', 'nation', 'world', 'heritage', 'site,', 'the', 'three', 'parallel', 'river', 'site', 'which', 'cover', 'the', 'yangtze,', 'mekong', 'and', 'nu', '(also', 'known', 'a', 'the', 'salween),', 'according', 'to', 'the', 'uk-published', 'china', 'review.', 'that', 'move', 'reportedly', 'followed', 'a', 'protest', 'from', 'the', 'thai', 'government', 'about', 'the', 'downstream', 'impact', 'of', 'the', 'dams,', 'and', 'a', 'critical', 'documentary', 'made', 'by', 'chinese', 'journalists.', \"china's\", 'energy', 'shortage', 'influenced', 'global', 'price', 'for', 'oil,', 'coal', 'and', 'shipping', 'last', 'year.', '']\n"
          ]
        }
      ]
    },
    {
      "cell_type": "markdown",
      "source": [
        "Here also we can see similar problems as we see in other lemmatizers, most words lost their meaning. The results are mostly similar to that of wordnet lemmatizer."
      ],
      "metadata": {
        "id": "rQAKQtFgcyWx"
      }
    },
    {
      "cell_type": "markdown",
      "source": [
        "## **Feature Extraction (Vectorization)**\n",
        "\n",
        "Vectorization is jargon for a classic approach of converting input data from its raw format (i.e. text ) into vectors of real numbers which is the format that ML models support.\n",
        "\n",
        "The idea is to get some distinct features out of the text for the model to train on, by converting text to numerical vectors."
      ],
      "metadata": {
        "id": "fsCCjnV83IzP"
      }
    },
    {
      "cell_type": "code",
      "metadata": {
        "_cell_guid": "59988959-fa66-4c1f-9797-9a5ea3e6927d",
        "_uuid": "46fa661ac2dbb94d28fa1190172c52ddbce05c4a",
        "id": "-9KGNBe4uYj8",
        "colab": {
          "base_uri": "https://localhost:8080/"
        },
        "outputId": "2492258e-c6bb-493f-8934-a1efc8d19a4a"
      },
      "source": [
        "# creating a countvectorizer object\n",
        "count_vectorizer = CountVectorizer(stop_words = stpwrd, max_features = 4000)\n",
        "\n",
        "# text before vectorization \n",
        "text_sample = reindexed_data\n",
        "print('Content before vectorization: {}'.format(text_sample[123]))\n",
        "\n",
        "# encode the textual content\n",
        "document_term_matrix = count_vectorizer.fit_transform(text_sample)\n",
        "\n",
        "# text after vectorization\n",
        "print('Content after vectorization: \\n{}'.format(document_term_matrix[123]))"
      ],
      "execution_count": null,
      "outputs": [
        {
          "output_type": "stream",
          "name": "stdout",
          "text": [
            "Content before vectorization: delta cuts fares in survival plan  delta air lines is cutting domestic fares by as much as 50% as part of a plan to ensure its financial survival.  other us carriers, including united, have sought bankruptcy protection, amid high fuel costs and competition from discount carriers. delta is restructuring in a bid to fight off insolvency. this latest move to boost business has prompted speculation other firms will be forced to match their fares, hurting revenues in the sector. delta's new simplifares were trialled from august last year on tickets from cincinnati, its second-largest hub.  the airline says no one-way economy fare will now be priced higher than $499 (£264), and no first-class fare will be priced higher than $599. it is also eliminating a saturday-night stay requirement on discount fares and will give further reductions to customers opting for non-refundable tickets, booking in advance and online. delta, which lost $646m in the three months to september, was forced to cut 6,900 jobs worldwide as part of its aim to slash $5bn from its costs. in october, it reached a crucial agreement with pilots on pay and conditions and it has also issued new shares to staff in return for wage cuts. airline shares closed lower on the announcement, with delta, continental and american airlines all falling by more than 7%. \"we believe the whole airline industry will now have to move in this direction; this will likely hurt revenue in the short run but could be beneficial in the long run,\" said analyst ray neidl at calyon securities. \n",
            "Content after vectorization: \n",
            "  (0, 1844)\t1\n",
            "  (0, 3639)\t1\n",
            "  (0, 2365)\t2\n",
            "  (0, 2495)\t1\n",
            "  (0, 1216)\t1\n",
            "  (0, 2067)\t1\n",
            "  (0, 3986)\t1\n",
            "  (0, 2816)\t1\n",
            "  (0, 3114)\t1\n",
            "  (0, 1474)\t1\n",
            "  (0, 2424)\t2\n",
            "  (0, 1498)\t2\n",
            "  (0, 2579)\t2\n",
            "  (0, 3166)\t1\n",
            "  (0, 3883)\t1\n",
            "  (0, 251)\t2\n",
            "  (0, 3765)\t1\n",
            "  (0, 3785)\t1\n",
            "  (0, 2446)\t1\n",
            "  (0, 3430)\t1\n",
            "  (0, 1473)\t1\n",
            "  (0, 821)\t1\n",
            "  (0, 595)\t1\n",
            "  (0, 2381)\t1\n",
            "  (0, 919)\t2\n",
            "  :\t:\n",
            "  (0, 3122)\t1\n",
            "  (0, 217)\t1\n",
            "  (0, 1866)\t1\n",
            "  (0, 3039)\t1\n",
            "  (0, 3913)\t1\n",
            "  (0, 3038)\t1\n",
            "  (0, 764)\t1\n",
            "  (0, 3367)\t1\n",
            "  (0, 88)\t1\n",
            "  (0, 1942)\t1\n",
            "  (0, 429)\t1\n",
            "  (0, 2888)\t1\n",
            "  (0, 212)\t1\n",
            "  (0, 2891)\t1\n",
            "  (0, 2141)\t1\n",
            "  (0, 3343)\t1\n",
            "  (0, 2498)\t1\n",
            "  (0, 2800)\t1\n",
            "  (0, 1275)\t1\n",
            "  (0, 182)\t1\n",
            "  (0, 751)\t1\n",
            "  (0, 1043)\t6\n",
            "  (0, 2248)\t1\n",
            "  (0, 3645)\t2\n",
            "  (0, 953)\t1\n"
          ]
        }
      ]
    },
    {
      "cell_type": "markdown",
      "source": [
        "We can see that the text was succesfully converted into a vectorized numeric form. The countvectorizer works as intended, we can now move forward to implement the ML model. "
      ],
      "metadata": {
        "id": "s9ZlDL1bfLeX"
      }
    },
    {
      "cell_type": "markdown",
      "source": [
        "## **Model Development**\n",
        "\n",
        "Now that all the necessary preprocessing is done, we'll implement the ML model for topic modeling on the BBC news articles. Here we have used the LSA as well as LDAA algorithm for the purpose. Let’s discuss more about the algorithm and its specifics."
      ],
      "metadata": {
        "id": "5msQBtY0EaJ2"
      }
    },
    {
      "cell_type": "markdown",
      "source": [
        "## **Latent Semantic Allocation**"
      ],
      "metadata": {
        "id": "ug8JzgzvBDck"
      }
    },
    {
      "cell_type": "code",
      "source": [
        "# creating new dataframe for LSA\n",
        "lsa_df = pd.DataFrame({'Heading' : bbc['Category'],'News': bbc['Contents']})"
      ],
      "metadata": {
        "id": "G0EPYuxfAjHQ"
      },
      "execution_count": null,
      "outputs": []
    },
    {
      "cell_type": "code",
      "source": [
        "lsa_df.head()"
      ],
      "metadata": {
        "colab": {
          "base_uri": "https://localhost:8080/",
          "height": 206
        },
        "id": "shf6IoWhBn0j",
        "outputId": "efd4bb72-e699-4347-aff9-87eb75db9aff"
      },
      "execution_count": null,
      "outputs": [
        {
          "output_type": "execute_result",
          "data": {
            "text/plain": [
              "    Heading                                               News\n",
              "0  business  china suspends 26 power projects  china has or...\n",
              "1  business  lacroix label bought by us firm  luxury goods ...\n",
              "2  business  euro firms miss out on optimism  more than 90%...\n",
              "3  business  india's reliance family feud heats up  the ong...\n",
              "4  business  trial begins of spain's top banker  the trial ..."
            ],
            "text/html": [
              "\n",
              "  <div id=\"df-ae032f0a-d04b-4dd2-90cf-16deb9d70adb\">\n",
              "    <div class=\"colab-df-container\">\n",
              "      <div>\n",
              "<style scoped>\n",
              "    .dataframe tbody tr th:only-of-type {\n",
              "        vertical-align: middle;\n",
              "    }\n",
              "\n",
              "    .dataframe tbody tr th {\n",
              "        vertical-align: top;\n",
              "    }\n",
              "\n",
              "    .dataframe thead th {\n",
              "        text-align: right;\n",
              "    }\n",
              "</style>\n",
              "<table border=\"1\" class=\"dataframe\">\n",
              "  <thead>\n",
              "    <tr style=\"text-align: right;\">\n",
              "      <th></th>\n",
              "      <th>Heading</th>\n",
              "      <th>News</th>\n",
              "    </tr>\n",
              "  </thead>\n",
              "  <tbody>\n",
              "    <tr>\n",
              "      <th>0</th>\n",
              "      <td>business</td>\n",
              "      <td>china suspends 26 power projects  china has or...</td>\n",
              "    </tr>\n",
              "    <tr>\n",
              "      <th>1</th>\n",
              "      <td>business</td>\n",
              "      <td>lacroix label bought by us firm  luxury goods ...</td>\n",
              "    </tr>\n",
              "    <tr>\n",
              "      <th>2</th>\n",
              "      <td>business</td>\n",
              "      <td>euro firms miss out on optimism  more than 90%...</td>\n",
              "    </tr>\n",
              "    <tr>\n",
              "      <th>3</th>\n",
              "      <td>business</td>\n",
              "      <td>india's reliance family feud heats up  the ong...</td>\n",
              "    </tr>\n",
              "    <tr>\n",
              "      <th>4</th>\n",
              "      <td>business</td>\n",
              "      <td>trial begins of spain's top banker  the trial ...</td>\n",
              "    </tr>\n",
              "  </tbody>\n",
              "</table>\n",
              "</div>\n",
              "      <button class=\"colab-df-convert\" onclick=\"convertToInteractive('df-ae032f0a-d04b-4dd2-90cf-16deb9d70adb')\"\n",
              "              title=\"Convert this dataframe to an interactive table.\"\n",
              "              style=\"display:none;\">\n",
              "        \n",
              "  <svg xmlns=\"http://www.w3.org/2000/svg\" height=\"24px\"viewBox=\"0 0 24 24\"\n",
              "       width=\"24px\">\n",
              "    <path d=\"M0 0h24v24H0V0z\" fill=\"none\"/>\n",
              "    <path d=\"M18.56 5.44l.94 2.06.94-2.06 2.06-.94-2.06-.94-.94-2.06-.94 2.06-2.06.94zm-11 1L8.5 8.5l.94-2.06 2.06-.94-2.06-.94L8.5 2.5l-.94 2.06-2.06.94zm10 10l.94 2.06.94-2.06 2.06-.94-2.06-.94-.94-2.06-.94 2.06-2.06.94z\"/><path d=\"M17.41 7.96l-1.37-1.37c-.4-.4-.92-.59-1.43-.59-.52 0-1.04.2-1.43.59L10.3 9.45l-7.72 7.72c-.78.78-.78 2.05 0 2.83L4 21.41c.39.39.9.59 1.41.59.51 0 1.02-.2 1.41-.59l7.78-7.78 2.81-2.81c.8-.78.8-2.07 0-2.86zM5.41 20L4 18.59l7.72-7.72 1.47 1.35L5.41 20z\"/>\n",
              "  </svg>\n",
              "      </button>\n",
              "      \n",
              "  <style>\n",
              "    .colab-df-container {\n",
              "      display:flex;\n",
              "      flex-wrap:wrap;\n",
              "      gap: 12px;\n",
              "    }\n",
              "\n",
              "    .colab-df-convert {\n",
              "      background-color: #E8F0FE;\n",
              "      border: none;\n",
              "      border-radius: 50%;\n",
              "      cursor: pointer;\n",
              "      display: none;\n",
              "      fill: #1967D2;\n",
              "      height: 32px;\n",
              "      padding: 0 0 0 0;\n",
              "      width: 32px;\n",
              "    }\n",
              "\n",
              "    .colab-df-convert:hover {\n",
              "      background-color: #E2EBFA;\n",
              "      box-shadow: 0px 1px 2px rgba(60, 64, 67, 0.3), 0px 1px 3px 1px rgba(60, 64, 67, 0.15);\n",
              "      fill: #174EA6;\n",
              "    }\n",
              "\n",
              "    [theme=dark] .colab-df-convert {\n",
              "      background-color: #3B4455;\n",
              "      fill: #D2E3FC;\n",
              "    }\n",
              "\n",
              "    [theme=dark] .colab-df-convert:hover {\n",
              "      background-color: #434B5C;\n",
              "      box-shadow: 0px 1px 3px 1px rgba(0, 0, 0, 0.15);\n",
              "      filter: drop-shadow(0px 1px 2px rgba(0, 0, 0, 0.3));\n",
              "      fill: #FFFFFF;\n",
              "    }\n",
              "  </style>\n",
              "\n",
              "      <script>\n",
              "        const buttonEl =\n",
              "          document.querySelector('#df-ae032f0a-d04b-4dd2-90cf-16deb9d70adb button.colab-df-convert');\n",
              "        buttonEl.style.display =\n",
              "          google.colab.kernel.accessAllowed ? 'block' : 'none';\n",
              "\n",
              "        async function convertToInteractive(key) {\n",
              "          const element = document.querySelector('#df-ae032f0a-d04b-4dd2-90cf-16deb9d70adb');\n",
              "          const dataTable =\n",
              "            await google.colab.kernel.invokeFunction('convertToInteractive',\n",
              "                                                     [key], {});\n",
              "          if (!dataTable) return;\n",
              "\n",
              "          const docLinkHtml = 'Like what you see? Visit the ' +\n",
              "            '<a target=\"_blank\" href=https://colab.research.google.com/notebooks/data_table.ipynb>data table notebook</a>'\n",
              "            + ' to learn more about interactive tables.';\n",
              "          element.innerHTML = '';\n",
              "          dataTable['output_type'] = 'display_data';\n",
              "          await google.colab.output.renderOutput(dataTable, element);\n",
              "          const docLink = document.createElement('div');\n",
              "          docLink.innerHTML = docLinkHtml;\n",
              "          element.appendChild(docLink);\n",
              "        }\n",
              "      </script>\n",
              "    </div>\n",
              "  </div>\n",
              "  "
            ]
          },
          "metadata": {},
          "execution_count": 70
        }
      ]
    },
    {
      "cell_type": "code",
      "source": [
        "from sklearn.feature_extraction.text import CountVectorizer\n",
        "from sklearn.decomposition import TruncatedSVD\n",
        "from sklearn.cluster import KMeans\n",
        "from sklearn.metrics import silhouette_score\n",
        "from sklearn.manifold import TSNE\n",
        "from sklearn.preprocessing import LabelEncoder\n",
        "from nltk.corpus import stopwords\n",
        "import matplotlib.pyplot as plt\n",
        "import seaborn as sns\n",
        "from tqdm import tqdm, tqdm_notebook"
      ],
      "metadata": {
        "id": "nQtivI8-Bpk0"
      },
      "execution_count": null,
      "outputs": []
    },
    {
      "cell_type": "code",
      "source": [
        "stopword_list = stopwords.words('english')\n",
        "dtm = CountVectorizer(max_df=0.7, min_df=5, token_pattern=\"[a-z']+\", \n",
        "                      stop_words=stopword_list, max_features=2000) # Only top 2000 most frequently ocurring words are considered\n",
        "dtm.fit(lsa_df['News'])\n",
        "dtm_mat = dtm.transform(lsa_df['News'])"
      ],
      "metadata": {
        "id": "xQNXIXpyBrNj"
      },
      "execution_count": null,
      "outputs": []
    },
    {
      "cell_type": "code",
      "source": [
        "tsvd = TruncatedSVD(n_components=200)\n",
        "tsvd.fit(dtm_mat)\n",
        "tsvd_mat = tsvd.transform(dtm_mat)"
      ],
      "metadata": {
        "id": "_XzicNWyBtNU"
      },
      "execution_count": null,
      "outputs": []
    },
    {
      "cell_type": "code",
      "source": [
        "s_list = []\n",
        "\n",
        "for clus in tqdm(range(2,21)):\n",
        "\n",
        "    km = KMeans(n_clusters=clus, n_init=50, max_iter=1000) # Instantiate KMeans clustering\n",
        "\n",
        "    km.fit(tsvd_mat) # Run KMeans clustering\n",
        "\n",
        "    s = silhouette_score(tsvd_mat, km.labels_)\n",
        "\n",
        "    s_list.append(s)"
      ],
      "metadata": {
        "colab": {
          "base_uri": "https://localhost:8080/"
        },
        "id": "dzWfDeFjB1fE",
        "outputId": "d0f94599-ee70-4174-a28e-37f4b934d195"
      },
      "execution_count": null,
      "outputs": [
        {
          "output_type": "stream",
          "name": "stderr",
          "text": [
            "100%|██████████| 19/19 [02:28<00:00,  7.79s/it]\n"
          ]
        }
      ]
    },
    {
      "cell_type": "code",
      "source": [
        "plt.plot(range(2,21), s_list)\n",
        "\n",
        "plt.show()"
      ],
      "metadata": {
        "colab": {
          "base_uri": "https://localhost:8080/",
          "height": 374
        },
        "id": "FnBds4_xB3YD",
        "outputId": "b69cf360-fc69-493f-8169-d66744da9de6"
      },
      "execution_count": null,
      "outputs": [
        {
          "output_type": "display_data",
          "data": {
            "text/plain": [
              "<Figure size 864x432 with 1 Axes>"
            ],
            "image/png": "[encoded data removed]"
          },
          "metadata": {
            "needs_background": "light"
          }
        }
      ]
    },
    {
      "cell_type": "markdown",
      "source": [
        "**Why this plot?**\n",
        "\n",
        "This plot will help us identify the number of clusters for news articles.\n",
        "\n",
        "**Observation**\n",
        "\n",
        "Number of clusters ,the best value is k=4.\n",
        "\n",
        "**Business Implication**\n",
        "\n",
        "We can create articles under new categories which would represent a different cluster.\n"
      ],
      "metadata": {
        "id": "m3m8ENFCdWg4"
      }
    },
    {
      "cell_type": "code",
      "source": [
        "tsne = TSNE(n_components=2)\n",
        "tsne_mat = tsne.fit_transform(tsvd_mat)"
      ],
      "metadata": {
        "id": "z-cJDyD_B5DD"
      },
      "execution_count": null,
      "outputs": []
    },
    {
      "cell_type": "code",
      "source": [
        "plt.figure(figsize=(10,8))\n",
        "sns.scatterplot(tsne_mat[:,0],tsne_mat[:,1],hue=lsa_df['Heading'])"
      ],
      "metadata": {
        "colab": {
          "base_uri": "https://localhost:8080/",
          "height": 500
        },
        "id": "xqIfDp3JB6rC",
        "outputId": "52907e5c-82b4-4f18-821f-d051ba77052f"
      },
      "execution_count": null,
      "outputs": [
        {
          "output_type": "execute_result",
          "data": {
            "text/plain": [
              "<matplotlib.axes._subplots.AxesSubplot at 0x7fa6250ddd90>"
            ]
          },
          "metadata": {},
          "execution_count": 68
        },
        {
          "output_type": "display_data",
          "data": {
            "text/plain": [
              "<Figure size 720x576 with 1 Axes>"
            ],
            "image/png": "[encoded data removed]"
          },
          "metadata": {
            "needs_background": "light"
          }
        }
      ]
    },
    {
      "cell_type": "markdown",
      "source": [
        "**Why this plot?**\n",
        "\n",
        "Scatter graphs are used to identify anomalies in the data more easily as well as the overall trend and relationship between the variables. The strength of any relationship can also be visualised.\n",
        "\n"
      ],
      "metadata": {
        "id": "-nm-H6g6cJRF"
      }
    },
    {
      "cell_type": "markdown",
      "source": [
        "### **Latent Dirichlet Allocation (LDA)**\n",
        "\n",
        "Latent Dirichlet Allocation (LDA) is one of most popular topic modeling technique to extract topics from a given corpus. The term latent conveys something that exists but is not yet developed. In other words, latent means hidden or concealed. The Dirichlet model describes the pattern of the words that are repeating together, occurring frequently, and these words are similar to each other.\n",
        "\n",
        "And this stochastic process uses Bayesian inferences for explaining “the prior knowledge about the distribution of random variables”. In the case of topic modeling, the process helps in estimating what are the chances of the words, which are spread over the document, will occur again? This enables the model to build data points, estimate probabilities, that’s why LDA is a breed of generative probabilistic model.\n",
        "\n",
        "LDA generates probabilities for the words using which the topics are formed and eventually the topics are classified into documents.\n",
        "\n",
        "**The LDA makes two key assumptions:**\n",
        "* Documents are a mixture of topics, and\n",
        "* Topics are a mixture of tokens (or words)\n",
        "\n",
        "The end goal of LDA is to find the most optimal representation of the Document-Topic matrix and the Topic-Word matrix to find the most optimized Document-Topic distribution and Topic-Word distribution.\n",
        "\n",
        "As LDA assumes that documents are a mixture of topics and topics are a mixture of words so LDA backtracks from the document level to identify which topics would have generated these documents and which words would have generated those topics.\n",
        "\n"
      ],
      "metadata": {
        "id": "ot49jpYZEkqe"
      }
    },
    {
      "cell_type": "code",
      "metadata": {
        "_cell_guid": "c19bf4af-f399-4493-8fa5-d55e54e4f681",
        "_uuid": "0671476e00f484368beb747eb1529bfd680aa7fa",
        "id": "9iLe_nbRuYkE",
        "colab": {
          "base_uri": "https://localhost:8080/"
        },
        "outputId": "769a5ec9-cc4f-4eab-d7ee-6cb6636d9cbd"
      },
      "source": [
        "# hyperparameter tuning using Grid Search CV\n",
        "grid_params = {'n_components' : [5]}\n",
        "\n",
        "# creating LDA model object\n",
        "lda = LatentDirichletAllocation()\n",
        "\n",
        "# fitting the model\n",
        "lda_model = GridSearchCV(lda, param_grid = grid_params)\n",
        "lda_model.fit(document_term_matrix)\n",
        "\n",
        "# best LDA model\n",
        "best_lda_model = lda_model.best_estimator_\n",
        "print(\"Best LDA model's params\" , lda_model.best_params_)\n",
        "print(\"Best log likelihood Score for the LDA model\",lda_model.best_score_)\n",
        "print(\"LDA model Perplexity on train data\", best_lda_model.perplexity(document_term_matrix))"
      ],
      "execution_count": null,
      "outputs": [
        {
          "output_type": "stream",
          "name": "stdout",
          "text": [
            "Best LDA model's params {'n_components': 5}\n",
            "Best log likelihood Score for the LDA model -648073.8821512626\n",
            "LDA model Perplexity on train data 1638.8571161378582\n"
          ]
        }
      ]
    },
    {
      "cell_type": "code",
      "source": [
        "# installing pyLDAvis to visualize the results of LDA model\n",
        "!pip install pyLDAvis"
      ],
      "metadata": {
        "id": "HgDDyZrwkqQb",
        "colab": {
          "base_uri": "https://localhost:8080/"
        },
        "outputId": "2647056c-6d92-4292-d902-d31f98a81b52"
      },
      "execution_count": null,
      "outputs": [
        {
          "output_type": "stream",
          "name": "stdout",
          "text": [
            "Looking in indexes: https://pypi.org/simple, https://us-python.pkg.dev/colab-wheels/public/simple/\n",
            "Collecting pyLDAvis\n",
            "  Downloading pyLDAvis-3.3.1.tar.gz (1.7 MB)\n",
            "\u001b[2K     \u001b[90m━━━━━━━━━━━━━━━━━━━━━━━━━━━━━━━━━━━━━━━━\u001b[0m \u001b[32m1.7/1.7 MB\u001b[0m \u001b[31m21.4 MB/s\u001b[0m eta \u001b[36m0:00:00\u001b[0m\n",
            "\u001b[?25h  Installing build dependencies ... \u001b[?25l\u001b[?25hdone\n",
            "  Getting requirements to build wheel ... \u001b[?25l\u001b[?25hdone\n",
            "  Installing backend dependencies ... \u001b[?25l\u001b[?25hdone\n",
            "  Preparing metadata (pyproject.toml) ... \u001b[?25l\u001b[?25hdone\n",
            "Requirement already satisfied: scipy in /usr/local/lib/python3.8/dist-packages (from pyLDAvis) (1.7.3)\n",
            "Requirement already satisfied: numexpr in /usr/local/lib/python3.8/dist-packages (from pyLDAvis) (2.8.4)\n",
            "Requirement already satisfied: joblib in /usr/local/lib/python3.8/dist-packages (from pyLDAvis) (1.2.0)\n",
            "Requirement already satisfied: jinja2 in /usr/local/lib/python3.8/dist-packages (from pyLDAvis) (2.11.3)\n",
            "Requirement already satisfied: future in /usr/local/lib/python3.8/dist-packages (from pyLDAvis) (0.16.0)\n",
            "Collecting sklearn\n",
            "  Downloading sklearn-0.0.post1.tar.gz (3.6 kB)\n",
            "  Preparing metadata (setup.py) ... \u001b[?25l\u001b[?25hdone\n",
            "Requirement already satisfied: gensim in /usr/local/lib/python3.8/dist-packages (from pyLDAvis) (3.6.0)\n",
            "Requirement already satisfied: numpy>=1.20.0 in /usr/local/lib/python3.8/dist-packages (from pyLDAvis) (1.21.6)\n",
            "Collecting funcy\n",
            "  Downloading funcy-1.17-py2.py3-none-any.whl (33 kB)\n",
            "Requirement already satisfied: scikit-learn in /usr/local/lib/python3.8/dist-packages (from pyLDAvis) (1.0.2)\n",
            "Requirement already satisfied: setuptools in /usr/local/lib/python3.8/dist-packages (from pyLDAvis) (57.4.0)\n",
            "Requirement already satisfied: pandas>=1.2.0 in /usr/local/lib/python3.8/dist-packages (from pyLDAvis) (1.3.5)\n",
            "Requirement already satisfied: python-dateutil>=2.7.3 in /usr/local/lib/python3.8/dist-packages (from pandas>=1.2.0->pyLDAvis) (2.8.2)\n",
            "Requirement already satisfied: pytz>=2017.3 in /usr/local/lib/python3.8/dist-packages (from pandas>=1.2.0->pyLDAvis) (2022.7)\n",
            "Requirement already satisfied: smart-open>=1.2.1 in /usr/local/lib/python3.8/dist-packages (from gensim->pyLDAvis) (6.3.0)\n",
            "Requirement already satisfied: six>=1.5.0 in /usr/local/lib/python3.8/dist-packages (from gensim->pyLDAvis) (1.15.0)\n",
            "Requirement already satisfied: MarkupSafe>=0.23 in /usr/local/lib/python3.8/dist-packages (from jinja2->pyLDAvis) (2.0.1)\n",
            "Requirement already satisfied: threadpoolctl>=2.0.0 in /usr/local/lib/python3.8/dist-packages (from scikit-learn->pyLDAvis) (3.1.0)\n",
            "Building wheels for collected packages: pyLDAvis, sklearn\n",
            "  Building wheel for pyLDAvis (pyproject.toml) ... \u001b[?25l\u001b[?25hdone\n",
            "  Created wheel for pyLDAvis: filename=pyLDAvis-3.3.1-py2.py3-none-any.whl size=136898 sha256=1854c264ada61f2acb63982bd2d485606d3337ab945d3c915135e5ae39435ed3\n",
            "  Stored in directory: /root/.cache/pip/wheels/90/61/ec/9dbe9efc3acf9c4e37ba70fbbcc3f3a0ebd121060aa593181a\n",
            "  Building wheel for sklearn (setup.py) ... \u001b[?25l\u001b[?25hdone\n",
            "  Created wheel for sklearn: filename=sklearn-0.0.post1-py3-none-any.whl size=2344 sha256=ef8bd3423814e68e14a2e69038b7b7272d34e7fe7b81b5ef8ed033ef2c3a0db4\n",
            "  Stored in directory: /root/.cache/pip/wheels/14/25/f7/1cc0956978ae479e75140219088deb7a36f60459df242b1a72\n",
            "Successfully built pyLDAvis sklearn\n",
            "Installing collected packages: sklearn, funcy, pyLDAvis\n",
            "Successfully installed funcy-1.17 pyLDAvis-3.3.1 sklearn-0.0.post1\n"
          ]
        }
      ]
    },
    {
      "cell_type": "code",
      "source": [
        "# importing pyLDAvis module\n",
        "import pyLDAvis.sklearn\n",
        "pyLDAvis.enable_notebook()"
      ],
      "metadata": {
        "id": "Wuo38azekz5z",
        "colab": {
          "base_uri": "https://localhost:8080/"
        },
        "outputId": "dcc87a9e-e30c-49ce-bcac-02e065c19263"
      },
      "execution_count": null,
      "outputs": [
        {
          "output_type": "stream",
          "name": "stderr",
          "text": [
            "/usr/local/lib/python3.8/dist-packages/past/types/oldstr.py:5: DeprecationWarning: Using or importing the ABCs from 'collections' instead of from 'collections.abc' is deprecated since Python 3.3, and in 3.10 it will stop working\n",
            "  from collections import Iterable\n",
            "/usr/local/lib/python3.8/dist-packages/past/builtins/misc.py:4: DeprecationWarning: Using or importing the ABCs from 'collections' instead of from 'collections.abc' is deprecated since Python 3.3, and in 3.10 it will stop working\n",
            "  from collections import Mapping\n"
          ]
        }
      ]
    },
    {
      "cell_type": "markdown",
      "source": [
        "Now lets visualize the results using pyLDAvis to get the better understanding of the model. This will show us the topics found for all 5 categories and how they're distributed based on preferences."
      ],
      "metadata": {
        "id": "Q3iddv-7kVlw"
      }
    },
    {
      "cell_type": "code",
      "source": [
        "# generate and display the graph\n",
        "lda_panel = pyLDAvis.sklearn.prepare(best_lda_model, document_term_matrix, count_vectorizer, mds='tsne')\n",
        "lda_panel"
      ],
      "metadata": {
        "colab": {
          "base_uri": "https://localhost:8080/",
          "height": 861
        },
        "id": "aHHDL7N-k4qI",
        "outputId": "dce129ed-56c5-452e-91a9-e4567d227e01"
      },
      "execution_count": null,
      "outputs": [
        {
          "output_type": "execute_result",
          "data": {
            "text/plain": [
              "PreparedData(topic_coordinates=                x           y  topics  cluster       Freq\n",
              "topic                                                    \n",
              "4      150.222153  -72.269554       1        1  27.131220\n",
              "3       51.163364 -159.968018       2        1  22.125844\n",
              "2      -73.144554   21.523815       3        1  19.821545\n",
              "1      -66.410133 -110.606438       4        1  15.873522\n",
              "0       54.417324   12.443444       5        1  15.047869, topic_info=         Term         Freq        Total Category  logprob  loglift\n",
              "2377       mr  2852.000000  2852.000000  Default  30.0000  30.0000\n",
              "1453     film   824.000000   824.000000  Default  29.0000  29.0000\n",
              "1570     game   826.000000   826.000000  Default  28.0000  28.0000\n",
              "482      best   918.000000   918.000000  Default  27.0000  27.0000\n",
              "2049   labour   777.000000   777.000000  Default  26.0000  26.0000\n",
              "...       ...          ...          ...      ...      ...      ...\n",
              "251      also   301.496719  2017.572231   Topic5  -5.2502  -0.0070\n",
              "1789  however   213.735407   500.627794   Topic5  -5.5942   1.0428\n",
              "2315  million   214.239140   529.641020   Topic5  -5.5919   0.9888\n",
              "2424      new   256.346755  1858.846967   Topic5  -5.4125  -0.0872\n",
              "3745       uk   211.478017  1053.364859   Topic5  -5.6049   0.2883\n",
              "\n",
              "[392 rows x 6 columns], token_table=      Topic      Freq             Term\n",
              "term                                  \n",
              "0         1  0.244507              000\n",
              "0         2  0.391212              000\n",
              "0         3  0.022468              000\n",
              "0         4  0.129523              000\n",
              "0         5  0.214109              000\n",
              "...     ...       ...              ...\n",
              "3987      5  0.169595            years\n",
              "3988      5  0.977700              yen\n",
              "3995      5  0.993914          yugansk\n",
              "3996      5  0.978088  yuganskneftegas\n",
              "3997      5  0.996718            yukos\n",
              "\n",
              "[838 rows x 3 columns], R=30, lambda_step=0.01, plot_opts={'xlab': 'PC1', 'ylab': 'PC2'}, topic_order=[5, 4, 3, 2, 1])"
            ],
            "text/html": [
              "\n",
              "<link rel=\"stylesheet\" type=\"text/css\" href=\"https://cdn.jsdelivr.net/gh/bmabey/pyLDAvis@3.3.1/pyLDAvis/js/ldavis.v1.0.0.css\">\n",
              "\n",
              "\n",
              "<div id=\"ldavis_el1671403479302805607465358609\"></div>\n",
              "<script type=\"text/javascript\">\n",
              "\n",
              "var ldavis_el1671403479302805607465358609_data = {\"mdsDat\": {\"x\": [150.22215270996094, 51.16336441040039, -73.1445541381836, -66.4101333618164, 54.41732406616211], \"y\": [-72.2695541381836, -159.968017578125, 21.523815155029297, -110.60643768310547, 12.44344425201416], \"topics\": [1, 2, 3, 4, 5], \"cluster\": [1, 1, 1, 1, 1], \"Freq\": [27.131219806245166, 22.125843988934143, 19.82154491072321, 15.873522204831488, 15.047869089265983]}, \"tinfo\": {\"Term\": [\"mr\", \"film\", \"game\", \"best\", \"labour\", \"year\", \"election\", \"market\", \"growth\", \"games\", \"music\", \"sales\", \"government\", \"party\", \"bank\", \"us\", \"players\", \"blair\", \"economy\", \"oil\", \"people\", \"2004\", \"awards\", \"england\", \"china\", \"prices\", \"award\", \"brown\", \"cup\", \"analysts\", \"users\", \"web\", \"sites\", \"bt\", \"google\", \"lords\", \"software\", \"blunkett\", \"windows\", \"websites\", \"spam\", \"file\", \"programs\", \"peer\", \"computers\", \"viruses\", \"networks\", \"internet\", \"machines\", \"blogs\", \"ebbers\", \"computer\", \"user\", \"blog\", \"links\", \"yahoo\", \"telephone\", \"ibm\", \"suspects\", \"malicious\", \"broadband\", \"messages\", \"information\", \"mail\", \"search\", \"phone\", \"microsoft\", \"site\", \"online\", \"download\", \"technology\", \"content\", \"using\", \"use\", \"security\", \"digital\", \"lord\", \"apple\", \"police\", \"people\", \"law\", \"anti\", \"access\", \"system\", \"net\", \"service\", \"said\", \"rights\", \"used\", \"mr\", \"could\", \"would\", \"home\", \"many\", \"new\", \"one\", \"make\", \"says\", \"also\", \"uk\", \"like\", \"way\", \"get\", \"us\", \"government\", \"ukip\", \"kilroy\", \"lse\", \"gm\", \"poverty\", \"fiat\", \"airlines\", \"boerse\", \"milburn\", \"pension\", \"elections\", \"pensions\", \"boeing\", \"hiv\", \"sri\", \"sec\", \"euronext\", \"referendum\", \"takeover\", \"prescott\", \"aircraft\", \"lanka\", \"veritas\", \"poorest\", \"g8\", \"airbus\", \"pensioners\", \"silk\", \"parmalat\", \"turkey\", \"election\", \"cuts\", \"airline\", \"policies\", \"chancellor\", \"assembly\", \"wage\", \"labour\", \"eu\", \"brown\", \"party\", \"kennedy\", \"blair\", \"prime\", \"aid\", \"tax\", \"budget\", \"minister\", \"tories\", \"mr\", \"leader\", \"government\", \"tory\", \"plans\", \"howard\", \"would\", \"said\", \"general\", \"tony\", \"public\", \"local\", \"country\", \"000\", \"also\", \"countries\", \"new\", \"told\", \"could\", \"people\", \"money\", \"britain\", \"uk\", \"one\", \"us\", \"year\", \"two\", \"cup\", \"rugby\", \"chelsea\", \"arsenal\", \"ball\", \"liverpool\", \"roddick\", \"robinson\", \"seed\", \"nintendo\", \"matches\", \"tournament\", \"gamers\", \"lions\", \"referee\", \"xbox\", \"tennis\", \"striker\", \"console\", \"mourinho\", \"nadal\", \"fa\", \"handsets\", \"wenger\", \"ds\", \"gara\", \"federer\", \"celtic\", \"henman\", \"multimedia\", \"game\", \"injury\", \"gaming\", \"champions\", \"players\", \"match\", \"league\", \"captain\", \"slam\", \"games\", \"football\", \"coach\", \"player\", \"side\", \"goal\", \"squad\", \"england\", \"ireland\", \"round\", \"premiership\", \"wales\", \"play\", \"season\", \"team\", \"club\", \"victory\", \"win\", \"playing\", \"half\", \"first\", \"back\", \"six\", \"time\", \"final\", \"two\", \"good\", \"second\", \"said\", \"one\", \"last\", \"year\", \"world\", \"would\", \"get\", \"also\", \"new\", \"awards\", \"film\", \"actor\", \"song\", \"award\", \"actress\", \"singer\", \"festival\", \"oscar\", \"comedy\", \"album\", \"chart\", \"nominations\", \"athens\", \"nominated\", \"musical\", \"theatre\", \"aviator\", \"drama\", \"oscars\", \"athletics\", \"starring\", \"holmes\", \"kenteris\", \"greek\", \"iaaf\", \"foxx\", \"thanou\", \"athletes\", \"dance\", \"films\", \"rock\", \"band\", \"ceremony\", \"prize\", \"hollywood\", \"olympic\", \"best\", \"star\", \"stars\", \"movie\", \"show\", \"music\", \"director\", \"british\", \"year\", \"also\", \"one\", \"top\", \"tv\", \"said\", \"new\", \"world\", \"years\", \"us\", \"first\", \"last\", \"record\", \"two\", \"number\", \"time\", \"uk\", \"three\", \"bbc\", \"oil\", \"yukos\", \"exports\", \"retail\", \"gazprom\", \"glazer\", \"economist\", \"gas\", \"rosneft\", \"yugansk\", \"yen\", \"currency\", \"prices\", \"slowdown\", \"khodorkovsky\", \"retailers\", \"lending\", \"wal\", \"mart\", \"yuganskneftegas\", \"baikal\", \"economists\", \"barclays\", \"auction\", \"putin\", \"reliance\", \"barrel\", \"recession\", \"rfid\", \"booming\", \"bank\", \"profits\", \"growth\", \"crude\", \"china\", \"analysts\", \"sales\", \"index\", \"assets\", \"markets\", \"profit\", \"rose\", \"market\", \"japan\", \"bankruptcy\", \"demand\", \"economy\", \"rates\", \"dollar\", \"price\", \"shares\", \"2004\", \"rate\", \"rise\", \"quarter\", \"figures\", \"economic\", \"us\", \"december\", \"year\", \"2005\", \"firm\", \"company\", \"said\", \"last\", \"expected\", \"also\", \"however\", \"million\", \"new\", \"uk\"], \"Freq\": [2852.0, 824.0, 826.0, 918.0, 777.0, 2216.0, 628.0, 684.0, 444.0, 583.0, 738.0, 480.0, 1138.0, 606.0, 382.0, 1884.0, 464.0, 570.0, 435.0, 310.0, 1863.0, 610.0, 302.0, 596.0, 319.0, 286.0, 280.0, 444.0, 291.0, 276.0, 343.1619480776216, 168.76348209640798, 137.58201045447123, 118.09531664156442, 113.22374076268827, 112.24381290493466, 298.9805235457685, 102.4993286091903, 100.5581412463831, 97.63221179306453, 94.71181340489687, 94.70905191072623, 90.80860875578735, 89.83778857587836, 89.64140066909414, 65.47970359225324, 169.4729749242764, 270.51729035712384, 93.32453698153337, 61.580307422867676, 61.57379929587093, 281.81220860023, 59.63140313136179, 58.65681212890124, 57.672923195684795, 54.75996384331941, 64.36292448868016, 56.67605852472779, 53.78704696253786, 53.787016386116434, 229.15227884265138, 103.1261258317965, 290.1284760634725, 180.26213292714812, 193.03682465639727, 322.9151315477688, 216.60225679763928, 153.4241004280501, 292.5826461923564, 99.81769404980264, 437.44026600436086, 169.13418158950012, 267.7550395632931, 447.0942291816006, 256.1446628209619, 288.5199073117992, 236.8085638783567, 156.54266142747267, 222.32517954554558, 1260.5147529277986, 274.09181873771485, 227.1565505674197, 196.63161046522654, 299.4697385994532, 310.4780405820443, 310.34465070567944, 2385.6984378177267, 206.15684998892192, 340.76147764260185, 993.9875440916758, 607.7063370155956, 796.8253997157233, 340.87054651201544, 373.17847162354735, 554.1637692997058, 507.32212390119076, 367.65207684032, 321.04763258711904, 491.2554442761476, 356.50421253121687, 324.54289756552777, 308.9001050055993, 312.182946261418, 341.9699746926642, 290.6508812165414, 130.52103297998926, 123.44926674447315, 80.00932165432394, 83.00429751281094, 78.97864132647086, 72.93489015309335, 72.93160275744987, 67.88641660340309, 68.88392136474543, 65.86467772745871, 86.71655001232764, 77.70048130621397, 50.70992294594507, 43.637559605331234, 54.54783689281687, 42.61157205206058, 39.600480710386464, 39.60029230820089, 91.05031765872165, 38.58988624719621, 36.56052839934708, 44.44727150989495, 34.54943481669531, 33.529203026083714, 32.52610772507385, 32.52500561406996, 32.5223098375281, 113.23703117146272, 30.502572146329484, 70.81059204482003, 604.2334970004351, 125.92963662074311, 88.3586195827367, 88.20177157804312, 244.9043109367817, 52.01222901333903, 68.3519855257591, 704.8797498066252, 272.68733627386075, 409.167579456961, 544.273396534985, 122.09577031734152, 501.0160178713375, 280.2930189865398, 164.38223752834836, 350.06131875738777, 222.7431400172981, 414.7458736811239, 203.8697907163226, 1724.1075410754713, 229.22431657614428, 730.8871675859291, 212.3817877856276, 300.0978580720878, 237.98972996908265, 978.6945847897775, 1912.262528768856, 229.84930969889666, 164.28107543758966, 301.5530259192558, 176.52475125323045, 248.10163830442707, 295.5527943905684, 476.4302594260225, 188.33156629080503, 423.92294316379486, 298.2220526957971, 348.5147357091871, 359.6322029544992, 210.45111198090981, 211.21232330594927, 265.9264933474747, 288.8703920209713, 268.483894388363, 270.7694551539361, 248.1600775383411, 290.96307972085555, 207.60046214814096, 189.19374288499367, 151.3941009272784, 137.8232183737638, 156.02891509076102, 116.50222882138125, 127.99938390058095, 87.4250358305254, 83.543815117292, 80.63871204674462, 79.66942908796668, 79.6655589823581, 77.73186092457645, 74.8247270741957, 73.83829579403641, 71.91506597043274, 70.9468335666549, 69.96996693029948, 68.04029220380846, 62.22501105916798, 58.34660426386673, 59.298460895522204, 56.40896202372528, 55.43659709439055, 54.470978996831704, 54.470914736456415, 53.500006150081596, 52.5320970529289, 52.51400365924294, 803.9316396444622, 222.36688693621184, 157.33517890461155, 108.64621278324798, 446.1950141067627, 278.39052034374697, 183.6509426262048, 107.70541702543272, 78.70514166161006, 525.5278975152603, 161.1671318789287, 204.19116418225863, 260.6770875429435, 289.98078099117515, 157.46416769392408, 125.04159956754944, 488.2544914780766, 274.09440984124245, 133.2402296428328, 95.41036678671139, 302.4213719108873, 399.9220076024571, 218.30192148640768, 298.06341751963794, 272.4991031049185, 173.1287096525625, 389.98601880303556, 221.83339623408682, 304.28285625307683, 542.6653881192407, 400.22116682851384, 272.9903484973203, 476.19244778521875, 235.8326825092948, 412.8697850718958, 292.46172816394227, 277.98857890254817, 823.0083422378455, 423.80578767927744, 353.92381752207973, 387.59102462021457, 319.83802733349904, 369.4184317270757, 266.4272228100451, 298.913813808646, 274.7057343734575, 301.9826951492372, 822.5682110908057, 197.78163883930264, 175.123023794449, 278.73114716846015, 146.66661847399433, 137.81759544400995, 135.85317079590618, 131.92121705520427, 127.9867290387651, 175.78786527707186, 123.93523996318696, 100.4646067423523, 99.47891037156111, 97.51473911653743, 94.54663512324416, 87.68305181899109, 86.70254970348665, 87.65265662553183, 73.92285370387101, 70.97236375927855, 68.02453104671709, 67.03896622237406, 62.1261807775448, 63.09104820399793, 61.131076114339784, 54.26284891976706, 53.278973894132996, 53.27250425383428, 52.294201291328136, 226.78192113510372, 127.11991674949476, 204.80442520706296, 101.13424906975719, 150.10168306874644, 103.31130871196768, 138.09416769058225, 722.2384025330443, 241.1776045642241, 130.76919663465674, 134.5037058793812, 371.02498573365307, 441.25648350261827, 226.48455408195235, 261.88859418142385, 595.3462622348708, 449.4759948217768, 406.5022151036989, 228.09937481574713, 207.05005369020893, 659.4566709805513, 349.7077656796924, 282.4540378813773, 263.3198983313269, 334.0010859864658, 290.7506833014213, 276.78708420915194, 188.1716614784355, 257.78304404225076, 204.3344369111604, 229.78058318269672, 218.44909030935798, 199.29062398970873, 190.05670068947057, 309.16154014952224, 204.8868693351791, 102.54102930408591, 85.14332136061084, 75.93696091560709, 75.93302450353637, 72.8617339581948, 72.85548217103134, 61.60914544287131, 60.58567510176764, 52.39458781641856, 60.45617447923922, 281.75227679161196, 46.25519783191068, 42.16337536190379, 38.067676391233086, 37.04560353805713, 33.97272040707136, 32.94931081951768, 30.90670810190096, 30.906631443633895, 43.76224036921108, 28.816811834369805, 75.36508062294692, 24.76352028045081, 24.753103365143666, 24.745736217809426, 27.710012453256635, 23.73946467725844, 24.726522749256414, 367.51078170017905, 173.72271584481967, 424.8808544817, 48.22489184186698, 298.912077076455, 259.2841194197123, 425.0006519784674, 65.58960728576393, 64.3890973071892, 117.925126660634, 100.74886779476398, 150.3239686367808, 522.3728905452344, 174.7136176562718, 92.06508503016501, 183.48854623178423, 328.366511308315, 157.2695643539256, 192.35275784809755, 173.37474605550022, 215.2103519739439, 406.1899993280531, 184.2773914848657, 220.8360831715796, 187.23929315946032, 218.0351153850933, 248.13715383463693, 754.42953121383, 198.68672550550818, 786.6228523465865, 244.5478654418255, 300.50664218518153, 305.90285992863767, 1091.757260054659, 315.1010666861027, 218.5344128723509, 301.496718994875, 213.73540688153432, 214.23914005521434, 256.3467547018486, 211.47801686792496], \"Total\": [2852.0, 824.0, 826.0, 918.0, 777.0, 2216.0, 628.0, 684.0, 444.0, 583.0, 738.0, 480.0, 1138.0, 606.0, 382.0, 1884.0, 464.0, 570.0, 435.0, 310.0, 1863.0, 610.0, 302.0, 596.0, 319.0, 286.0, 280.0, 444.0, 291.0, 276.0, 343.9865045869964, 169.56550579013694, 138.38439356679544, 118.89611351012367, 114.02403515548949, 113.04978751360865, 301.178031466194, 103.30565366242634, 101.35657457186535, 98.43339662552948, 95.51011502968346, 95.51018480681856, 91.61265481673188, 90.63808493509312, 90.63707780780982, 66.27772678939318, 171.5764398740585, 273.9537700396926, 94.53357103755074, 62.38011541242688, 62.380404462177644, 285.5272400640276, 60.43126621361653, 59.456880248991546, 58.48283212272803, 55.559204972771774, 65.30787801222806, 57.50966810865041, 54.58476273008428, 54.58475850569523, 233.05065651146444, 105.2639374285609, 301.537428580016, 187.2026205745486, 201.71986495361747, 347.7911207083887, 229.91239104797734, 161.00374082607806, 317.1147359566163, 103.34055887662733, 492.76940045845646, 181.21882586527917, 299.11113465185826, 526.8695907166368, 286.61059611573813, 326.9021377069497, 263.59090637012474, 167.56361475817673, 251.06123839865106, 1863.1071121009686, 326.2617189436326, 263.21510925027144, 222.26995510509138, 371.7077647392153, 394.34279627507937, 397.8776788612766, 6872.183239859639, 241.73899935075332, 488.9143452018252, 2852.621951978761, 1423.860100296668, 2452.258276801219, 618.2095790767797, 769.1480175054465, 1858.846967218499, 1781.6818255375597, 872.5033752484243, 637.5353135869523, 2017.5722313274678, 1053.364859084199, 816.1241364617705, 691.5186588251314, 828.7327249034741, 1884.344504470807, 1138.4240109307782, 131.3116106247793, 124.24000165639032, 80.80018137517149, 83.83132887122714, 79.78920145792277, 73.7286112031617, 73.72858565796055, 68.67743295969804, 69.68711896643768, 66.6569332468402, 87.85896141683926, 78.76949676641692, 51.503539146933356, 44.43188169305499, 55.54700192532561, 43.421835131196204, 40.39100870526049, 40.3909784774557, 92.88538197896469, 39.3807471539484, 37.360194079951896, 45.444767813771435, 35.33984112696507, 34.329523583426734, 33.31928881877728, 33.319447965284766, 33.31917619065898, 116.10080250963003, 31.29899575146335, 72.67362937048367, 628.6343161558747, 129.32465918320398, 90.84059904306716, 90.836604933487, 255.21974380612906, 53.49840713843513, 70.71814999768776, 777.687857221451, 292.2583639871151, 444.3135776242852, 606.9052887983627, 130.0567218965114, 570.2881483149091, 314.1425095525701, 181.22561512182153, 427.28317572857554, 261.2467780376569, 543.0585993133038, 242.0719082660874, 2852.621951978761, 279.0055343605982, 1138.4240109307782, 264.78517877104576, 464.21493379483456, 351.6965053301547, 2452.258276801219, 6872.183239859639, 348.53091211841615, 217.34389731811447, 525.2196903228008, 257.8087500320448, 516.4738463821425, 756.6230573086574, 2017.5722313274678, 307.7605924156653, 1858.846967218499, 864.5051926817878, 1423.860100296668, 1863.1071121009686, 424.89949166930444, 430.4377272089322, 1053.364859084199, 1781.6818255375597, 1884.344504470807, 2216.5284003359, 1219.2840821784594, 291.76328391978683, 208.40925322828338, 189.99335941359664, 152.1930835652425, 138.6237619263194, 157.0484580043996, 117.3005218481628, 128.9338532226763, 88.22341062616798, 84.34659492258281, 81.43880449994772, 80.46956250400467, 80.46964617541221, 78.53106285587465, 75.62332670589358, 74.65440414298912, 72.71564212521402, 71.74640357577442, 70.77736974910515, 68.83866679372247, 63.02324090862813, 59.14635200119, 60.115836364040014, 57.20783514434001, 56.238717183850554, 55.26934661951454, 55.269346302041924, 54.30018028894058, 53.33087775715853, 53.331220802749634, 826.0864407631256, 226.87636160268738, 159.9729213255678, 110.53111075199016, 464.6593261456919, 289.2645679192016, 190.0545506069289, 110.5444893162761, 80.47467782802553, 583.2197242243209, 170.91636008828505, 220.25372094472195, 286.37664455878604, 323.63311085402376, 168.9599919221479, 132.9074381613853, 596.6873806512945, 319.2601933348318, 144.58986014259972, 98.99818659420599, 373.11793261148676, 539.3636844866558, 263.7201210278814, 383.29029894167576, 356.00230517766136, 202.2181187343144, 577.5276446482567, 285.9300387471363, 453.3706280680841, 1272.39117667624, 813.4851946179613, 451.2463491932686, 1259.930421608791, 367.7478864427892, 1219.2840821784594, 612.9007038193204, 571.3311785192689, 6872.183239859639, 1781.6818255375597, 1321.4293194863524, 2216.5284003359, 1147.3505141512067, 2452.258276801219, 828.7327249034741, 2017.5722313274678, 1858.846967218499, 302.7802304539149, 824.747920251444, 198.5797997843397, 175.97124268816205, 280.188438091906, 147.46254917634909, 138.61534898896122, 136.64930525973588, 132.71720645696183, 128.7850978612711, 176.96344583292637, 124.85635499250446, 101.26045138940057, 100.27740862103046, 98.3113782948533, 95.36219530604892, 88.48113812558715, 87.49812387860938, 88.48072056031414, 74.71882123225724, 71.7697415328703, 68.82069125037877, 67.83763768715308, 62.922528797016675, 63.905575166187326, 61.93940689031595, 55.05835082334348, 54.0753184546386, 54.07527098436513, 53.09230754088275, 238.74527484712215, 131.86437577768385, 219.4269863513737, 105.28284142993158, 159.16850832312062, 108.08508961204767, 147.34249746840158, 918.0761056429437, 282.5430902863532, 144.33219927563027, 154.1617543142194, 560.2393748055694, 738.5678245722407, 408.6636692453623, 524.7704921489823, 2216.5284003359, 2017.5722313274678, 1781.6818255375597, 563.7970647875029, 488.13332225390604, 6872.183239859639, 1858.846967218499, 1147.3505141512067, 961.1122610169712, 1884.344504470807, 1272.39117667624, 1321.4293194863524, 408.71893647875737, 1219.2840821784594, 688.7122505881555, 1259.930421608791, 1053.364859084199, 786.4683318582327, 727.0132071558547, 310.0616581817421, 205.67492276407935, 103.33341355735566, 85.93524136914195, 76.72471417736175, 76.72462577714107, 73.65434377411599, 73.65426647786009, 62.39691370664855, 61.373496900226336, 53.18602316674545, 61.37183140060402, 286.47221668628725, 47.04558201170086, 42.952008754343815, 38.85825200899303, 37.83490616616716, 34.764558250446946, 33.741145007632404, 31.694477717441412, 31.694475456414928, 44.99302300114856, 29.647105099585406, 77.72684492502192, 25.55392480780328, 25.553490596964302, 25.55292277780885, 28.622572606670175, 24.530415029441595, 25.553328368846, 382.45257787430666, 180.01756584071487, 444.69470526404297, 50.10166704274518, 319.8385912083078, 276.74624143521925, 480.829136490706, 69.43270038636885, 68.40576660448062, 129.7418605684466, 111.22312446020624, 172.26683927343737, 684.0309813610163, 210.14081577779348, 103.18042304623492, 224.5394942074405, 435.57741868874666, 188.84447394670363, 241.61423422615496, 215.6918321081644, 280.5648426131871, 610.646761531862, 235.87038699147087, 299.1791314683406, 252.3968776729095, 310.4294945526301, 386.03282482117885, 1884.344504470807, 294.7552415554217, 2216.5284003359, 414.790654396395, 575.108792319513, 662.2496669082273, 6872.183239859639, 1321.4293194863524, 491.63715604870134, 2017.5722313274678, 500.627793910415, 529.6410197896895, 1858.846967218499, 1053.364859084199], \"Category\": [\"Default\", \"Default\", \"Default\", \"Default\", \"Default\", \"Default\", \"Default\", \"Default\", \"Default\", \"Default\", \"Default\", \"Default\", \"Default\", \"Default\", \"Default\", \"Default\", \"Default\", \"Default\", \"Default\", \"Default\", \"Default\", \"Default\", \"Default\", \"Default\", \"Default\", \"Default\", \"Default\", \"Default\", \"Default\", \"Default\", \"Topic1\", \"Topic1\", \"Topic1\", \"Topic1\", \"Topic1\", \"Topic1\", \"Topic1\", \"Topic1\", \"Topic1\", \"Topic1\", \"Topic1\", \"Topic1\", \"Topic1\", \"Topic1\", \"Topic1\", \"Topic1\", \"Topic1\", \"Topic1\", \"Topic1\", \"Topic1\", \"Topic1\", \"Topic1\", \"Topic1\", \"Topic1\", \"Topic1\", \"Topic1\", \"Topic1\", \"Topic1\", \"Topic1\", \"Topic1\", \"Topic1\", \"Topic1\", \"Topic1\", \"Topic1\", \"Topic1\", \"Topic1\", \"Topic1\", \"Topic1\", \"Topic1\", \"Topic1\", \"Topic1\", \"Topic1\", \"Topic1\", \"Topic1\", \"Topic1\", \"Topic1\", \"Topic1\", \"Topic1\", \"Topic1\", \"Topic1\", \"Topic1\", \"Topic1\", \"Topic1\", \"Topic1\", \"Topic1\", \"Topic1\", \"Topic1\", \"Topic1\", \"Topic1\", \"Topic1\", \"Topic1\", \"Topic1\", \"Topic1\", \"Topic1\", \"Topic1\", \"Topic1\", \"Topic1\", \"Topic1\", \"Topic1\", \"Topic1\", \"Topic1\", \"Topic1\", \"Topic1\", \"Topic1\", \"Topic1\", \"Topic2\", \"Topic2\", \"Topic2\", \"Topic2\", \"Topic2\", \"Topic2\", \"Topic2\", \"Topic2\", \"Topic2\", \"Topic2\", \"Topic2\", \"Topic2\", \"Topic2\", \"Topic2\", \"Topic2\", \"Topic2\", \"Topic2\", \"Topic2\", \"Topic2\", \"Topic2\", \"Topic2\", \"Topic2\", \"Topic2\", \"Topic2\", \"Topic2\", \"Topic2\", \"Topic2\", \"Topic2\", \"Topic2\", \"Topic2\", \"Topic2\", \"Topic2\", \"Topic2\", \"Topic2\", \"Topic2\", \"Topic2\", \"Topic2\", \"Topic2\", \"Topic2\", \"Topic2\", \"Topic2\", \"Topic2\", \"Topic2\", \"Topic2\", \"Topic2\", \"Topic2\", \"Topic2\", \"Topic2\", \"Topic2\", \"Topic2\", \"Topic2\", \"Topic2\", \"Topic2\", \"Topic2\", \"Topic2\", \"Topic2\", \"Topic2\", \"Topic2\", \"Topic2\", \"Topic2\", \"Topic2\", \"Topic2\", \"Topic2\", \"Topic2\", \"Topic2\", \"Topic2\", \"Topic2\", \"Topic2\", \"Topic2\", \"Topic2\", \"Topic2\", \"Topic2\", \"Topic2\", \"Topic2\", \"Topic2\", \"Topic2\", \"Topic3\", \"Topic3\", \"Topic3\", \"Topic3\", \"Topic3\", \"Topic3\", \"Topic3\", \"Topic3\", \"Topic3\", \"Topic3\", \"Topic3\", \"Topic3\", \"Topic3\", \"Topic3\", \"Topic3\", \"Topic3\", \"Topic3\", \"Topic3\", \"Topic3\", \"Topic3\", \"Topic3\", \"Topic3\", \"Topic3\", \"Topic3\", \"Topic3\", \"Topic3\", \"Topic3\", \"Topic3\", \"Topic3\", \"Topic3\", \"Topic3\", \"Topic3\", \"Topic3\", \"Topic3\", \"Topic3\", \"Topic3\", \"Topic3\", \"Topic3\", \"Topic3\", \"Topic3\", \"Topic3\", \"Topic3\", \"Topic3\", \"Topic3\", \"Topic3\", \"Topic3\", \"Topic3\", \"Topic3\", \"Topic3\", \"Topic3\", \"Topic3\", \"Topic3\", \"Topic3\", \"Topic3\", \"Topic3\", \"Topic3\", \"Topic3\", \"Topic3\", \"Topic3\", \"Topic3\", \"Topic3\", \"Topic3\", \"Topic3\", \"Topic3\", \"Topic3\", \"Topic3\", \"Topic3\", \"Topic3\", \"Topic3\", \"Topic3\", \"Topic3\", \"Topic3\", \"Topic3\", \"Topic3\", \"Topic3\", \"Topic3\", \"Topic4\", \"Topic4\", \"Topic4\", \"Topic4\", \"Topic4\", \"Topic4\", \"Topic4\", \"Topic4\", \"Topic4\", \"Topic4\", \"Topic4\", \"Topic4\", \"Topic4\", \"Topic4\", \"Topic4\", \"Topic4\", \"Topic4\", \"Topic4\", \"Topic4\", \"Topic4\", \"Topic4\", \"Topic4\", \"Topic4\", \"Topic4\", \"Topic4\", \"Topic4\", \"Topic4\", \"Topic4\", \"Topic4\", \"Topic4\", \"Topic4\", \"Topic4\", \"Topic4\", \"Topic4\", \"Topic4\", \"Topic4\", \"Topic4\", \"Topic4\", \"Topic4\", \"Topic4\", \"Topic4\", \"Topic4\", \"Topic4\", \"Topic4\", \"Topic4\", \"Topic4\", \"Topic4\", \"Topic4\", \"Topic4\", \"Topic4\", \"Topic4\", \"Topic4\", \"Topic4\", \"Topic4\", \"Topic4\", \"Topic4\", \"Topic4\", \"Topic4\", \"Topic4\", \"Topic4\", \"Topic4\", \"Topic4\", \"Topic4\", \"Topic4\", \"Topic5\", \"Topic5\", \"Topic5\", \"Topic5\", \"Topic5\", \"Topic5\", \"Topic5\", \"Topic5\", \"Topic5\", \"Topic5\", \"Topic5\", \"Topic5\", \"Topic5\", \"Topic5\", \"Topic5\", \"Topic5\", \"Topic5\", \"Topic5\", \"Topic5\", \"Topic5\", \"Topic5\", \"Topic5\", \"Topic5\", \"Topic5\", \"Topic5\", \"Topic5\", \"Topic5\", \"Topic5\", \"Topic5\", \"Topic5\", \"Topic5\", \"Topic5\", \"Topic5\", \"Topic5\", \"Topic5\", \"Topic5\", \"Topic5\", \"Topic5\", \"Topic5\", \"Topic5\", \"Topic5\", \"Topic5\", \"Topic5\", \"Topic5\", \"Topic5\", \"Topic5\", \"Topic5\", \"Topic5\", \"Topic5\", \"Topic5\", \"Topic5\", \"Topic5\", \"Topic5\", \"Topic5\", \"Topic5\", \"Topic5\", \"Topic5\", \"Topic5\", \"Topic5\", \"Topic5\", \"Topic5\", \"Topic5\", \"Topic5\", \"Topic5\", \"Topic5\", \"Topic5\", \"Topic5\", \"Topic5\", \"Topic5\", \"Topic5\", \"Topic5\"], \"logprob\": [30.0, 29.0, 28.0, 27.0, 26.0, 25.0, 24.0, 23.0, 22.0, 21.0, 20.0, 19.0, 18.0, 17.0, 16.0, 15.0, 14.0, 13.0, 12.0, 11.0, 10.0, 9.0, 8.0, 7.0, 6.0, 5.0, 4.0, 3.0, 2.0, 1.0, -5.7102, -6.4199, -6.6242, -6.7769, -6.8191, -6.8278, -5.8481, -6.9186, -6.9377, -6.9672, -6.9976, -6.9976, -7.0397, -7.0504, -7.0526, -7.3667, -6.4157, -5.9481, -7.0123, -7.4281, -7.4282, -5.9072, -7.4602, -7.4767, -7.4936, -7.5455, -7.3839, -7.5111, -7.5634, -7.5634, -6.114, -6.9125, -5.8781, -6.354, -6.2856, -5.771, -6.1704, -6.5152, -5.8697, -6.9451, -5.4675, -6.4177, -5.9584, -5.4457, -6.0027, -5.8837, -6.0812, -6.4951, -6.1443, -4.4092, -5.935, -6.1228, -6.2671, -5.8464, -5.8103, -5.8107, -3.7712, -6.2198, -5.7172, -4.6467, -5.1387, -4.8678, -5.7169, -5.6264, -5.231, -5.3193, -5.6413, -5.7768, -5.3515, -5.6721, -5.766, -5.8154, -5.8048, -5.7137, -5.8763, -6.473, -6.5287, -6.9623, -6.9256, -6.9753, -7.0549, -7.055, -7.1267, -7.1121, -7.1569, -6.8818, -6.9916, -7.4184, -7.5686, -7.3454, -7.5924, -7.6657, -7.6657, -6.8331, -7.6915, -7.7455, -7.5502, -7.8021, -7.8321, -7.8624, -7.8625, -7.8626, -6.615, -7.9267, -7.0845, -4.9405, -6.5088, -6.8631, -6.8649, -5.8436, -7.393, -7.1198, -4.7865, -5.7362, -5.3304, -5.045, -6.5397, -5.1279, -5.7087, -6.2423, -5.4864, -5.9385, -5.3168, -6.027, -3.892, -5.9098, -4.7502, -5.9861, -5.6404, -5.8723, -4.4583, -3.7885, -5.9071, -6.2429, -5.6355, -6.171, -5.8307, -5.6556, -5.1782, -6.1063, -5.2949, -5.6467, -5.4908, -5.4594, -5.9952, -5.9916, -5.7613, -5.6785, -5.7517, -5.7432, -5.8304, -5.5613, -5.8989, -5.9917, -6.2146, -6.3085, -6.1845, -6.4766, -6.3825, -6.7637, -6.8091, -6.8445, -6.8566, -6.8567, -6.8813, -6.9194, -6.9326, -6.959, -6.9726, -6.9864, -7.0144, -7.1038, -7.1681, -7.1519, -7.2019, -7.2193, -7.2368, -7.2368, -7.2548, -7.2731, -7.2734, -4.545, -5.8302, -6.1761, -6.5464, -5.1338, -5.6055, -6.0215, -6.5551, -6.8688, -4.9701, -6.1521, -5.9155, -5.6712, -5.5647, -6.1753, -6.4059, -5.0437, -5.621, -6.3424, -6.6763, -5.5227, -5.2432, -5.8486, -5.5372, -5.6269, -6.0805, -5.2684, -5.8326, -5.5166, -4.938, -5.2425, -5.6251, -5.0687, -5.7714, -5.2114, -5.5562, -5.6069, -4.5215, -5.1852, -5.3654, -5.2746, -5.4667, -5.3226, -5.6494, -5.5344, -5.6188, -5.302, -4.3, -5.7252, -5.8469, -5.3822, -6.0242, -6.0865, -6.1008, -6.1302, -6.1605, -5.8431, -6.1926, -6.4026, -6.4125, -6.4324, -6.4633, -6.5387, -6.5499, -6.539, -6.7094, -6.7501, -6.7925, -6.8071, -6.8832, -6.8678, -6.8994, -7.0186, -7.0369, -7.037, -7.0555, -5.5884, -6.1673, -5.6903, -6.396, -6.0011, -6.3747, -6.0845, -4.43, -5.5269, -6.139, -6.1108, -5.0961, -4.9228, -5.5897, -5.4445, -4.6233, -4.9043, -5.0048, -5.5826, -5.6794, -4.521, -5.1553, -5.3689, -5.439, -5.2013, -5.3399, -5.3892, -5.775, -5.4603, -5.6926, -5.5753, -5.6258, -5.7176, -5.7651, -5.2251, -5.6365, -6.3287, -6.5146, -6.6291, -6.6291, -6.6704, -6.6705, -6.8382, -6.8549, -7.0002, -6.8571, -5.318, -7.1248, -7.2174, -7.3196, -7.3468, -7.4334, -7.464, -7.528, -7.528, -7.1802, -7.598, -6.6366, -7.7496, -7.75, -7.7503, -7.6372, -7.7918, -7.7511, -5.0522, -5.8015, -4.9072, -7.0831, -5.2588, -5.4011, -4.9069, -6.7756, -6.794, -6.1889, -6.3464, -5.9462, -4.7006, -5.7958, -6.4365, -5.7468, -5.1649, -5.901, -5.6997, -5.8035, -5.5874, -4.9522, -5.7425, -5.5616, -5.7266, -5.5743, -5.445, -4.333, -5.6673, -4.2912, -5.4596, -5.2535, -5.2357, -3.9634, -5.2061, -5.572, -5.2502, -5.5942, -5.5919, -5.4125, -5.6049], \"loglift\": [30.0, 29.0, 28.0, 27.0, 26.0, 25.0, 24.0, 23.0, 22.0, 21.0, 20.0, 19.0, 18.0, 17.0, 16.0, 15.0, 14.0, 13.0, 12.0, 11.0, 10.0, 9.0, 8.0, 7.0, 6.0, 5.0, 4.0, 3.0, 2.0, 1.0, 1.3021, 1.2997, 1.2987, 1.2977, 1.2974, 1.2973, 1.2972, 1.2966, 1.2966, 1.2963, 1.2961, 1.2961, 1.2957, 1.2956, 1.2934, 1.2924, 1.2921, 1.2919, 1.2916, 1.2916, 1.2915, 1.2914, 1.2912, 1.2909, 1.2905, 1.29, 1.2899, 1.2899, 1.2898, 1.2898, 1.2876, 1.284, 1.2659, 1.2667, 1.2605, 1.2303, 1.2448, 1.2563, 1.224, 1.2698, 1.1854, 1.2355, 1.1937, 1.1403, 1.1921, 1.1796, 1.1973, 1.2365, 1.1829, 0.9138, 1.1302, 1.1572, 1.1819, 1.0884, 1.0654, 1.056, 0.2465, 1.1453, 0.9435, 0.2502, 0.4531, 0.1804, 0.7092, 0.5813, 0.0942, 0.0483, 0.4403, 0.6185, -0.1082, 0.2211, 0.3823, 0.4986, 0.3282, -0.4021, -0.0608, 1.5024, 1.502, 1.4986, 1.4985, 1.4982, 1.4976, 1.4976, 1.4968, 1.4968, 1.4965, 1.4953, 1.4948, 1.4929, 1.4904, 1.4903, 1.4896, 1.4887, 1.4887, 1.4885, 1.4881, 1.4868, 1.4862, 1.4858, 1.4848, 1.4843, 1.4843, 1.4842, 1.4834, 1.4826, 1.4825, 1.4688, 1.4818, 1.4807, 1.479, 1.4672, 1.4803, 1.4744, 1.4101, 1.4391, 1.426, 1.3995, 1.4453, 1.3789, 1.3944, 1.4109, 1.3091, 1.349, 1.2389, 1.3367, 1.0049, 1.3119, 1.0653, 1.2879, 1.0722, 1.1179, 0.5899, 0.2292, 1.0921, 1.2285, 0.9536, 1.1297, 0.7752, 0.5684, 0.0651, 1.0173, 0.0303, 0.4441, 0.101, -0.1365, 0.8058, 0.7965, 0.1319, -0.3109, -0.4401, -0.594, -0.0835, 1.6157, 1.6145, 1.6142, 1.6131, 1.6126, 1.6119, 1.6116, 1.6111, 1.6093, 1.6088, 1.6085, 1.6084, 1.6084, 1.6082, 1.6078, 1.6074, 1.6073, 1.6072, 1.6069, 1.6067, 1.6057, 1.6048, 1.6047, 1.6043, 1.604, 1.6039, 1.6038, 1.6036, 1.6033, 1.603, 1.5912, 1.5983, 1.6018, 1.6012, 1.5779, 1.5801, 1.5841, 1.5924, 1.5962, 1.5142, 1.5597, 1.5427, 1.5244, 1.5086, 1.5479, 1.5574, 1.4178, 1.4659, 1.5367, 1.5815, 1.4083, 1.3193, 1.4294, 1.3669, 1.3511, 1.4631, 1.2258, 1.3646, 1.2196, 0.7662, 0.9091, 1.1158, 0.6454, 1.1741, 0.5355, 0.8785, 0.898, -0.5039, 0.1824, 0.301, -0.1253, 0.341, -0.2744, 0.4836, -0.2911, -0.2936, 1.8379, 1.8379, 1.8365, 1.8357, 1.8353, 1.8351, 1.8347, 1.8347, 1.8345, 1.8343, 1.8339, 1.8331, 1.8326, 1.8325, 1.8324, 1.8319, 1.8315, 1.8314, 1.8311, 1.8298, 1.8293, 1.8289, 1.8287, 1.8278, 1.8277, 1.8274, 1.826, 1.8257, 1.8256, 1.8254, 1.7891, 1.8039, 1.7716, 1.8003, 1.7819, 1.7953, 1.7757, 1.6006, 1.6822, 1.7418, 1.7041, 1.4284, 1.3254, 1.2503, 1.1455, 0.526, 0.3389, 0.3628, 0.9356, 0.9829, -0.5033, 0.1699, 0.4388, 0.5458, 0.1103, 0.3643, 0.2773, 1.0648, 0.2866, 0.6255, 0.1388, 0.2673, 0.4677, 0.4989, 1.891, 1.8901, 1.8862, 1.8847, 1.8836, 1.8836, 1.8831, 1.883, 1.8812, 1.881, 1.8789, 1.8789, 1.8773, 1.877, 1.8754, 1.8734, 1.8729, 1.8709, 1.8702, 1.8688, 1.8688, 1.8662, 1.8655, 1.8631, 1.8625, 1.8621, 1.8618, 1.8615, 1.8612, 1.861, 1.8541, 1.8583, 1.8484, 1.8558, 1.8263, 1.8288, 1.7705, 1.837, 1.8334, 1.7984, 1.795, 1.7577, 1.6243, 1.7093, 1.78, 1.692, 1.6114, 1.711, 1.6659, 1.6755, 1.6287, 1.4862, 1.6471, 1.5903, 1.5953, 1.5406, 1.452, 0.9786, 1.4995, 0.858, 1.3656, 1.2448, 1.1216, 0.0542, 0.4604, 1.0831, -0.007, 1.0428, 0.9888, -0.0872, 0.2883]}, \"token.table\": {\"Topic\": [1, 2, 3, 4, 5, 1, 2, 3, 4, 5, 1, 2, 3, 4, 5, 1, 2, 5, 4, 4, 1, 2, 3, 2, 2, 1, 2, 2, 2, 4, 1, 2, 3, 4, 5, 1, 2, 5, 1, 2, 4, 1, 3, 3, 1, 2, 1, 2, 5, 4, 4, 4, 2, 5, 4, 2, 4, 4, 1, 2, 3, 4, 5, 5, 3, 1, 2, 4, 1, 2, 4, 5, 1, 2, 5, 5, 5, 1, 2, 3, 4, 5, 1, 2, 3, 4, 5, 1, 2, 4, 1, 1, 1, 2, 2, 5, 1, 2, 3, 4, 5, 1, 2, 3, 4, 5, 1, 5, 2, 3, 4, 1, 1, 2, 4, 5, 3, 4, 3, 2, 4, 3, 4, 1, 2, 4, 3, 1, 2, 5, 2, 3, 4, 5, 3, 4, 4, 1, 2, 4, 5, 1, 3, 4, 1, 3, 1, 3, 4, 1, 2, 3, 4, 5, 1, 2, 3, 4, 5, 1, 2, 3, 4, 5, 2, 5, 3, 5, 2, 5, 4, 1, 2, 3, 4, 5, 1, 2, 3, 4, 5, 1, 3, 4, 5, 1, 2, 3, 4, 5, 2, 4, 5, 1, 2, 3, 4, 3, 1, 1, 2, 5, 5, 2, 5, 2, 5, 1, 2, 5, 1, 2, 1, 2, 3, 4, 5, 1, 2, 2, 1, 2, 3, 4, 5, 5, 3, 3, 4, 2, 1, 2, 4, 5, 1, 1, 3, 4, 1, 3, 4, 1, 2, 3, 4, 5, 1, 2, 3, 5, 1, 2, 3, 4, 5, 1, 2, 3, 4, 5, 4, 2, 1, 3, 4, 3, 1, 3, 4, 3, 4, 3, 5, 5, 1, 2, 3, 4, 5, 1, 2, 3, 4, 5, 5, 2, 1, 2, 3, 4, 5, 1, 2, 3, 4, 5, 1, 1, 2, 5, 4, 1, 2, 5, 1, 2, 3, 4, 5, 3, 3, 2, 3, 4, 4, 1, 2, 3, 4, 5, 1, 2, 3, 4, 5, 1, 2, 3, 4, 5, 4, 1, 1, 2, 5, 1, 2, 3, 5, 3, 4, 1, 5, 1, 2, 3, 4, 5, 1, 2, 3, 4, 5, 1, 2, 4, 4, 5, 2, 1, 2, 4, 5, 2, 1, 2, 3, 4, 5, 1, 2, 4, 5, 1, 2, 3, 4, 1, 3, 4, 5, 1, 2, 3, 4, 5, 1, 3, 3, 1, 2, 3, 4, 5, 1, 2, 4, 5, 1, 2, 1, 3, 1, 3, 5, 1, 2, 3, 4, 5, 1, 1, 2, 3, 4, 5, 1, 2, 3, 5, 1, 2, 5, 5, 2, 3, 3, 1, 4, 1, 3, 2, 1, 2, 3, 4, 5, 1, 2, 5, 1, 2, 3, 4, 5, 3, 1, 3, 4, 1, 2, 3, 4, 5, 3, 1, 2, 3, 4, 5, 4, 3, 1, 2, 3, 5, 1, 5, 1, 2, 3, 4, 5, 3, 4, 4, 1, 2, 3, 4, 5, 5, 3, 4, 1, 2, 3, 4, 5, 1, 3, 4, 5, 4, 4, 2, 1, 2, 4, 1, 2, 2, 2, 1, 2, 3, 4, 5, 1, 3, 5, 1, 2, 3, 4, 5, 1, 2, 3, 4, 5, 1, 3, 5, 1, 3, 4, 5, 1, 2, 3, 4, 5, 1, 2, 4, 1, 2, 2, 2, 2, 3, 2, 1, 2, 3, 4, 5, 2, 5, 1, 2, 5, 2, 3, 4, 1, 2, 4, 5, 2, 5, 1, 1, 2, 3, 4, 5, 5, 1, 2, 3, 4, 5, 1, 2, 3, 4, 5, 1, 2, 5, 5, 1, 2, 3, 4, 5, 3, 2, 5, 5, 5, 5, 1, 2, 4, 5, 1, 2, 3, 4, 5, 3, 2, 4, 5, 3, 2, 4, 5, 5, 1, 2, 3, 3, 1, 2, 3, 4, 5, 1, 2, 4, 5, 1, 2, 3, 4, 5, 1, 3, 4, 3, 4, 5, 2, 1, 2, 3, 4, 5, 1, 2, 4, 5, 3, 1, 2, 3, 4, 5, 2, 5, 1, 2, 3, 4, 5, 1, 2, 3, 4, 5, 2, 4, 4, 1, 2, 4, 1, 1, 2, 3, 4, 5, 1, 3, 5, 1, 5, 4, 1, 3, 4, 2, 3, 4, 4, 3, 4, 3, 1, 1, 2, 3, 4, 5, 1, 2, 2, 5, 1, 2, 3, 4, 5, 1, 2, 3, 5, 1, 3, 4, 4, 1, 2, 3, 4, 5, 1, 2, 3, 4, 5, 1, 2, 3, 4, 5, 1, 2, 3, 4, 1, 2, 3, 4, 5, 1, 2, 1, 2, 3, 2, 3, 1, 3, 4, 5, 1, 2, 3, 4, 5, 1, 2, 3, 4, 5, 2, 1, 2, 3, 4, 5, 1, 2, 3, 4, 5, 1, 2, 3, 4, 5, 1, 1, 1, 2, 3, 4, 5, 2, 1, 2, 3, 4, 5, 1, 2, 5, 5, 1, 2, 3, 4, 5, 1, 2, 3, 4, 5, 1, 1, 3, 1, 2, 3, 4, 5, 1, 1, 2, 3, 4, 5, 1, 2, 3, 4, 5, 3, 1, 1, 2, 3, 4, 5, 1, 2, 3, 4, 5, 5, 5, 5, 5], \"Freq\": [0.24450748389568433, 0.39121197423309495, 0.022468255276900724, 0.1295228833609571, 0.21410925616811277, 0.07369235838918309, 0.044215415033509856, 0.05076584689032613, 0.16539840438461095, 0.6648688334668519, 0.053038803470667605, 0.10848846164454737, 0.14947299159915414, 0.09884504283169872, 0.5906594022869801, 0.8863096224897175, 0.049489369783689806, 0.0674855042504861, 0.9970802680586375, 0.9968632769545037, 0.08276975630578967, 0.904949335609967, 0.011035967507438623, 0.9904125672905026, 0.9903588809206647, 0.02201658752879655, 0.9687298512670481, 0.99011800305867, 0.0056508845388561985, 0.994555678838691, 0.24336179511994227, 0.23592711706128824, 0.14819791596917056, 0.22254469655571096, 0.1491892063769911, 0.03613418541165915, 0.025293929788161404, 0.935875402161972, 0.8624124984563967, 0.11017604605830618, 0.026594218014073908, 0.936957586087995, 0.05967882713936274, 0.9921607241453188, 0.018692145308407977, 0.9719915560372149, 0.04385595175544014, 0.014618650585146713, 0.9355936374493896, 0.987261252174375, 0.9801152917999055, 0.9892748459666981, 0.02573113577335181, 0.9649175915006928, 0.9943070336079383, 0.0035690266408208646, 0.9957584327890212, 0.9974231129530974, 0.11801075254367066, 0.1696404567815266, 0.4917114689319611, 0.0860495070630932, 0.1352206539562893, 0.9780884382399719, 0.9955003246366165, 0.022786622936129562, 0.04101592128503321, 0.934251540381312, 0.0026147032543434724, 0.028761735797778198, 0.007844109763030419, 0.9622107975983979, 0.009691760999583247, 0.09691760999583246, 0.8916420119616587, 0.9781730763455061, 0.9783616620839543, 0.37688448752109227, 0.20632362455534248, 0.14167555552800185, 0.2613432577701005, 0.01513039913405845, 0.0141600461226424, 0.04683707563643255, 0.11436960329826554, 0.7864271769652164, 0.03812320109942185, 0.1157309689759768, 0.8785032644994603, 0.005260498589817127, 0.9923157715797022, 0.9939064650664119, 0.9873612564643088, 0.9902232127097748, 0.9901360180410999, 0.9783461331980298, 0.18121088155021137, 0.490198666757623, 0.05343397789301104, 0.2671698894650552, 0.006969649290392744, 0.20389865970135895, 0.20770984960231895, 0.038111899009599805, 0.4992658770257575, 0.05145106366295974, 0.9826189869099761, 0.012872737819781346, 0.9205210477404168, 0.03601060333458843, 0.042762591459823765, 0.9924630546477251, 0.0038277984039131654, 0.8535990440726359, 0.08038376648217647, 0.0650725728665238, 0.976982214744363, 0.018092263236006722, 0.9944718362380517, 0.037992895572277106, 0.9593206131999968, 0.9861476941507838, 0.009047226551842053, 0.03918192162905796, 0.95995707991192, 0.9931412782909138, 0.9947716098254035, 0.015632885266004527, 0.04689865579801358, 0.9348465389070708, 0.01404485287673846, 0.7640399964945722, 0.01404485287673846, 0.2078638225757292, 0.9262045568401488, 0.06810327623824623, 0.9939038143829589, 0.2265006801744252, 0.26123078446783704, 0.049830149638373546, 0.46206138755582743, 0.987646572483814, 0.007004585620452582, 0.007004585620452582, 0.9929711126702396, 0.9890166906193207, 0.9325741914123048, 0.055181904817296144, 0.01103638096345923, 0.4270082432068434, 0.24510835013024398, 0.18049526069762953, 0.04213897136909639, 0.10604974461222591, 0.1462175506187694, 0.6108644336961921, 0.02924351012375388, 0.01299711561055728, 0.19820601306099853, 0.12391721371433388, 0.4801792031430438, 0.06583101978573988, 0.1529603106786309, 0.17619478825006848, 0.019959415704607818, 0.9580519538211753, 0.9973838931700649, 0.9776472142138075, 0.9742921481162058, 0.0231974320980049, 0.9794262560533531, 0.12213523264260953, 0.047497034916570376, 0.04410438956538677, 0.11534994194024234, 0.675136424885536, 0.11133898777247528, 0.05344271413078813, 0.013360678532697033, 0.004453559510899011, 0.815001390494519, 0.8840566232670924, 0.052003330780417203, 0.0367082334920592, 0.0275311751190444, 0.1982070002688873, 0.08809200011950546, 0.05138700006971152, 0.5530220007502288, 0.10766800014606225, 0.012416487007102198, 0.19038613410890035, 0.7946551684545407, 0.9676742712354068, 0.009676742712354068, 0.019353485424708137, 0.9945669456886209, 0.9779739431146509, 0.9939018596391389, 0.002590453287134916, 0.35489210033748353, 0.6424324152094592, 0.9911160192245724, 0.022225668188031567, 0.9779294002733888, 0.24565093461940843, 0.7530234257492147, 0.03340574871638552, 0.9608129630808026, 0.004772249816626503, 0.011381878227032372, 0.9902234057518163, 0.055305342579861395, 0.04022206733080829, 0.8178487023931018, 0.016759194721170118, 0.07038861782891451, 0.06501097091215381, 0.93410500310621, 0.9903194122208301, 0.13221132536524788, 0.26238863034026116, 0.08542885638985248, 0.07525875443867956, 0.4454504654613736, 0.9967734196918735, 0.9806183819896966, 0.9770334482498659, 0.9952483822841125, 0.9901176600064527, 0.10308298844514187, 0.15784582605662348, 0.03543477727801752, 0.702252858782529, 0.9946583203890719, 0.001212491690424786, 0.001212491690424786, 0.9978806612195988, 0.016754258288719452, 0.033508516577438904, 0.950804157884829, 0.02447328817320106, 0.07613911876106998, 0.6417440009861611, 0.20394406811000884, 0.05438508482933569, 0.30429025314357444, 0.16518613742079757, 0.006955205786138845, 0.5233792354069481, 0.13675039813976508, 0.1155305087732498, 0.4267555528154738, 0.22870325206133124, 0.09273877574995562, 0.005850814980400124, 0.01755244494120037, 0.94198121184442, 0.01755244494120037, 0.01755244494120037, 0.9807776512097277, 0.9904172979047097, 0.0036315812147075643, 0.9732637655416273, 0.023000014359814577, 0.9941636853430615, 0.02229005546287024, 0.9018899364207498, 0.07544326464356083, 0.9814160965435051, 0.012502115879535097, 0.9770334426376888, 0.9911170593483982, 0.9905543580692077, 0.24101162071805077, 0.6599127710137105, 0.008607557882787527, 0.017215115765575054, 0.07459883498415858, 0.37647843583869567, 0.16772596981275223, 0.32097199978555463, 0.1073928871462946, 0.027753218026570513, 0.9905554993614976, 0.990083315123107, 0.02367424355609042, 0.02367424355609042, 0.9292140595765491, 0.005918560889022605, 0.01183712177804521, 0.1468427094946386, 0.15663222346094785, 0.4764230130270497, 0.14194795251148398, 0.07668452606942239, 0.99101912895739, 0.25561653409091195, 0.6421157608950401, 0.10189525070290649, 0.9858294810142564, 0.013492402605597533, 0.031482272746394244, 0.9557118512298252, 0.04411401789574365, 0.07499383042276421, 0.6705330720153034, 0.05293682147489238, 0.15660476352988995, 0.981438562090646, 0.993795756397163, 0.9902799144083404, 0.037007879758043344, 0.9529529037696162, 0.9876523163879024, 0.5515928764954463, 0.06146782787925795, 0.2313131417561549, 0.11646535808701505, 0.03882178602900502, 0.21609540853599066, 0.6767198319942865, 0.03127696702494602, 0.06824065532715495, 0.005686721277262912, 0.137826946165013, 0.22971157694168837, 0.11785202643095316, 0.08788964682986337, 0.427463282308881, 0.9848334535721422, 0.9911376969227589, 0.04320730697936336, 0.014402435659787787, 0.950560753545994, 0.96173798843365, 0.013265351564602068, 0.003316337891150517, 0.02321436523805362, 0.9785065241339377, 0.017630748182593473, 0.9892179982072719, 0.010950752747681976, 0.03132241415863662, 0.021925689911045633, 0.8582341479466433, 0.037586896990363945, 0.050115862653818594, 0.004758713800071174, 0.019034855200284695, 0.11420913120170817, 0.033310996600498216, 0.8327749150124554, 0.03844476415435563, 0.9380522453662774, 0.015377905661742252, 0.9853386566837979, 0.9778355242990228, 0.9900193042509788, 0.07972350271935022, 0.9065333776958372, 0.001285862947086294, 0.011572766523776645, 0.9682082694383661, 0.11578371823887791, 0.16875666122398544, 0.26789174023897244, 0.20962150295535412, 0.23837824343298392, 0.8398165769712574, 0.1317960321524236, 0.01226009601417894, 0.01226009601417894, 0.15411880663422625, 0.8207722492846004, 0.017920791469096076, 0.003584158293819215, 0.010523294462632483, 0.9681430905621885, 0.021046588925264967, 0.9779329129957312, 0.39822373273875583, 0.0906724806851321, 0.29284760653711583, 0.17031722723288328, 0.047786847928650705, 0.9917440365795762, 0.993237544016827, 0.9933239840892278, 0.2870344780415794, 0.686555440721075, 0.007757688595718362, 0.007757688595718362, 0.011636532893577543, 0.8991205473045161, 0.02276254550138015, 0.06828763650414046, 0.011381272750690076, 0.9907139364283876, 0.9900967873889281, 0.9837774980811677, 0.010578252667539437, 0.9615250013464403, 0.021367222252143117, 0.016025416689107338, 0.42177487267051644, 0.2212025826777437, 0.20171841736416005, 0.12263562873843821, 0.03209156639884365, 0.98928714678413, 0.48495216981737677, 0.19502097981932043, 0.1079116088333573, 0.08580923112050098, 0.12481342708436508, 0.11695376697825005, 0.09648685775705629, 0.02339075339565001, 0.7631233295330815, 0.015415225211333239, 0.0770761260566662, 0.9094982874686611, 0.978034384800375, 0.03457042828277964, 0.961057906261274, 0.9946118499326939, 0.9784927537021181, 0.009499929647593379, 0.9438377766891093, 0.05654327694450885, 0.9901399429818787, 0.24922540941488014, 0.09817970673919521, 0.005664213850338185, 0.24356119556454195, 0.4040472546574572, 0.18966645612507238, 0.7641900902126703, 0.046035547603172904, 0.23534977556016737, 0.4942345286763514, 0.08707941695726193, 0.06825143491244853, 0.11296789226888033, 0.9878169227734238, 0.10378709084607382, 0.01946007953363884, 0.8757035790137478, 0.348451360444204, 0.6043562831044342, 0.0003505546885756579, 0.01542440629732895, 0.03154992197180921, 0.9937893639454705, 0.3655723834928457, 0.0013539717907142435, 0.033849294767856086, 0.5971015597049814, 0.002707943581428487, 0.9962018984054791, 0.9837640703036576, 0.786118075258956, 0.007607594276699574, 0.06339661897249645, 0.13947256173949218, 0.9849837199329368, 0.011656612070212269, 0.2980342167860017, 0.22809838974235513, 0.1479411725923294, 0.18828876511751014, 0.13771978248595027, 0.9958908249597873, 0.9968327339087911, 0.987552382276537, 0.2584533669148316, 0.11035087576138877, 0.21634579590061748, 0.2962049823068857, 0.11906278700570894, 0.9965759772170225, 0.061082173538765355, 0.9365933275944021, 0.2845625929012497, 0.16220629062812852, 0.2379773952468045, 0.2284358487392675, 0.08699645345107239, 0.9239558014108957, 0.022074029385243242, 0.028380894923884167, 0.025227462154563705, 0.994595979857409, 0.9903796497267691, 0.9904471135803335, 0.09721450956015984, 0.8963507322157112, 0.004943110655601348, 0.9929600792475916, 0.9901445623907197, 0.990420645791703, 0.9902310310715988, 0.6768263573305826, 0.19322560558208543, 0.037034907736566376, 0.06977591312686418, 0.02361646290447711, 0.9287183621655044, 0.06900693712684863, 0.002875289046952026, 0.2908135653810416, 0.6462523675134256, 0.0301584438172932, 0.008616698233512342, 0.023695920142158943, 0.05191302419006807, 0.029664585251467465, 0.7416146312866867, 0.16315521888307105, 0.012978256047517017, 0.06634619254399347, 0.9113871712622261, 0.02095142922441899, 0.019369029079119547, 0.9598429965874797, 0.008608457368497576, 0.01076057171062197, 0.05945510333398037, 0.01748679509822952, 0.7764137023613907, 0.13989436078583617, 0.010492077058937713, 0.8842464150021209, 0.05576328743256618, 0.05576328743256618, 0.02201755560398205, 0.9687724465752101, 0.9904011606037604, 0.9901089189576743, 0.030303585380780897, 0.9596135370580617, 0.9903316421991698, 0.00927248834808472, 0.11126986017701664, 0.06027117426255068, 0.01390873252212708, 0.8020702421093283, 0.013962959641494164, 0.9843886547253385, 0.09549805928121184, 0.8913152199579772, 0.012733074570828246, 0.006282649818957569, 0.05026119855166055, 0.9423974728436353, 0.03596374422507014, 0.04495468028133768, 0.01798187211253507, 0.9080845416830211, 0.033330080717283925, 0.9665723408012339, 0.9933125525293698, 0.3122502888252444, 0.574997483080633, 0.003807930351527371, 0.08567843290936585, 0.024751547284927913, 0.9783232982029386, 0.0039620141470051665, 0.015848056588020666, 0.23375883467330483, 0.007924028294010333, 0.7408966454899661, 0.09327156444100601, 0.11870926383400765, 0.004239616565500273, 0.004239616565500273, 0.7800894480520503, 0.010590725575398342, 0.15886088363097514, 0.8313719576687698, 0.9782488941429014, 0.048933382368593716, 0.1370134706320624, 0.10520677209247649, 0.4599737942647809, 0.24711358096139827, 0.9917574810174941, 0.9903201533561777, 0.9783399220993293, 0.9891169053086784, 0.9779132625730462, 0.9783772500870863, 0.8521587354678444, 0.06205039335930906, 0.04550362179682664, 0.037230236015585436, 0.020054874718542746, 0.19720626806567032, 0.01671239559878562, 0.03008231207781412, 0.7386878854663245, 0.9927571138274796, 0.007583549340770744, 0.9631107662778845, 0.022750648022312234, 0.9974380178073563, 0.04643958195170507, 0.08126926841548388, 0.87074216159447, 0.9936388887996194, 0.05532891443501026, 0.020748342913128846, 0.9198432024820455, 0.9980363001069099, 0.34719679565015976, 0.2782230818453921, 0.11975815709140046, 0.09589383417160742, 0.15890146724642684, 0.02079740856176941, 0.012478445137061644, 0.08318963424707763, 0.8838898638751999, 0.5035015208709994, 0.2666518957883797, 0.10509221775189084, 0.056467460284598064, 0.06744724422882546, 0.9567724033742414, 0.024786849828348223, 0.014872109897008934, 0.8266339297521871, 0.12892455785125853, 0.041710886363642466, 0.9902851841723949, 0.08751491583145535, 0.07176223098179338, 0.4865829320228917, 0.19953400809571817, 0.1557765501799905, 0.8931979608200631, 0.08024825429242755, 0.0034890545344533714, 0.02093432720672023, 0.9861328119431704, 0.7791339310293004, 0.12315342780785715, 0.05529337575046648, 0.010053341045539359, 0.03267335839800292, 0.23167549930557432, 0.7663112669338227, 0.12673154225306013, 0.08924756496694375, 0.0499786363814885, 0.6622169320547227, 0.071398051973555, 0.043258861749516, 0.049438699142304005, 0.8960764219542601, 0.0030899186963940003, 0.009269756089182, 0.9732921526586965, 0.01722640978156985, 0.9955607442216935, 0.9502884791060602, 0.03726621486690432, 0.00621103581115072, 0.997222276610188, 0.053186025865709134, 0.15290982436391376, 0.6049910442224414, 0.11745247378677434, 0.07313078556535006, 0.012426269069843324, 0.9816752565176226, 0.9777751285669968, 0.9927682923764695, 0.00664059058445799, 0.9944806738116683, 0.9946590470598331, 0.9405041713934509, 0.05266823359803325, 0.9901524491625854, 0.14511060935323922, 0.85296724034465, 0.9880749345078068, 0.0900699917637504, 0.9076283785424079, 0.9895966412450748, 0.9892870702218517, 0.8043953566850399, 0.16679769937950661, 0.0053805709477260195, 0.010761141895452039, 0.010761141895452039, 0.010765956695171532, 0.9797020592606094, 0.8191289053288904, 0.1802083591723559, 0.08087864494769587, 0.010435954186799466, 0.7774785869165602, 0.10696853041469452, 0.026089885466998666, 0.8868245463160447, 0.002029346787908569, 0.07305648436470849, 0.036528242182354245, 0.979973656287176, 0.9901583468934826, 0.9801144314010719, 0.9945622520711224, 0.12969371539601462, 0.12460768734126894, 0.30897620432579953, 0.25302989572359713, 0.18436851698453058, 0.20001104479898504, 0.14127764275483864, 0.3777986401758606, 0.18254976311018475, 0.09841813315505613, 0.3261981563409767, 0.34470585315464913, 0.1862336991875789, 0.08097117355981691, 0.061306745695289946, 0.18404013406207662, 0.7545645496545141, 0.01840401340620766, 0.041409030163967235, 0.07626857726938832, 0.12770552473013858, 0.32281118751229476, 0.40440082831210555, 0.06917382589549173, 0.1569781486508963, 0.8427247980206012, 0.19638561433592672, 0.800649043061855, 0.9941647190640399, 0.9769706097661415, 0.013760149433325937, 0.5244468843428799, 0.04302103348125187, 0.4240644728866256, 0.008194482567857498, 0.12630362542325058, 0.2033980461361438, 0.33872335908962653, 0.21159958025453668, 0.12056255154037554, 0.33891390710563263, 0.2525240876473341, 0.0009493386753659177, 0.20695583122977004, 0.20031046050220863, 0.9976269377605175, 0.18149547452101714, 0.14222452389366255, 0.09817737656838646, 0.1772499663450869, 0.40013914558142377, 0.848407286880991, 0.060736092125708525, 0.060736092125708525, 0.003796005757856783, 0.02657204030499748, 0.6974636832536265, 0.08385926983401373, 0.16158249553383136, 0.03477091676044472, 0.022498828492052467, 0.9928635251147633, 0.9971321415990408, 0.8959880424108277, 0.03343238964219507, 0.02674591171375605, 0.0033432389642195064, 0.043462106534853585, 0.9903836260682631, 0.00989031058402691, 0.024725776460067274, 0.8555118655183277, 0.09395795054825563, 0.00989031058402691, 0.9807216262342047, 0.9615636155954782, 0.02828128281163171, 0.9780075373045445, 0.07236317968162108, 0.0938041218095088, 0.8093955653277617, 0.008040353297957896, 0.016080706595915793, 0.446842606568247, 0.13159442458805978, 0.28343414526659033, 0.08098118436188295, 0.057843703115630675, 0.9966649715253004, 0.9955970570925409, 0.978886893005258, 0.02250974498011719, 0.07272379147422477, 0.6752923494035157, 0.22509744980117188, 0.005194556533873198, 0.9964819788615437, 0.14729587681844877, 0.19087453859905493, 0.2789034353958793, 0.24578365244261866, 0.1368369979911033, 0.32500654908161825, 0.39922385389072057, 0.15047354656350959, 0.0509734236326252, 0.0742173048091023, 0.9912342191930739, 0.9899349716568869, 0.07940344909333369, 0.12226326536530358, 0.17504851277394018, 0.2684377966507588, 0.3550597411162137, 0.156069177435404, 0.22578007668988445, 0.17479747872765247, 0.27364129110340835, 0.16959517281313902, 0.9777004728662058, 0.9939143617507485, 0.978088368464919, 0.9967184975445279], \"Term\": [\"000\", \"000\", \"000\", \"000\", \"000\", \"2004\", \"2004\", \"2004\", \"2004\", \"2004\", \"2005\", \"2005\", \"2005\", \"2005\", \"2005\", \"access\", \"access\", \"access\", \"actor\", \"actress\", \"aid\", \"aid\", \"aid\", \"airbus\", \"aircraft\", \"airline\", \"airline\", \"airlines\", \"album\", \"album\", \"also\", \"also\", \"also\", \"also\", \"also\", \"analysts\", \"analysts\", \"analysts\", \"anti\", \"anti\", \"anti\", \"apple\", \"apple\", \"arsenal\", \"assembly\", \"assembly\", \"assets\", \"assets\", \"assets\", \"athens\", \"athletes\", \"athletics\", \"auction\", \"auction\", \"aviator\", \"award\", \"award\", \"awards\", \"back\", \"back\", \"back\", \"back\", \"back\", \"baikal\", \"ball\", \"band\", \"band\", \"band\", \"bank\", \"bank\", \"bank\", \"bank\", \"bankruptcy\", \"bankruptcy\", \"bankruptcy\", \"barclays\", \"barrel\", \"bbc\", \"bbc\", \"bbc\", \"bbc\", \"bbc\", \"best\", \"best\", \"best\", \"best\", \"best\", \"blair\", \"blair\", \"blair\", \"blog\", \"blogs\", \"blunkett\", \"boeing\", \"boerse\", \"booming\", \"britain\", \"britain\", \"britain\", \"britain\", \"britain\", \"british\", \"british\", \"british\", \"british\", \"british\", \"broadband\", \"broadband\", \"brown\", \"brown\", \"brown\", \"bt\", \"budget\", \"budget\", \"budget\", \"budget\", \"captain\", \"captain\", \"celtic\", \"ceremony\", \"ceremony\", \"champions\", \"champions\", \"chancellor\", \"chancellor\", \"chart\", \"chelsea\", \"china\", \"china\", \"china\", \"club\", \"club\", \"club\", \"club\", \"coach\", \"coach\", \"comedy\", \"company\", \"company\", \"company\", \"company\", \"computer\", \"computer\", \"computer\", \"computers\", \"console\", \"content\", \"content\", \"content\", \"could\", \"could\", \"could\", \"could\", \"could\", \"countries\", \"countries\", \"countries\", \"countries\", \"countries\", \"country\", \"country\", \"country\", \"country\", \"country\", \"crude\", \"crude\", \"cup\", \"currency\", \"cuts\", \"cuts\", \"dance\", \"december\", \"december\", \"december\", \"december\", \"december\", \"demand\", \"demand\", \"demand\", \"demand\", \"demand\", \"digital\", \"digital\", \"digital\", \"digital\", \"director\", \"director\", \"director\", \"director\", \"director\", \"dollar\", \"dollar\", \"dollar\", \"download\", \"download\", \"download\", \"drama\", \"ds\", \"ebbers\", \"economic\", \"economic\", \"economic\", \"economist\", \"economists\", \"economists\", \"economy\", \"economy\", \"election\", \"election\", \"election\", \"elections\", \"elections\", \"england\", \"england\", \"england\", \"england\", \"england\", \"eu\", \"eu\", \"euronext\", \"expected\", \"expected\", \"expected\", \"expected\", \"expected\", \"exports\", \"fa\", \"federer\", \"festival\", \"fiat\", \"figures\", \"figures\", \"figures\", \"figures\", \"file\", \"film\", \"film\", \"film\", \"films\", \"films\", \"films\", \"final\", \"final\", \"final\", \"final\", \"final\", \"firm\", \"firm\", \"firm\", \"firm\", \"first\", \"first\", \"first\", \"first\", \"first\", \"football\", \"football\", \"football\", \"football\", \"football\", \"foxx\", \"g8\", \"game\", \"game\", \"game\", \"gamers\", \"games\", \"games\", \"games\", \"gaming\", \"gaming\", \"gara\", \"gas\", \"gazprom\", \"general\", \"general\", \"general\", \"general\", \"general\", \"get\", \"get\", \"get\", \"get\", \"get\", \"glazer\", \"gm\", \"goal\", \"goal\", \"goal\", \"goal\", \"goal\", \"good\", \"good\", \"good\", \"good\", \"good\", \"google\", \"government\", \"government\", \"government\", \"greek\", \"growth\", \"growth\", \"growth\", \"half\", \"half\", \"half\", \"half\", \"half\", \"handsets\", \"henman\", \"hiv\", \"hollywood\", \"hollywood\", \"holmes\", \"home\", \"home\", \"home\", \"home\", \"home\", \"howard\", \"howard\", \"howard\", \"howard\", \"howard\", \"however\", \"however\", \"however\", \"however\", \"however\", \"iaaf\", \"ibm\", \"index\", \"index\", \"index\", \"information\", \"information\", \"information\", \"information\", \"injury\", \"injury\", \"internet\", \"internet\", \"ireland\", \"ireland\", \"ireland\", \"ireland\", \"ireland\", \"japan\", \"japan\", \"japan\", \"japan\", \"japan\", \"kennedy\", \"kennedy\", \"kennedy\", \"kenteris\", \"khodorkovsky\", \"kilroy\", \"labour\", \"labour\", \"labour\", \"labour\", \"lanka\", \"last\", \"last\", \"last\", \"last\", \"last\", \"law\", \"law\", \"law\", \"law\", \"leader\", \"leader\", \"leader\", \"leader\", \"league\", \"league\", \"league\", \"lending\", \"like\", \"like\", \"like\", \"like\", \"like\", \"links\", \"lions\", \"liverpool\", \"local\", \"local\", \"local\", \"local\", \"local\", \"lord\", \"lord\", \"lord\", \"lord\", \"lords\", \"lse\", \"machines\", \"machines\", \"mail\", \"mail\", \"mail\", \"make\", \"make\", \"make\", \"make\", \"make\", \"malicious\", \"many\", \"many\", \"many\", \"many\", \"many\", \"market\", \"market\", \"market\", \"market\", \"markets\", \"markets\", \"markets\", \"mart\", \"match\", \"match\", \"matches\", \"messages\", \"messages\", \"microsoft\", \"microsoft\", \"milburn\", \"million\", \"million\", \"million\", \"million\", \"million\", \"minister\", \"minister\", \"minister\", \"money\", \"money\", \"money\", \"money\", \"money\", \"mourinho\", \"movie\", \"movie\", \"movie\", \"mr\", \"mr\", \"mr\", \"mr\", \"mr\", \"multimedia\", \"music\", \"music\", \"music\", \"music\", \"music\", \"musical\", \"nadal\", \"net\", \"net\", \"net\", \"net\", \"networks\", \"networks\", \"new\", \"new\", \"new\", \"new\", \"new\", \"nintendo\", \"nominated\", \"nominations\", \"number\", \"number\", \"number\", \"number\", \"number\", \"oil\", \"olympic\", \"olympic\", \"one\", \"one\", \"one\", \"one\", \"one\", \"online\", \"online\", \"online\", \"online\", \"oscar\", \"oscars\", \"parmalat\", \"party\", \"party\", \"party\", \"peer\", \"pension\", \"pensioners\", \"pensions\", \"people\", \"people\", \"people\", \"people\", \"people\", \"phone\", \"phone\", \"phone\", \"plans\", \"plans\", \"plans\", \"plans\", \"plans\", \"play\", \"play\", \"play\", \"play\", \"play\", \"player\", \"player\", \"player\", \"players\", \"players\", \"players\", \"players\", \"playing\", \"playing\", \"playing\", \"playing\", \"playing\", \"police\", \"police\", \"police\", \"policies\", \"policies\", \"poorest\", \"poverty\", \"premiership\", \"premiership\", \"prescott\", \"price\", \"price\", \"price\", \"price\", \"price\", \"prices\", \"prices\", \"prime\", \"prime\", \"prime\", \"prize\", \"prize\", \"prize\", \"profit\", \"profit\", \"profit\", \"profit\", \"profits\", \"profits\", \"programs\", \"public\", \"public\", \"public\", \"public\", \"public\", \"putin\", \"quarter\", \"quarter\", \"quarter\", \"quarter\", \"quarter\", \"rate\", \"rate\", \"rate\", \"rate\", \"rate\", \"rates\", \"rates\", \"rates\", \"recession\", \"record\", \"record\", \"record\", \"record\", \"record\", \"referee\", \"referendum\", \"reliance\", \"retail\", \"retailers\", \"rfid\", \"rights\", \"rights\", \"rights\", \"rights\", \"rise\", \"rise\", \"rise\", \"rise\", \"rise\", \"robinson\", \"rock\", \"rock\", \"rock\", \"roddick\", \"rose\", \"rose\", \"rose\", \"rosneft\", \"round\", \"round\", \"round\", \"rugby\", \"said\", \"said\", \"said\", \"said\", \"said\", \"sales\", \"sales\", \"sales\", \"sales\", \"says\", \"says\", \"says\", \"says\", \"says\", \"search\", \"search\", \"search\", \"season\", \"season\", \"season\", \"sec\", \"second\", \"second\", \"second\", \"second\", \"second\", \"security\", \"security\", \"security\", \"security\", \"seed\", \"service\", \"service\", \"service\", \"service\", \"service\", \"shares\", \"shares\", \"show\", \"show\", \"show\", \"show\", \"show\", \"side\", \"side\", \"side\", \"side\", \"side\", \"silk\", \"silk\", \"singer\", \"site\", \"site\", \"site\", \"sites\", \"six\", \"six\", \"six\", \"six\", \"six\", \"slam\", \"slam\", \"slowdown\", \"software\", \"software\", \"song\", \"spam\", \"squad\", \"squad\", \"sri\", \"star\", \"star\", \"starring\", \"stars\", \"stars\", \"striker\", \"suspects\", \"system\", \"system\", \"system\", \"system\", \"system\", \"takeover\", \"takeover\", \"tax\", \"tax\", \"team\", \"team\", \"team\", \"team\", \"team\", \"technology\", \"technology\", \"technology\", \"technology\", \"telephone\", \"tennis\", \"thanou\", \"theatre\", \"three\", \"three\", \"three\", \"three\", \"three\", \"time\", \"time\", \"time\", \"time\", \"time\", \"told\", \"told\", \"told\", \"told\", \"told\", \"tony\", \"tony\", \"tony\", \"tony\", \"top\", \"top\", \"top\", \"top\", \"top\", \"tories\", \"tories\", \"tory\", \"tory\", \"tournament\", \"turkey\", \"turkey\", \"tv\", \"tv\", \"tv\", \"tv\", \"two\", \"two\", \"two\", \"two\", \"two\", \"uk\", \"uk\", \"uk\", \"uk\", \"uk\", \"ukip\", \"us\", \"us\", \"us\", \"us\", \"us\", \"use\", \"use\", \"use\", \"use\", \"use\", \"used\", \"used\", \"used\", \"used\", \"used\", \"user\", \"users\", \"using\", \"using\", \"using\", \"using\", \"using\", \"veritas\", \"victory\", \"victory\", \"victory\", \"victory\", \"victory\", \"viruses\", \"wage\", \"wage\", \"wal\", \"wales\", \"wales\", \"wales\", \"wales\", \"wales\", \"way\", \"way\", \"way\", \"way\", \"way\", \"web\", \"websites\", \"wenger\", \"win\", \"win\", \"win\", \"win\", \"win\", \"windows\", \"world\", \"world\", \"world\", \"world\", \"world\", \"would\", \"would\", \"would\", \"would\", \"would\", \"xbox\", \"yahoo\", \"year\", \"year\", \"year\", \"year\", \"year\", \"years\", \"years\", \"years\", \"years\", \"years\", \"yen\", \"yugansk\", \"yuganskneftegas\", \"yukos\"]}, \"R\": 30, \"lambda.step\": 0.01, \"plot.opts\": {\"xlab\": \"PC1\", \"ylab\": \"PC2\"}, \"topic.order\": [5, 4, 3, 2, 1]};\n",
              "\n",
              "function LDAvis_load_lib(url, callback){\n",
              "  var s = document.createElement('script');\n",
              "  s.src = url;\n",
              "  s.async = true;\n",
              "  s.onreadystatechange = s.onload = callback;\n",
              "  s.onerror = function(){console.warn(\"failed to load library \" + url);};\n",
              "  document.getElementsByTagName(\"head\")[0].appendChild(s);\n",
              "}\n",
              "\n",
              "if(typeof(LDAvis) !== \"undefined\"){\n",
              "   // already loaded: just create the visualization\n",
              "   !function(LDAvis){\n",
              "       new LDAvis(\"#\" + \"ldavis_el1671403479302805607465358609\", ldavis_el1671403479302805607465358609_data);\n",
              "   }(LDAvis);\n",
              "}else if(typeof define === \"function\" && define.amd){\n",
              "   // require.js is available: use it to load d3/LDAvis\n",
              "   require.config({paths: {d3: \"https://d3js.org/d3.v5\"}});\n",
              "   require([\"d3\"], function(d3){\n",
              "      window.d3 = d3;\n",
              "      LDAvis_load_lib(\"https://cdn.jsdelivr.net/gh/bmabey/pyLDAvis@3.3.1/pyLDAvis/js/ldavis.v3.0.0.js\", function(){\n",
              "        new LDAvis(\"#\" + \"ldavis_el1671403479302805607465358609\", ldavis_el1671403479302805607465358609_data);\n",
              "      });\n",
              "    });\n",
              "}else{\n",
              "    // require.js not available: dynamically load d3 & LDAvis\n",
              "    LDAvis_load_lib(\"https://d3js.org/d3.v5.js\", function(){\n",
              "         LDAvis_load_lib(\"https://cdn.jsdelivr.net/gh/bmabey/pyLDAvis@3.3.1/pyLDAvis/js/ldavis.v3.0.0.js\", function(){\n",
              "                 new LDAvis(\"#\" + \"ldavis_el1671403479302805607465358609\", ldavis_el1671403479302805607465358609_data);\n",
              "            })\n",
              "         });\n",
              "}\n",
              "</script>"
            ]
          },
          "metadata": {},
          "execution_count": 40
        }
      ]
    },
    {
      "cell_type": "markdown",
      "source": [
        "**Why this plot?**\n",
        "\n",
        "The intertopic distance map is a visualization of the topics in a two-dimensional space. The area of these topic circles is proportional to the amount of words that belong to each topic across the dictionary. The circles are plotted using a multidimensional scaling algorithm based on the words they comprise, so topics that are closer together have more words in common.\n",
        "\n",
        "The bar chart by default shows the 30 most salient terms. The bars indicate the total frequency of the term across the entire corpus. Salient is a specific metric, defined at the bottom of the visualization, that can be thought of as a metric used to identify most informative or useful words for identifying topics in the entire collection of texts. Higher saliency values indicate that a word is more useful for identifying a specific topic. \n",
        "\n",
        "**Inference** \n",
        "\n",
        "The intertopic distance map tells us that our topics are well segregated. Topic 1 is the most commonly expressed topic. Topic 5 is the least expressed one.\n",
        "\n",
        "From the above graph we can see the top 30 term for each topic/category in our dataset. This represents the set of words most relevant to each category. Each term in here is extracted from a respective article set and based on their relevancy they're sorted out. Top 30 terms resembles keywords that were encountered the most throughout that category.\n",
        "\n",
        "**Business Implication**\n",
        "\n",
        "Marketing tactics for short run can be easily created using the observations.\n",
        "\n"
      ],
      "metadata": {
        "id": "lgDzq9kxmeYy"
      }
    },
    {
      "cell_type": "code",
      "source": [
        "# creating docterms dataframe\n",
        "docterms = lda_panel.token_table.sort_values(by = ['Freq'], ascending=False)"
      ],
      "metadata": {
        "id": "HCRFYWqyrAUp"
      },
      "execution_count": null,
      "outputs": []
    },
    {
      "cell_type": "code",
      "source": [
        "# display docterms df\n",
        "docterms"
      ],
      "metadata": {
        "colab": {
          "base_uri": "https://localhost:8080/",
          "height": 455
        },
        "id": "_f2e7d_0jprn",
        "outputId": "3bd1dc60-6ee2-4c40-b9e8-e5a104fd02b6"
      },
      "execution_count": null,
      "outputs": [
        {
          "output_type": "execute_result",
          "data": {
            "text/plain": [
              "      Topic      Freq     Term\n",
              "term                          \n",
              "3092      3  0.998036    rugby\n",
              "1453      4  0.997881     film\n",
              "3746      2  0.997627     ukip\n",
              "3072      3  0.997438  roddick\n",
              "403       4  0.997423   awards\n",
              "...     ...       ...      ...\n",
              "2049      4  0.001286   labour\n",
              "1453      3  0.001212     film\n",
              "1453      1  0.001212     film\n",
              "3745      3  0.000949       uk\n",
              "2377      3  0.000351       mr\n",
              "\n",
              "[838 rows x 3 columns]"
            ],
            "text/html": [
              "\n",
              "  <div id=\"df-422f2d2c-d274-468a-879e-21905fbfe724\">\n",
              "    <div class=\"colab-df-container\">\n",
              "      <div>\n",
              "<style scoped>\n",
              "    .dataframe tbody tr th:only-of-type {\n",
              "        vertical-align: middle;\n",
              "    }\n",
              "\n",
              "    .dataframe tbody tr th {\n",
              "        vertical-align: top;\n",
              "    }\n",
              "\n",
              "    .dataframe thead th {\n",
              "        text-align: right;\n",
              "    }\n",
              "</style>\n",
              "<table border=\"1\" class=\"dataframe\">\n",
              "  <thead>\n",
              "    <tr style=\"text-align: right;\">\n",
              "      <th></th>\n",
              "      <th>Topic</th>\n",
              "      <th>Freq</th>\n",
              "      <th>Term</th>\n",
              "    </tr>\n",
              "    <tr>\n",
              "      <th>term</th>\n",
              "      <th></th>\n",
              "      <th></th>\n",
              "      <th></th>\n",
              "    </tr>\n",
              "  </thead>\n",
              "  <tbody>\n",
              "    <tr>\n",
              "      <th>3092</th>\n",
              "      <td>3</td>\n",
              "      <td>0.998036</td>\n",
              "      <td>rugby</td>\n",
              "    </tr>\n",
              "    <tr>\n",
              "      <th>1453</th>\n",
              "      <td>4</td>\n",
              "      <td>0.997881</td>\n",
              "      <td>film</td>\n",
              "    </tr>\n",
              "    <tr>\n",
              "      <th>3746</th>\n",
              "      <td>2</td>\n",
              "      <td>0.997627</td>\n",
              "      <td>ukip</td>\n",
              "    </tr>\n",
              "    <tr>\n",
              "      <th>3072</th>\n",
              "      <td>3</td>\n",
              "      <td>0.997438</td>\n",
              "      <td>roddick</td>\n",
              "    </tr>\n",
              "    <tr>\n",
              "      <th>403</th>\n",
              "      <td>4</td>\n",
              "      <td>0.997423</td>\n",
              "      <td>awards</td>\n",
              "    </tr>\n",
              "    <tr>\n",
              "      <th>...</th>\n",
              "      <td>...</td>\n",
              "      <td>...</td>\n",
              "      <td>...</td>\n",
              "    </tr>\n",
              "    <tr>\n",
              "      <th>2049</th>\n",
              "      <td>4</td>\n",
              "      <td>0.001286</td>\n",
              "      <td>labour</td>\n",
              "    </tr>\n",
              "    <tr>\n",
              "      <th>1453</th>\n",
              "      <td>3</td>\n",
              "      <td>0.001212</td>\n",
              "      <td>film</td>\n",
              "    </tr>\n",
              "    <tr>\n",
              "      <th>1453</th>\n",
              "      <td>1</td>\n",
              "      <td>0.001212</td>\n",
              "      <td>film</td>\n",
              "    </tr>\n",
              "    <tr>\n",
              "      <th>3745</th>\n",
              "      <td>3</td>\n",
              "      <td>0.000949</td>\n",
              "      <td>uk</td>\n",
              "    </tr>\n",
              "    <tr>\n",
              "      <th>2377</th>\n",
              "      <td>3</td>\n",
              "      <td>0.000351</td>\n",
              "      <td>mr</td>\n",
              "    </tr>\n",
              "  </tbody>\n",
              "</table>\n",
              "<p>838 rows × 3 columns</p>\n",
              "</div>\n",
              "      <button class=\"colab-df-convert\" onclick=\"convertToInteractive('df-422f2d2c-d274-468a-879e-21905fbfe724')\"\n",
              "              title=\"Convert this dataframe to an interactive table.\"\n",
              "              style=\"display:none;\">\n",
              "        \n",
              "  <svg xmlns=\"http://www.w3.org/2000/svg\" height=\"24px\"viewBox=\"0 0 24 24\"\n",
              "       width=\"24px\">\n",
              "    <path d=\"M0 0h24v24H0V0z\" fill=\"none\"/>\n",
              "    <path d=\"M18.56 5.44l.94 2.06.94-2.06 2.06-.94-2.06-.94-.94-2.06-.94 2.06-2.06.94zm-11 1L8.5 8.5l.94-2.06 2.06-.94-2.06-.94L8.5 2.5l-.94 2.06-2.06.94zm10 10l.94 2.06.94-2.06 2.06-.94-2.06-.94-.94-2.06-.94 2.06-2.06.94z\"/><path d=\"M17.41 7.96l-1.37-1.37c-.4-.4-.92-.59-1.43-.59-.52 0-1.04.2-1.43.59L10.3 9.45l-7.72 7.72c-.78.78-.78 2.05 0 2.83L4 21.41c.39.39.9.59 1.41.59.51 0 1.02-.2 1.41-.59l7.78-7.78 2.81-2.81c.8-.78.8-2.07 0-2.86zM5.41 20L4 18.59l7.72-7.72 1.47 1.35L5.41 20z\"/>\n",
              "  </svg>\n",
              "      </button>\n",
              "      \n",
              "  <style>\n",
              "    .colab-df-container {\n",
              "      display:flex;\n",
              "      flex-wrap:wrap;\n",
              "      gap: 12px;\n",
              "    }\n",
              "\n",
              "    .colab-df-convert {\n",
              "      background-color: #E8F0FE;\n",
              "      border: none;\n",
              "      border-radius: 50%;\n",
              "      cursor: pointer;\n",
              "      display: none;\n",
              "      fill: #1967D2;\n",
              "      height: 32px;\n",
              "      padding: 0 0 0 0;\n",
              "      width: 32px;\n",
              "    }\n",
              "\n",
              "    .colab-df-convert:hover {\n",
              "      background-color: #E2EBFA;\n",
              "      box-shadow: 0px 1px 2px rgba(60, 64, 67, 0.3), 0px 1px 3px 1px rgba(60, 64, 67, 0.15);\n",
              "      fill: #174EA6;\n",
              "    }\n",
              "\n",
              "    [theme=dark] .colab-df-convert {\n",
              "      background-color: #3B4455;\n",
              "      fill: #D2E3FC;\n",
              "    }\n",
              "\n",
              "    [theme=dark] .colab-df-convert:hover {\n",
              "      background-color: #434B5C;\n",
              "      box-shadow: 0px 1px 3px 1px rgba(0, 0, 0, 0.15);\n",
              "      filter: drop-shadow(0px 1px 2px rgba(0, 0, 0, 0.3));\n",
              "      fill: #FFFFFF;\n",
              "    }\n",
              "  </style>\n",
              "\n",
              "      <script>\n",
              "        const buttonEl =\n",
              "          document.querySelector('#df-422f2d2c-d274-468a-879e-21905fbfe724 button.colab-df-convert');\n",
              "        buttonEl.style.display =\n",
              "          google.colab.kernel.accessAllowed ? 'block' : 'none';\n",
              "\n",
              "        async function convertToInteractive(key) {\n",
              "          const element = document.querySelector('#df-422f2d2c-d274-468a-879e-21905fbfe724');\n",
              "          const dataTable =\n",
              "            await google.colab.kernel.invokeFunction('convertToInteractive',\n",
              "                                                     [key], {});\n",
              "          if (!dataTable) return;\n",
              "\n",
              "          const docLinkHtml = 'Like what you see? Visit the ' +\n",
              "            '<a target=\"_blank\" href=https://colab.research.google.com/notebooks/data_table.ipynb>data table notebook</a>'\n",
              "            + ' to learn more about interactive tables.';\n",
              "          element.innerHTML = '';\n",
              "          dataTable['output_type'] = 'display_data';\n",
              "          await google.colab.output.renderOutput(dataTable, element);\n",
              "          const docLink = document.createElement('div');\n",
              "          docLink.innerHTML = docLinkHtml;\n",
              "          element.appendChild(docLink);\n",
              "        }\n",
              "      </script>\n",
              "    </div>\n",
              "  </div>\n",
              "  "
            ]
          },
          "metadata": {},
          "execution_count": 42
        }
      ]
    },
    {
      "cell_type": "markdown",
      "source": [
        "Here we can see all the terms with their respective frequencies belonging to each topic/category. We can use this data to develop wordclouds for each topic to represent all relevant terms for that category.\n",
        "\n",
        "**Creating Dataframe to contain top 50 terms by topic.**"
      ],
      "metadata": {
        "id": "oU0qh8i_nffT"
      }
    },
    {
      "cell_type": "code",
      "source": [
        "# create topics dataframe\n",
        "topicsdf = pd.DataFrame()"
      ],
      "metadata": {
        "id": "Ew15mOu3g6nE"
      },
      "execution_count": null,
      "outputs": []
    },
    {
      "cell_type": "code",
      "source": [
        "# adding top 50 most relevant terms for each topic to the dataframe\n",
        "for i in range(1,6):\n",
        "  Topicdict ={ \"Topic\":i, \"Terms\":list(docterms[docterms['Topic']==i]['Term'].head(50))  }\n",
        "  topicsdf=topicsdf.append(Topicdict,ignore_index=True)\n",
        "topicsdf"
      ],
      "metadata": {
        "id": "3Lk7DnOtfOem",
        "colab": {
          "base_uri": "https://localhost:8080/",
          "height": 206
        },
        "outputId": "9d51642a-3c24-4022-af21-1478dd6738fc"
      },
      "execution_count": null,
      "outputs": [
        {
          "output_type": "execute_result",
          "data": {
            "text/plain": [
              "   Topic                                              Terms\n",
              "0    1.0  [sites, users, web, windows, websites, spam, f...\n",
              "1    2.0  [ukip, parmalat, pensioners, g8, airbus, poore...\n",
              "2    3.0  [rugby, roddick, cup, nintendo, ball, chelsea,...\n",
              "3    4.0  [film, awards, actor, actress, nominated, musi...\n",
              "4    5.0  [exports, yukos, oil, yugansk, rosneft, gas, e..."
            ],
            "text/html": [
              "\n",
              "  <div id=\"df-5aa55b6b-adce-491f-8ae3-ab78840ed54c\">\n",
              "    <div class=\"colab-df-container\">\n",
              "      <div>\n",
              "<style scoped>\n",
              "    .dataframe tbody tr th:only-of-type {\n",
              "        vertical-align: middle;\n",
              "    }\n",
              "\n",
              "    .dataframe tbody tr th {\n",
              "        vertical-align: top;\n",
              "    }\n",
              "\n",
              "    .dataframe thead th {\n",
              "        text-align: right;\n",
              "    }\n",
              "</style>\n",
              "<table border=\"1\" class=\"dataframe\">\n",
              "  <thead>\n",
              "    <tr style=\"text-align: right;\">\n",
              "      <th></th>\n",
              "      <th>Topic</th>\n",
              "      <th>Terms</th>\n",
              "    </tr>\n",
              "  </thead>\n",
              "  <tbody>\n",
              "    <tr>\n",
              "      <th>0</th>\n",
              "      <td>1.0</td>\n",
              "      <td>[sites, users, web, windows, websites, spam, f...</td>\n",
              "    </tr>\n",
              "    <tr>\n",
              "      <th>1</th>\n",
              "      <td>2.0</td>\n",
              "      <td>[ukip, parmalat, pensioners, g8, airbus, poore...</td>\n",
              "    </tr>\n",
              "    <tr>\n",
              "      <th>2</th>\n",
              "      <td>3.0</td>\n",
              "      <td>[rugby, roddick, cup, nintendo, ball, chelsea,...</td>\n",
              "    </tr>\n",
              "    <tr>\n",
              "      <th>3</th>\n",
              "      <td>4.0</td>\n",
              "      <td>[film, awards, actor, actress, nominated, musi...</td>\n",
              "    </tr>\n",
              "    <tr>\n",
              "      <th>4</th>\n",
              "      <td>5.0</td>\n",
              "      <td>[exports, yukos, oil, yugansk, rosneft, gas, e...</td>\n",
              "    </tr>\n",
              "  </tbody>\n",
              "</table>\n",
              "</div>\n",
              "      <button class=\"colab-df-convert\" onclick=\"convertToInteractive('df-5aa55b6b-adce-491f-8ae3-ab78840ed54c')\"\n",
              "              title=\"Convert this dataframe to an interactive table.\"\n",
              "              style=\"display:none;\">\n",
              "        \n",
              "  <svg xmlns=\"http://www.w3.org/2000/svg\" height=\"24px\"viewBox=\"0 0 24 24\"\n",
              "       width=\"24px\">\n",
              "    <path d=\"M0 0h24v24H0V0z\" fill=\"none\"/>\n",
              "    <path d=\"M18.56 5.44l.94 2.06.94-2.06 2.06-.94-2.06-.94-.94-2.06-.94 2.06-2.06.94zm-11 1L8.5 8.5l.94-2.06 2.06-.94-2.06-.94L8.5 2.5l-.94 2.06-2.06.94zm10 10l.94 2.06.94-2.06 2.06-.94-2.06-.94-.94-2.06-.94 2.06-2.06.94z\"/><path d=\"M17.41 7.96l-1.37-1.37c-.4-.4-.92-.59-1.43-.59-.52 0-1.04.2-1.43.59L10.3 9.45l-7.72 7.72c-.78.78-.78 2.05 0 2.83L4 21.41c.39.39.9.59 1.41.59.51 0 1.02-.2 1.41-.59l7.78-7.78 2.81-2.81c.8-.78.8-2.07 0-2.86zM5.41 20L4 18.59l7.72-7.72 1.47 1.35L5.41 20z\"/>\n",
              "  </svg>\n",
              "      </button>\n",
              "      \n",
              "  <style>\n",
              "    .colab-df-container {\n",
              "      display:flex;\n",
              "      flex-wrap:wrap;\n",
              "      gap: 12px;\n",
              "    }\n",
              "\n",
              "    .colab-df-convert {\n",
              "      background-color: #E8F0FE;\n",
              "      border: none;\n",
              "      border-radius: 50%;\n",
              "      cursor: pointer;\n",
              "      display: none;\n",
              "      fill: #1967D2;\n",
              "      height: 32px;\n",
              "      padding: 0 0 0 0;\n",
              "      width: 32px;\n",
              "    }\n",
              "\n",
              "    .colab-df-convert:hover {\n",
              "      background-color: #E2EBFA;\n",
              "      box-shadow: 0px 1px 2px rgba(60, 64, 67, 0.3), 0px 1px 3px 1px rgba(60, 64, 67, 0.15);\n",
              "      fill: #174EA6;\n",
              "    }\n",
              "\n",
              "    [theme=dark] .colab-df-convert {\n",
              "      background-color: #3B4455;\n",
              "      fill: #D2E3FC;\n",
              "    }\n",
              "\n",
              "    [theme=dark] .colab-df-convert:hover {\n",
              "      background-color: #434B5C;\n",
              "      box-shadow: 0px 1px 3px 1px rgba(0, 0, 0, 0.15);\n",
              "      filter: drop-shadow(0px 1px 2px rgba(0, 0, 0, 0.3));\n",
              "      fill: #FFFFFF;\n",
              "    }\n",
              "  </style>\n",
              "\n",
              "      <script>\n",
              "        const buttonEl =\n",
              "          document.querySelector('#df-5aa55b6b-adce-491f-8ae3-ab78840ed54c button.colab-df-convert');\n",
              "        buttonEl.style.display =\n",
              "          google.colab.kernel.accessAllowed ? 'block' : 'none';\n",
              "\n",
              "        async function convertToInteractive(key) {\n",
              "          const element = document.querySelector('#df-5aa55b6b-adce-491f-8ae3-ab78840ed54c');\n",
              "          const dataTable =\n",
              "            await google.colab.kernel.invokeFunction('convertToInteractive',\n",
              "                                                     [key], {});\n",
              "          if (!dataTable) return;\n",
              "\n",
              "          const docLinkHtml = 'Like what you see? Visit the ' +\n",
              "            '<a target=\"_blank\" href=https://colab.research.google.com/notebooks/data_table.ipynb>data table notebook</a>'\n",
              "            + ' to learn more about interactive tables.';\n",
              "          element.innerHTML = '';\n",
              "          dataTable['output_type'] = 'display_data';\n",
              "          await google.colab.output.renderOutput(dataTable, element);\n",
              "          const docLink = document.createElement('div');\n",
              "          docLink.innerHTML = docLinkHtml;\n",
              "          element.appendChild(docLink);\n",
              "        }\n",
              "      </script>\n",
              "    </div>\n",
              "  </div>\n",
              "  "
            ]
          },
          "metadata": {},
          "execution_count": 44
        }
      ]
    }
  ]
}